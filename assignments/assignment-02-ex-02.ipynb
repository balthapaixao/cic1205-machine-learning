{
 "cells": [
  {
   "cell_type": "markdown",
   "metadata": {},
   "source": [
    "# Assignment 2 - CIC-1205\n",
    "\n",
    "## Exercise 2 - Cross Validation\n",
    "\n",
    "Student: Balthazar Paixão\n"
   ]
  },
  {
   "cell_type": "code",
   "execution_count": 1,
   "metadata": {},
   "outputs": [],
   "source": [
    "data_folder = \"../class-repo/cic1205/data/atmoseer/\"\n",
    "pickle_files = [\n",
    "    \"A602.pickle\",\n",
    "    \"A621.pickle\",\n",
    "    \"A627.pickle\",\n",
    "    \"A636.pickle\",\n",
    "    \"A652.pickle\",\n",
    "]"
   ]
  },
  {
   "cell_type": "code",
   "execution_count": 2,
   "metadata": {},
   "outputs": [],
   "source": [
    "import numpy as np\n",
    "import pickle\n",
    "import pandas as pd\n",
    "\n",
    "from sklearn.model_selection import StratifiedKFold\n",
    "from sklearn.model_selection import GridSearchCV\n",
    "from sklearn.ensemble import GradientBoostingClassifier\n",
    "\n",
    "from sklearn.metrics import classification_report, confusion_matrix\n",
    "\n",
    "import warnings\n",
    "warnings.filterwarnings(\"ignore\")"
   ]
  },
  {
   "cell_type": "code",
   "execution_count": 3,
   "metadata": {},
   "outputs": [],
   "source": [
    "SEED = 57\n",
    "\n",
    "\n",
    "def transform_array(arr: np.ndarray) -> list:\n",
    "    elems_list = [[1] if elem[0] != 0 else [0] for elem in arr]\n",
    "    elems_array = np.array(elems_list)\n",
    "    return elems_array\n",
    "\n",
    "\n",
    "def count_values_list(lst: list) -> dict:\n",
    "    if isinstance(lst, np.ndarray):\n",
    "        try:\n",
    "            lst = [1 if elem[0] != 0 else 0 for elem in lst]\n",
    "        except IndexError:\n",
    "            lst = [1 if elem != 0 else 0 for elem in lst]\n",
    "    elif isinstance(lst, np.array):\n",
    "        lst = lst.tolist()\n",
    "    elif isinstance(lst, pd.Series):\n",
    "        lst = lst.tolist()\n",
    "\n",
    "    elems = set(lst)\n",
    "    dict_counter = {elem: lst.count(elem) for elem in elems}\n",
    "\n",
    "    return dict_counter"
   ]
  },
  {
   "cell_type": "markdown",
   "metadata": {},
   "source": [
    "# A602\n"
   ]
  },
  {
   "cell_type": "code",
   "execution_count": 4,
   "metadata": {},
   "outputs": [
    {
     "name": "stdout",
     "output_type": "stream",
     "text": [
      "Shapes:  (12743, 24) (765, 24)\n"
     ]
    }
   ],
   "source": [
    "a602 = f\"{data_folder}{pickle_files[0]}\"\n",
    "file = open(a602, \"rb\")\n",
    "(X_train, y_train, X_val, y_val, X_test, y_test) = pickle.load(file)\n",
    "\n",
    "y_train = transform_array(y_train)\n",
    "y_val = transform_array(y_val)\n",
    "y_test = transform_array(y_test)\n",
    "\n",
    "X_train = np.concatenate((X_train, X_val), axis=0)\n",
    "y_train = np.concatenate((y_train, y_val), axis=0)\n",
    "\n",
    "print(f\"Shapes: \", X_train.shape, X_test.shape)"
   ]
  },
  {
   "cell_type": "code",
   "execution_count": 5,
   "metadata": {},
   "outputs": [
    {
     "data": {
      "text/html": [
       "<style>#sk-container-id-1 {color: black;}#sk-container-id-1 pre{padding: 0;}#sk-container-id-1 div.sk-toggleable {background-color: white;}#sk-container-id-1 label.sk-toggleable__label {cursor: pointer;display: block;width: 100%;margin-bottom: 0;padding: 0.3em;box-sizing: border-box;text-align: center;}#sk-container-id-1 label.sk-toggleable__label-arrow:before {content: \"▸\";float: left;margin-right: 0.25em;color: #696969;}#sk-container-id-1 label.sk-toggleable__label-arrow:hover:before {color: black;}#sk-container-id-1 div.sk-estimator:hover label.sk-toggleable__label-arrow:before {color: black;}#sk-container-id-1 div.sk-toggleable__content {max-height: 0;max-width: 0;overflow: hidden;text-align: left;background-color: #f0f8ff;}#sk-container-id-1 div.sk-toggleable__content pre {margin: 0.2em;color: black;border-radius: 0.25em;background-color: #f0f8ff;}#sk-container-id-1 input.sk-toggleable__control:checked~div.sk-toggleable__content {max-height: 200px;max-width: 100%;overflow: auto;}#sk-container-id-1 input.sk-toggleable__control:checked~label.sk-toggleable__label-arrow:before {content: \"▾\";}#sk-container-id-1 div.sk-estimator input.sk-toggleable__control:checked~label.sk-toggleable__label {background-color: #d4ebff;}#sk-container-id-1 div.sk-label input.sk-toggleable__control:checked~label.sk-toggleable__label {background-color: #d4ebff;}#sk-container-id-1 input.sk-hidden--visually {border: 0;clip: rect(1px 1px 1px 1px);clip: rect(1px, 1px, 1px, 1px);height: 1px;margin: -1px;overflow: hidden;padding: 0;position: absolute;width: 1px;}#sk-container-id-1 div.sk-estimator {font-family: monospace;background-color: #f0f8ff;border: 1px dotted black;border-radius: 0.25em;box-sizing: border-box;margin-bottom: 0.5em;}#sk-container-id-1 div.sk-estimator:hover {background-color: #d4ebff;}#sk-container-id-1 div.sk-parallel-item::after {content: \"\";width: 100%;border-bottom: 1px solid gray;flex-grow: 1;}#sk-container-id-1 div.sk-label:hover label.sk-toggleable__label {background-color: #d4ebff;}#sk-container-id-1 div.sk-serial::before {content: \"\";position: absolute;border-left: 1px solid gray;box-sizing: border-box;top: 0;bottom: 0;left: 50%;z-index: 0;}#sk-container-id-1 div.sk-serial {display: flex;flex-direction: column;align-items: center;background-color: white;padding-right: 0.2em;padding-left: 0.2em;position: relative;}#sk-container-id-1 div.sk-item {position: relative;z-index: 1;}#sk-container-id-1 div.sk-parallel {display: flex;align-items: stretch;justify-content: center;background-color: white;position: relative;}#sk-container-id-1 div.sk-item::before, #sk-container-id-1 div.sk-parallel-item::before {content: \"\";position: absolute;border-left: 1px solid gray;box-sizing: border-box;top: 0;bottom: 0;left: 50%;z-index: -1;}#sk-container-id-1 div.sk-parallel-item {display: flex;flex-direction: column;z-index: 1;position: relative;background-color: white;}#sk-container-id-1 div.sk-parallel-item:first-child::after {align-self: flex-end;width: 50%;}#sk-container-id-1 div.sk-parallel-item:last-child::after {align-self: flex-start;width: 50%;}#sk-container-id-1 div.sk-parallel-item:only-child::after {width: 0;}#sk-container-id-1 div.sk-dashed-wrapped {border: 1px dashed gray;margin: 0 0.4em 0.5em 0.4em;box-sizing: border-box;padding-bottom: 0.4em;background-color: white;}#sk-container-id-1 div.sk-label label {font-family: monospace;font-weight: bold;display: inline-block;line-height: 1.2em;}#sk-container-id-1 div.sk-label-container {text-align: center;}#sk-container-id-1 div.sk-container {/* jupyter's `normalize.less` sets `[hidden] { display: none; }` but bootstrap.min.css set `[hidden] { display: none !important; }` so we also need the `!important` here to be able to override the default hidden behavior on the sphinx rendered scikit-learn.org. See: https://github.com/scikit-learn/scikit-learn/issues/21755 */display: inline-block !important;position: relative;}#sk-container-id-1 div.sk-text-repr-fallback {display: none;}</style><div id=\"sk-container-id-1\" class=\"sk-top-container\"><div class=\"sk-text-repr-fallback\"><pre>GridSearchCV(cv=StratifiedKFold(n_splits=5, random_state=57, shuffle=True),\n",
       "             estimator=GradientBoostingClassifier(random_state=57), n_jobs=-1,\n",
       "             param_grid={&#x27;learning_rate&#x27;: [0.1, 0.05, 0.02, 0.01],\n",
       "                         &#x27;loss&#x27;: [&#x27;deviance&#x27;, &#x27;exponential&#x27;],\n",
       "                         &#x27;max_depth&#x27;: [2, 3, 4],\n",
       "                         &#x27;n_estimators&#x27;: [50, 100, 200]},\n",
       "             scoring=&#x27;f1_macro&#x27;)</pre><b>In a Jupyter environment, please rerun this cell to show the HTML representation or trust the notebook. <br />On GitHub, the HTML representation is unable to render, please try loading this page with nbviewer.org.</b></div><div class=\"sk-container\" hidden><div class=\"sk-item sk-dashed-wrapped\"><div class=\"sk-label-container\"><div class=\"sk-label sk-toggleable\"><input class=\"sk-toggleable__control sk-hidden--visually\" id=\"sk-estimator-id-1\" type=\"checkbox\" ><label for=\"sk-estimator-id-1\" class=\"sk-toggleable__label sk-toggleable__label-arrow\">GridSearchCV</label><div class=\"sk-toggleable__content\"><pre>GridSearchCV(cv=StratifiedKFold(n_splits=5, random_state=57, shuffle=True),\n",
       "             estimator=GradientBoostingClassifier(random_state=57), n_jobs=-1,\n",
       "             param_grid={&#x27;learning_rate&#x27;: [0.1, 0.05, 0.02, 0.01],\n",
       "                         &#x27;loss&#x27;: [&#x27;deviance&#x27;, &#x27;exponential&#x27;],\n",
       "                         &#x27;max_depth&#x27;: [2, 3, 4],\n",
       "                         &#x27;n_estimators&#x27;: [50, 100, 200]},\n",
       "             scoring=&#x27;f1_macro&#x27;)</pre></div></div></div><div class=\"sk-parallel\"><div class=\"sk-parallel-item\"><div class=\"sk-item\"><div class=\"sk-label-container\"><div class=\"sk-label sk-toggleable\"><input class=\"sk-toggleable__control sk-hidden--visually\" id=\"sk-estimator-id-2\" type=\"checkbox\" ><label for=\"sk-estimator-id-2\" class=\"sk-toggleable__label sk-toggleable__label-arrow\">estimator: GradientBoostingClassifier</label><div class=\"sk-toggleable__content\"><pre>GradientBoostingClassifier(random_state=57)</pre></div></div></div><div class=\"sk-serial\"><div class=\"sk-item\"><div class=\"sk-estimator sk-toggleable\"><input class=\"sk-toggleable__control sk-hidden--visually\" id=\"sk-estimator-id-3\" type=\"checkbox\" ><label for=\"sk-estimator-id-3\" class=\"sk-toggleable__label sk-toggleable__label-arrow\">GradientBoostingClassifier</label><div class=\"sk-toggleable__content\"><pre>GradientBoostingClassifier(random_state=57)</pre></div></div></div></div></div></div></div></div></div></div>"
      ],
      "text/plain": [
       "GridSearchCV(cv=StratifiedKFold(n_splits=5, random_state=57, shuffle=True),\n",
       "             estimator=GradientBoostingClassifier(random_state=57), n_jobs=-1,\n",
       "             param_grid={'learning_rate': [0.1, 0.05, 0.02, 0.01],\n",
       "                         'loss': ['deviance', 'exponential'],\n",
       "                         'max_depth': [2, 3, 4],\n",
       "                         'n_estimators': [50, 100, 200]},\n",
       "             scoring='f1_macro')"
      ]
     },
     "execution_count": 5,
     "metadata": {},
     "output_type": "execute_result"
    }
   ],
   "source": [
    "params = {\n",
    "    'loss': ['deviance', 'exponential'],\n",
    "    \"learning_rate\": [0.1, 0.05, 0.02, 0.01],\n",
    "    \"n_estimators\": [50, 100, 200],\n",
    "    \"max_depth\": [2, 3, 4],\n",
    "}\n",
    "\n",
    "k_folds = 5\n",
    "\n",
    "\n",
    "skf = StratifiedKFold(n_splits=k_folds, shuffle=True, random_state=SEED)\n",
    "gb = GradientBoostingClassifier(random_state=SEED)\n",
    "\n",
    "grid_search = GridSearchCV(gb, params, scoring=\"f1_macro\", cv=skf, n_jobs=-1)\n",
    "grid_search.fit(X_train, y_train.ravel())"
   ]
  },
  {
   "cell_type": "code",
   "execution_count": 6,
   "metadata": {},
   "outputs": [
    {
     "name": "stdout",
     "output_type": "stream",
     "text": [
      "Best params: {'learning_rate': 0.05, 'loss': 'exponential', 'max_depth': 2, 'n_estimators': 200}\n",
      "Best score: 0.7822973288959998\n",
      "Best estimator: GradientBoostingClassifier(learning_rate=0.05, loss='exponential', max_depth=2,\n",
      "                           n_estimators=200, random_state=57)\n",
      "Best index: 29\n"
     ]
    }
   ],
   "source": [
    "print(f\"Best params: {grid_search.best_params_}\")\n",
    "print(f\"Best score: {grid_search.best_score_}\")\n",
    "print(f\"Best estimator: {grid_search.best_estimator_}\")\n",
    "print(f\"Best index: {grid_search.best_index_}\")"
   ]
  },
  {
   "cell_type": "code",
   "execution_count": 7,
   "metadata": {},
   "outputs": [
    {
     "name": "stdout",
     "output_type": "stream",
     "text": [
      "Confusion matrix:\n",
      "[[638  35]\n",
      " [ 44  48]]\n",
      "Classification report:\n",
      "              precision    recall  f1-score   support\n",
      "\n",
      "           0       0.94      0.95      0.94       673\n",
      "           1       0.58      0.52      0.55        92\n",
      "\n",
      "    accuracy                           0.90       765\n",
      "   macro avg       0.76      0.73      0.75       765\n",
      "weighted avg       0.89      0.90      0.89       765\n",
      "\n"
     ]
    }
   ],
   "source": [
    "GB = GradientBoostingClassifier(\n",
    "    **grid_search.best_params_, random_state=SEED\n",
    ")\n",
    "GB.fit(X_train, y_train.ravel())\n",
    "\n",
    "y_pred = GB.predict(X_test)\n",
    "\n",
    "print(f\"Confusion matrix:\\n{confusion_matrix(y_test, y_pred)}\")\n",
    "print(f\"Classification report:\\n{classification_report(y_test, y_pred)}\")\n"
   ]
  },
  {
   "cell_type": "markdown",
   "metadata": {},
   "source": [
    "# A621\n"
   ]
  },
  {
   "cell_type": "code",
   "execution_count": 8,
   "metadata": {},
   "outputs": [
    {
     "name": "stdout",
     "output_type": "stream",
     "text": [
      "Shapes:  (11977, 24) (10080, 24)\n"
     ]
    }
   ],
   "source": [
    "a621 = f\"{data_folder}{pickle_files[1]}\"\n",
    "file = open(a621, \"rb\")\n",
    "(X_train, y_train, X_val, y_val, X_test, y_test) = pickle.load(file)\n",
    "\n",
    "X_train = np.concatenate((X_train, X_val), axis=0)\n",
    "y_train = np.concatenate((y_train, y_val), axis=0)\n",
    "\n",
    "print(f\"Shapes: \", X_train.shape, X_test.shape)"
   ]
  },
  {
   "cell_type": "code",
   "execution_count": 9,
   "metadata": {},
   "outputs": [
    {
     "name": "stdout",
     "output_type": "stream",
     "text": [
      "y_train: {0: 10987, 1: 990}\n",
      "y_test:  {0: 9147, 1: 933}\n"
     ]
    }
   ],
   "source": [
    "y_train = transform_array(y_train)\n",
    "print(f\"y_train: {count_values_list(y_train)}\")\n",
    "y_test = transform_array(y_test)\n",
    "print(f\"y_test:  {count_values_list(y_test)}\")"
   ]
  },
  {
   "cell_type": "code",
   "execution_count": 10,
   "metadata": {},
   "outputs": [
    {
     "name": "stdout",
     "output_type": "stream",
     "text": [
      "Best params: {'learning_rate': 0.1, 'loss': 'exponential', 'max_depth': 2, 'n_estimators': 100}\n",
      "Best score: 0.7662423958036096\n",
      "Best estimator: GradientBoostingClassifier(loss='exponential', max_depth=2, random_state=57)\n",
      "Best index: 10\n"
     ]
    }
   ],
   "source": [
    "params = {\n",
    "    'loss': ['deviance', 'exponential'],\n",
    "    \"learning_rate\": [0.1, 0.05, 0.02, 0.01],\n",
    "    \"n_estimators\": [50, 100, 200],\n",
    "    \"max_depth\": [2, 3, 4],\n",
    "}\n",
    "\n",
    "k_folds = 5\n",
    "\n",
    "\n",
    "skf = StratifiedKFold(n_splits=k_folds, shuffle=True, random_state=SEED)\n",
    "gb = GradientBoostingClassifier(random_state=SEED)\n",
    "\n",
    "grid_search = GridSearchCV(gb, params, scoring=\"f1_macro\", cv=skf, n_jobs=-1)\n",
    "grid_search.fit(X_train, y_train.ravel())\n",
    "\n",
    "print(f\"Best params: {grid_search.best_params_}\")\n",
    "print(f\"Best score: {grid_search.best_score_}\")\n",
    "print(f\"Best estimator: {grid_search.best_estimator_}\")\n",
    "print(f\"Best index: {grid_search.best_index_}\")"
   ]
  },
  {
   "cell_type": "code",
   "execution_count": 11,
   "metadata": {},
   "outputs": [
    {
     "name": "stdout",
     "output_type": "stream",
     "text": [
      "Confusion matrix:\n",
      "[[8931  216]\n",
      " [ 460  473]]\n",
      "Classification report:\n",
      "              precision    recall  f1-score   support\n",
      "\n",
      "           0       0.95      0.98      0.96      9147\n",
      "           1       0.69      0.51      0.58       933\n",
      "\n",
      "    accuracy                           0.93     10080\n",
      "   macro avg       0.82      0.74      0.77     10080\n",
      "weighted avg       0.93      0.93      0.93     10080\n",
      "\n"
     ]
    }
   ],
   "source": [
    "GB = GradientBoostingClassifier(\n",
    "    **grid_search.best_params_, random_state=SEED\n",
    ")\n",
    "GB.fit(X_train, y_train.ravel())\n",
    "\n",
    "y_pred = GB.predict(X_test)\n",
    "\n",
    "print(f\"Confusion matrix:\\n{confusion_matrix(y_test, y_pred)}\")\n",
    "print(f\"Classification report:\\n{classification_report(y_test, y_pred)}\")\n"
   ]
  },
  {
   "cell_type": "markdown",
   "metadata": {},
   "source": [
    "# A627\n"
   ]
  },
  {
   "cell_type": "code",
   "execution_count": 14,
   "metadata": {},
   "outputs": [
    {
     "name": "stdout",
     "output_type": "stream",
     "text": [
      "Shapes:  (11917, 24) (10202, 24)\n"
     ]
    }
   ],
   "source": [
    "a627 = f\"{data_folder}{pickle_files[2]}\"\n",
    "file = open(a627, \"rb\")\n",
    "(X_train, y_train, X_val, y_val, X_test, y_test) = pickle.load(file)\n",
    "\n",
    "y_train = transform_array(y_train)\n",
    "y_val = transform_array(y_val)\n",
    "y_test = transform_array(y_test)\n",
    "\n",
    "X_train = np.concatenate((X_train, X_val), axis=0)\n",
    "y_train = np.concatenate((y_train, y_val), axis=0)\n",
    "\n",
    "print(f\"Shapes: \", X_train.shape, X_test.shape)"
   ]
  },
  {
   "cell_type": "code",
   "execution_count": 15,
   "metadata": {},
   "outputs": [
    {
     "name": "stdout",
     "output_type": "stream",
     "text": [
      "Best params: {'learning_rate': 0.1, 'loss': 'exponential', 'max_depth': 3, 'n_estimators': 100}\n",
      "Best score: 0.7711154000906714\n",
      "Best estimator: GradientBoostingClassifier(loss='exponential', random_state=57)\n",
      "Best index: 13\n"
     ]
    }
   ],
   "source": [
    "params = {\n",
    "    'loss': ['deviance', 'exponential'],\n",
    "    \"learning_rate\": [0.1, 0.05, 0.02, 0.01],\n",
    "    \"n_estimators\": [50, 100, 200],\n",
    "    \"max_depth\": [2, 3, 4],\n",
    "}\n",
    "\n",
    "k_folds = 5\n",
    "\n",
    "\n",
    "skf = StratifiedKFold(n_splits=k_folds, shuffle=True, random_state=SEED)\n",
    "gb = GradientBoostingClassifier(random_state=SEED)\n",
    "\n",
    "grid_search = GridSearchCV(gb, params, scoring=\"f1_macro\", cv=skf, n_jobs=-1)\n",
    "grid_search.fit(X_train, y_train.ravel())\n",
    "\n",
    "\n",
    "print(f\"Best params: {grid_search.best_params_}\")\n",
    "print(f\"Best score: {grid_search.best_score_}\")\n",
    "print(f\"Best estimator: {grid_search.best_estimator_}\")\n",
    "print(f\"Best index: {grid_search.best_index_}\")"
   ]
  },
  {
   "cell_type": "code",
   "execution_count": 16,
   "metadata": {},
   "outputs": [
    {
     "name": "stdout",
     "output_type": "stream",
     "text": [
      "Confusion matrix:\n",
      "[[8991  209]\n",
      " [ 453  549]]\n",
      "Classification report:\n",
      "              precision    recall  f1-score   support\n",
      "\n",
      "           0       0.95      0.98      0.96      9200\n",
      "           1       0.72      0.55      0.62      1002\n",
      "\n",
      "    accuracy                           0.94     10202\n",
      "   macro avg       0.84      0.76      0.79     10202\n",
      "weighted avg       0.93      0.94      0.93     10202\n",
      "\n"
     ]
    }
   ],
   "source": [
    "GB = GradientBoostingClassifier(\n",
    "    **grid_search.best_params_, random_state=SEED\n",
    ")\n",
    "GB.fit(X_train, y_train.ravel())\n",
    "\n",
    "y_pred = GB.predict(X_test)\n",
    "\n",
    "print(f\"Confusion matrix:\\n{confusion_matrix(y_test, y_pred)}\")\n",
    "print(f\"Classification report:\\n{classification_report(y_test, y_pred)}\")\n"
   ]
  },
  {
   "cell_type": "markdown",
   "metadata": {},
   "source": [
    "# A636\n"
   ]
  },
  {
   "cell_type": "code",
   "execution_count": 17,
   "metadata": {},
   "outputs": [
    {
     "name": "stdout",
     "output_type": "stream",
     "text": [
      "Shapes:  (12633, 24) (10129, 24)\n"
     ]
    }
   ],
   "source": [
    "a636 = f\"{data_folder}{pickle_files[3]}\"\n",
    "file = open(a636, \"rb\")\n",
    "(X_train, y_train, X_val, y_val, X_test, y_test) = pickle.load(file)\n",
    "\n",
    "y_train = transform_array(y_train)\n",
    "y_val = transform_array(y_val)\n",
    "y_test = transform_array(y_test)\n",
    "\n",
    "X_train = np.concatenate((X_train, X_val), axis=0)\n",
    "y_train = np.concatenate((y_train, y_val), axis=0)\n",
    "\n",
    "print(f\"Shapes: \", X_train.shape, X_test.shape)"
   ]
  },
  {
   "cell_type": "code",
   "execution_count": 18,
   "metadata": {},
   "outputs": [
    {
     "name": "stdout",
     "output_type": "stream",
     "text": [
      "Best params: {'learning_rate': 0.1, 'loss': 'exponential', 'max_depth': 2, 'n_estimators': 50}\n",
      "Best score: 0.806039467331494\n",
      "Best estimator: GradientBoostingClassifier(loss='exponential', max_depth=2, n_estimators=50,\n",
      "                           random_state=57)\n",
      "Best index: 9\n"
     ]
    }
   ],
   "source": [
    "params = {\n",
    "    'loss': ['deviance', 'exponential'],\n",
    "    \"learning_rate\": [0.1, 0.05, 0.02, 0.01],\n",
    "    \"n_estimators\": [50, 100, 200],\n",
    "    \"max_depth\": [2, 3, 4],\n",
    "}\n",
    "\n",
    "k_folds = 5\n",
    "\n",
    "\n",
    "skf = StratifiedKFold(n_splits=k_folds, shuffle=True, random_state=SEED)\n",
    "gb = GradientBoostingClassifier(random_state=SEED)\n",
    "\n",
    "grid_search = GridSearchCV(gb, params, scoring=\"f1_macro\", cv=skf, n_jobs=-1)\n",
    "grid_search.fit(X_train, y_train.ravel())\n",
    "\n",
    "\n",
    "print(f\"Best params: {grid_search.best_params_}\")\n",
    "print(f\"Best score: {grid_search.best_score_}\")\n",
    "print(f\"Best estimator: {grid_search.best_estimator_}\")\n",
    "print(f\"Best index: {grid_search.best_index_}\")"
   ]
  },
  {
   "cell_type": "code",
   "execution_count": 19,
   "metadata": {},
   "outputs": [
    {
     "name": "stdout",
     "output_type": "stream",
     "text": [
      "Confusion matrix:\n",
      "[[8805  212]\n",
      " [ 549  563]]\n",
      "Classification report:\n",
      "              precision    recall  f1-score   support\n",
      "\n",
      "           0       0.94      0.98      0.96      9017\n",
      "           1       0.73      0.51      0.60      1112\n",
      "\n",
      "    accuracy                           0.92     10129\n",
      "   macro avg       0.83      0.74      0.78     10129\n",
      "weighted avg       0.92      0.92      0.92     10129\n",
      "\n"
     ]
    }
   ],
   "source": [
    "GB = GradientBoostingClassifier(\n",
    "    **grid_search.best_params_, random_state=SEED\n",
    ")\n",
    "GB.fit(X_train, y_train.ravel())\n",
    "\n",
    "y_pred = GB.predict(X_test)\n",
    "\n",
    "print(f\"Confusion matrix:\\n{confusion_matrix(y_test, y_pred)}\")\n",
    "print(f\"Classification report:\\n{classification_report(y_test, y_pred)}\")\n"
   ]
  },
  {
   "cell_type": "markdown",
   "metadata": {},
   "source": [
    "# A652\n"
   ]
  },
  {
   "cell_type": "code",
   "execution_count": 20,
   "metadata": {},
   "outputs": [
    {
     "name": "stdout",
     "output_type": "stream",
     "text": [
      "Shapes:  (12518, 24) (9582, 24)\n"
     ]
    }
   ],
   "source": [
    "a652 = f\"{data_folder}{pickle_files[4]}\"\n",
    "file = open(a652, \"rb\")\n",
    "(X_train, y_train, X_val, y_val, X_test, y_test) = pickle.load(file)\n",
    "\n",
    "y_train = transform_array(y_train)\n",
    "y_val = transform_array(y_val)\n",
    "y_test = transform_array(y_test)\n",
    "\n",
    "X_train = np.concatenate((X_train, X_val), axis=0)\n",
    "y_train = np.concatenate((y_train, y_val), axis=0)\n",
    "\n",
    "print(f\"Shapes: \", X_train.shape, X_test.shape)"
   ]
  },
  {
   "cell_type": "code",
   "execution_count": 21,
   "metadata": {},
   "outputs": [
    {
     "name": "stdout",
     "output_type": "stream",
     "text": [
      "Best params: {'learning_rate': 0.1, 'loss': 'exponential', 'max_depth': 2, 'n_estimators': 50}\n",
      "Best score: 0.7996128817180317\n",
      "Best estimator: GradientBoostingClassifier(loss='exponential', max_depth=2, n_estimators=50,\n",
      "                           random_state=57)\n",
      "Best index: 9\n"
     ]
    }
   ],
   "source": [
    "params = {\n",
    "    'loss': ['deviance', 'exponential'],\n",
    "    \"learning_rate\": [0.1, 0.05, 0.02, 0.01],\n",
    "    \"n_estimators\": [50, 100, 200],\n",
    "    \"max_depth\": [2, 3, 4],\n",
    "}\n",
    "\n",
    "k_folds = 5\n",
    "\n",
    "\n",
    "skf = StratifiedKFold(n_splits=k_folds, shuffle=True, random_state=SEED)\n",
    "gb = GradientBoostingClassifier(random_state=SEED)\n",
    "\n",
    "grid_search = GridSearchCV(gb, params, scoring=\"f1_macro\", cv=skf, n_jobs=-1)\n",
    "grid_search.fit(X_train, y_train.ravel())\n",
    "\n",
    "\n",
    "print(f\"Best params: {grid_search.best_params_}\")\n",
    "print(f\"Best score: {grid_search.best_score_}\")\n",
    "print(f\"Best estimator: {grid_search.best_estimator_}\")\n",
    "print(f\"Best index: {grid_search.best_index_}\")"
   ]
  },
  {
   "cell_type": "code",
   "execution_count": 22,
   "metadata": {},
   "outputs": [
    {
     "name": "stdout",
     "output_type": "stream",
     "text": [
      "Confusion matrix:\n",
      "[[8701   68]\n",
      " [ 534  279]]\n",
      "Classification report:\n",
      "              precision    recall  f1-score   support\n",
      "\n",
      "           0       0.94      0.99      0.97      8769\n",
      "           1       0.80      0.34      0.48       813\n",
      "\n",
      "    accuracy                           0.94      9582\n",
      "   macro avg       0.87      0.67      0.72      9582\n",
      "weighted avg       0.93      0.94      0.93      9582\n",
      "\n"
     ]
    }
   ],
   "source": [
    "GB = GradientBoostingClassifier(\n",
    "    **grid_search.best_params_, random_state=SEED\n",
    ")\n",
    "GB.fit(X_train, y_train.ravel())\n",
    "\n",
    "y_pred = GB.predict(X_test)\n",
    "\n",
    "print(f\"Confusion matrix:\\n{confusion_matrix(y_test, y_pred)}\")\n",
    "print(f\"Classification report:\\n{classification_report(y_test, y_pred)}\")"
   ]
  },
  {
   "cell_type": "code",
   "execution_count": null,
   "metadata": {},
   "outputs": [],
   "source": []
  }
 ],
 "metadata": {
  "kernelspec": {
   "display_name": ".venv",
   "language": "python",
   "name": "python3"
  },
  "language_info": {
   "codemirror_mode": {
    "name": "ipython",
    "version": 3
   },
   "file_extension": ".py",
   "mimetype": "text/x-python",
   "name": "python",
   "nbconvert_exporter": "python",
   "pygments_lexer": "ipython3",
   "version": "3.10.12"
  }
 },
 "nbformat": 4,
 "nbformat_minor": 2
}
