{
 "cells": [
  {
   "cell_type": "markdown",
   "metadata": {},
   "source": [
    "# Assignment 2 - CIC-1205\n",
    "\n",
    "## Exercise 2 - Cross Validation\n",
    "\n",
    "Student: Balthazar Paixão\n"
   ]
  },
  {
   "cell_type": "code",
   "execution_count": null,
   "metadata": {},
   "outputs": [],
   "source": [
    "data_folder = \"../class-repo/cic1205/data/atmoseer/\"\n",
    "pickle_files = [\n",
    "    \"A602.pickle\",\n",
    "    \"A621.pickle\",\n",
    "    \"A627.pickle\",\n",
    "    \"A636.pickle\",\n",
    "    \"A652.pickle\",\n",
    "]"
   ]
  },
  {
   "cell_type": "code",
   "execution_count": 45,
   "metadata": {},
   "outputs": [],
   "source": [
    "import numpy as np\n",
    "import pickle\n",
    "import pandas as pd\n",
    "\n",
    "from sklearn.model_selection import StratifiedKFold\n",
    "from sklearn.model_selection import GridSearchCV\n",
    "from sklearn.ensemble import GradientBoostingClassifier\n",
    "\n",
    "from sklearn.metrics import classification_report, confusion_matrix\n",
    "\n",
    "import warnings\n",
    "warnings.filterwarnings(\"ignore\")"
   ]
  },
  {
   "cell_type": "code",
   "execution_count": 46,
   "metadata": {},
   "outputs": [],
   "source": [
    "SEED = 57\n",
    "\n",
    "\n",
    "def transform_array(arr: np.ndarray) -> list:\n",
    "    elems_list = [[1] if elem[0] != 0 else [0] for elem in arr]\n",
    "    elems_array = np.array(elems_list)\n",
    "    return elems_array\n",
    "\n",
    "\n",
    "def count_values_list(lst: list) -> dict:\n",
    "    if isinstance(lst, np.ndarray):\n",
    "        try:\n",
    "            lst = [1 if elem[0] != 0 else 0 for elem in lst]\n",
    "        except IndexError:\n",
    "            lst = [1 if elem != 0 else 0 for elem in lst]\n",
    "    elif isinstance(lst, np.array):\n",
    "        lst = lst.tolist()\n",
    "    elif isinstance(lst, pd.Series):\n",
    "        lst = lst.tolist()\n",
    "\n",
    "    elems = set(lst)\n",
    "    dict_counter = {elem: lst.count(elem) for elem in elems}\n",
    "\n",
    "    return dict_counter"
   ]
  },
  {
   "cell_type": "markdown",
   "metadata": {},
   "source": [
    "# A602\n"
   ]
  },
  {
   "cell_type": "code",
   "execution_count": null,
   "metadata": {},
   "outputs": [],
   "source": [
    "a602 = f\"{data_folder}{pickle_files[0]}\"\n",
    "file = open(a602, \"rb\")\n",
    "(X_train, y_train, X_val, y_val, X_test, y_test) = pickle.load(file)\n",
    "\n",
    "X_train = np.concatenate((X_train, X_val), axis=0)\n",
    "y_train = np.concatenate((y_train, y_val), axis=0)\n",
    "\n",
    "print(f\"Shapes: \", X_train.shape, X_test.shape)"
   ]
  },
  {
   "cell_type": "code",
   "execution_count": 47,
   "metadata": {},
   "outputs": [
    {
     "name": "stderr",
     "output_type": "stream",
     "text": [
      "/home/balthapaixao/Desktop/baltha/projects/portfolio/MSc-codes/cic1205-machine-learning/.venv/lib/python3.10/site-packages/sklearn/model_selection/_validation.py:425: FitFailedWarning: \n",
      "180 fits failed out of a total of 360.\n",
      "The score on these train-test partitions for these parameters will be set to nan.\n",
      "If these failures are not expected, you can try to debug them by setting error_score='raise'.\n",
      "\n",
      "Below are more details about the failures:\n",
      "--------------------------------------------------------------------------------\n",
      "100 fits failed with the following error:\n",
      "Traceback (most recent call last):\n",
      "  File \"/home/balthapaixao/Desktop/baltha/projects/portfolio/MSc-codes/cic1205-machine-learning/.venv/lib/python3.10/site-packages/sklearn/model_selection/_validation.py\", line 729, in _fit_and_score\n",
      "    estimator.fit(X_train, y_train, **fit_params)\n",
      "  File \"/home/balthapaixao/Desktop/baltha/projects/portfolio/MSc-codes/cic1205-machine-learning/.venv/lib/python3.10/site-packages/sklearn/base.py\", line 1145, in wrapper\n",
      "    estimator._validate_params()\n",
      "  File \"/home/balthapaixao/Desktop/baltha/projects/portfolio/MSc-codes/cic1205-machine-learning/.venv/lib/python3.10/site-packages/sklearn/base.py\", line 638, in _validate_params\n",
      "    validate_parameter_constraints(\n",
      "  File \"/home/balthapaixao/Desktop/baltha/projects/portfolio/MSc-codes/cic1205-machine-learning/.venv/lib/python3.10/site-packages/sklearn/utils/_param_validation.py\", line 96, in validate_parameter_constraints\n",
      "    raise InvalidParameterError(\n",
      "sklearn.utils._param_validation.InvalidParameterError: The 'loss' parameter of GradientBoostingClassifier must be a str among {'exponential', 'log_loss'}. Got 'deviance' instead.\n",
      "\n",
      "--------------------------------------------------------------------------------\n",
      "80 fits failed with the following error:\n",
      "Traceback (most recent call last):\n",
      "  File \"/home/balthapaixao/Desktop/baltha/projects/portfolio/MSc-codes/cic1205-machine-learning/.venv/lib/python3.10/site-packages/sklearn/model_selection/_validation.py\", line 729, in _fit_and_score\n",
      "    estimator.fit(X_train, y_train, **fit_params)\n",
      "  File \"/home/balthapaixao/Desktop/baltha/projects/portfolio/MSc-codes/cic1205-machine-learning/.venv/lib/python3.10/site-packages/sklearn/base.py\", line 1145, in wrapper\n",
      "    estimator._validate_params()\n",
      "  File \"/home/balthapaixao/Desktop/baltha/projects/portfolio/MSc-codes/cic1205-machine-learning/.venv/lib/python3.10/site-packages/sklearn/base.py\", line 638, in _validate_params\n",
      "    validate_parameter_constraints(\n",
      "  File \"/home/balthapaixao/Desktop/baltha/projects/portfolio/MSc-codes/cic1205-machine-learning/.venv/lib/python3.10/site-packages/sklearn/utils/_param_validation.py\", line 96, in validate_parameter_constraints\n",
      "    raise InvalidParameterError(\n",
      "sklearn.utils._param_validation.InvalidParameterError: The 'loss' parameter of GradientBoostingClassifier must be a str among {'log_loss', 'exponential'}. Got 'deviance' instead.\n",
      "\n",
      "  warnings.warn(some_fits_failed_message, FitFailedWarning)\n",
      "/home/balthapaixao/Desktop/baltha/projects/portfolio/MSc-codes/cic1205-machine-learning/.venv/lib/python3.10/site-packages/sklearn/model_selection/_search.py:979: UserWarning: One or more of the test scores are non-finite: [       nan        nan        nan        nan        nan        nan\n",
      "        nan        nan        nan 0.79961288 0.7994972  0.79632974\n",
      " 0.7959473  0.793981   0.79628583 0.7987742  0.79537955 0.79147986\n",
      "        nan        nan        nan        nan        nan        nan\n",
      "        nan        nan        nan 0.79048847 0.79672815 0.7992949\n",
      " 0.79336173 0.79585119 0.79509161 0.79292409 0.79875568 0.79555377\n",
      "        nan        nan        nan        nan        nan        nan\n",
      "        nan        nan        nan 0.47956596 0.77184287 0.7962444\n",
      " 0.47956596 0.78077558 0.7958316  0.47956596 0.77782057 0.79695996\n",
      "        nan        nan        nan        nan        nan        nan\n",
      "        nan        nan        nan 0.47956596 0.47956596 0.77045955\n",
      " 0.47956596 0.47956596 0.78163337 0.47956596 0.47956596 0.7774297 ]\n",
      "  warnings.warn(\n"
     ]
    },
    {
     "data": {
      "text/html": [
       "<style>#sk-container-id-3 {color: black;}#sk-container-id-3 pre{padding: 0;}#sk-container-id-3 div.sk-toggleable {background-color: white;}#sk-container-id-3 label.sk-toggleable__label {cursor: pointer;display: block;width: 100%;margin-bottom: 0;padding: 0.3em;box-sizing: border-box;text-align: center;}#sk-container-id-3 label.sk-toggleable__label-arrow:before {content: \"▸\";float: left;margin-right: 0.25em;color: #696969;}#sk-container-id-3 label.sk-toggleable__label-arrow:hover:before {color: black;}#sk-container-id-3 div.sk-estimator:hover label.sk-toggleable__label-arrow:before {color: black;}#sk-container-id-3 div.sk-toggleable__content {max-height: 0;max-width: 0;overflow: hidden;text-align: left;background-color: #f0f8ff;}#sk-container-id-3 div.sk-toggleable__content pre {margin: 0.2em;color: black;border-radius: 0.25em;background-color: #f0f8ff;}#sk-container-id-3 input.sk-toggleable__control:checked~div.sk-toggleable__content {max-height: 200px;max-width: 100%;overflow: auto;}#sk-container-id-3 input.sk-toggleable__control:checked~label.sk-toggleable__label-arrow:before {content: \"▾\";}#sk-container-id-3 div.sk-estimator input.sk-toggleable__control:checked~label.sk-toggleable__label {background-color: #d4ebff;}#sk-container-id-3 div.sk-label input.sk-toggleable__control:checked~label.sk-toggleable__label {background-color: #d4ebff;}#sk-container-id-3 input.sk-hidden--visually {border: 0;clip: rect(1px 1px 1px 1px);clip: rect(1px, 1px, 1px, 1px);height: 1px;margin: -1px;overflow: hidden;padding: 0;position: absolute;width: 1px;}#sk-container-id-3 div.sk-estimator {font-family: monospace;background-color: #f0f8ff;border: 1px dotted black;border-radius: 0.25em;box-sizing: border-box;margin-bottom: 0.5em;}#sk-container-id-3 div.sk-estimator:hover {background-color: #d4ebff;}#sk-container-id-3 div.sk-parallel-item::after {content: \"\";width: 100%;border-bottom: 1px solid gray;flex-grow: 1;}#sk-container-id-3 div.sk-label:hover label.sk-toggleable__label {background-color: #d4ebff;}#sk-container-id-3 div.sk-serial::before {content: \"\";position: absolute;border-left: 1px solid gray;box-sizing: border-box;top: 0;bottom: 0;left: 50%;z-index: 0;}#sk-container-id-3 div.sk-serial {display: flex;flex-direction: column;align-items: center;background-color: white;padding-right: 0.2em;padding-left: 0.2em;position: relative;}#sk-container-id-3 div.sk-item {position: relative;z-index: 1;}#sk-container-id-3 div.sk-parallel {display: flex;align-items: stretch;justify-content: center;background-color: white;position: relative;}#sk-container-id-3 div.sk-item::before, #sk-container-id-3 div.sk-parallel-item::before {content: \"\";position: absolute;border-left: 1px solid gray;box-sizing: border-box;top: 0;bottom: 0;left: 50%;z-index: -1;}#sk-container-id-3 div.sk-parallel-item {display: flex;flex-direction: column;z-index: 1;position: relative;background-color: white;}#sk-container-id-3 div.sk-parallel-item:first-child::after {align-self: flex-end;width: 50%;}#sk-container-id-3 div.sk-parallel-item:last-child::after {align-self: flex-start;width: 50%;}#sk-container-id-3 div.sk-parallel-item:only-child::after {width: 0;}#sk-container-id-3 div.sk-dashed-wrapped {border: 1px dashed gray;margin: 0 0.4em 0.5em 0.4em;box-sizing: border-box;padding-bottom: 0.4em;background-color: white;}#sk-container-id-3 div.sk-label label {font-family: monospace;font-weight: bold;display: inline-block;line-height: 1.2em;}#sk-container-id-3 div.sk-label-container {text-align: center;}#sk-container-id-3 div.sk-container {/* jupyter's `normalize.less` sets `[hidden] { display: none; }` but bootstrap.min.css set `[hidden] { display: none !important; }` so we also need the `!important` here to be able to override the default hidden behavior on the sphinx rendered scikit-learn.org. See: https://github.com/scikit-learn/scikit-learn/issues/21755 */display: inline-block !important;position: relative;}#sk-container-id-3 div.sk-text-repr-fallback {display: none;}</style><div id=\"sk-container-id-3\" class=\"sk-top-container\"><div class=\"sk-text-repr-fallback\"><pre>GridSearchCV(cv=StratifiedKFold(n_splits=5, random_state=57, shuffle=True),\n",
       "             estimator=GradientBoostingClassifier(random_state=57), n_jobs=-1,\n",
       "             param_grid={&#x27;learning_rate&#x27;: [0.1, 0.05, 0.02, 0.01],\n",
       "                         &#x27;loss&#x27;: [&#x27;deviance&#x27;, &#x27;exponential&#x27;],\n",
       "                         &#x27;max_depth&#x27;: [2, 3, 4],\n",
       "                         &#x27;n_estimators&#x27;: [50, 100, 200]},\n",
       "             scoring=&#x27;f1_macro&#x27;)</pre><b>In a Jupyter environment, please rerun this cell to show the HTML representation or trust the notebook. <br />On GitHub, the HTML representation is unable to render, please try loading this page with nbviewer.org.</b></div><div class=\"sk-container\" hidden><div class=\"sk-item sk-dashed-wrapped\"><div class=\"sk-label-container\"><div class=\"sk-label sk-toggleable\"><input class=\"sk-toggleable__control sk-hidden--visually\" id=\"sk-estimator-id-7\" type=\"checkbox\" ><label for=\"sk-estimator-id-7\" class=\"sk-toggleable__label sk-toggleable__label-arrow\">GridSearchCV</label><div class=\"sk-toggleable__content\"><pre>GridSearchCV(cv=StratifiedKFold(n_splits=5, random_state=57, shuffle=True),\n",
       "             estimator=GradientBoostingClassifier(random_state=57), n_jobs=-1,\n",
       "             param_grid={&#x27;learning_rate&#x27;: [0.1, 0.05, 0.02, 0.01],\n",
       "                         &#x27;loss&#x27;: [&#x27;deviance&#x27;, &#x27;exponential&#x27;],\n",
       "                         &#x27;max_depth&#x27;: [2, 3, 4],\n",
       "                         &#x27;n_estimators&#x27;: [50, 100, 200]},\n",
       "             scoring=&#x27;f1_macro&#x27;)</pre></div></div></div><div class=\"sk-parallel\"><div class=\"sk-parallel-item\"><div class=\"sk-item\"><div class=\"sk-label-container\"><div class=\"sk-label sk-toggleable\"><input class=\"sk-toggleable__control sk-hidden--visually\" id=\"sk-estimator-id-8\" type=\"checkbox\" ><label for=\"sk-estimator-id-8\" class=\"sk-toggleable__label sk-toggleable__label-arrow\">estimator: GradientBoostingClassifier</label><div class=\"sk-toggleable__content\"><pre>GradientBoostingClassifier(random_state=57)</pre></div></div></div><div class=\"sk-serial\"><div class=\"sk-item\"><div class=\"sk-estimator sk-toggleable\"><input class=\"sk-toggleable__control sk-hidden--visually\" id=\"sk-estimator-id-9\" type=\"checkbox\" ><label for=\"sk-estimator-id-9\" class=\"sk-toggleable__label sk-toggleable__label-arrow\">GradientBoostingClassifier</label><div class=\"sk-toggleable__content\"><pre>GradientBoostingClassifier(random_state=57)</pre></div></div></div></div></div></div></div></div></div></div>"
      ],
      "text/plain": [
       "GridSearchCV(cv=StratifiedKFold(n_splits=5, random_state=57, shuffle=True),\n",
       "             estimator=GradientBoostingClassifier(random_state=57), n_jobs=-1,\n",
       "             param_grid={'learning_rate': [0.1, 0.05, 0.02, 0.01],\n",
       "                         'loss': ['deviance', 'exponential'],\n",
       "                         'max_depth': [2, 3, 4],\n",
       "                         'n_estimators': [50, 100, 200]},\n",
       "             scoring='f1_macro')"
      ]
     },
     "execution_count": 47,
     "metadata": {},
     "output_type": "execute_result"
    }
   ],
   "source": [
    "params = {\n",
    "    'loss': ['deviance', 'exponential'],\n",
    "    \"learning_rate\": [0.1, 0.05, 0.02, 0.01],\n",
    "    \"n_estimators\": [50, 100, 200],\n",
    "    \"max_depth\": [2, 3, 4],\n",
    "}\n",
    "\n",
    "k_folds = 5\n",
    "\n",
    "\n",
    "skf = StratifiedKFold(n_splits=k_folds, shuffle=True, random_state=SEED)\n",
    "gb = GradientBoostingClassifier(random_state=SEED)\n",
    "\n",
    "grid_search = GridSearchCV(gb, params, scoring=\"f1_macro\", cv=skf, n_jobs=-1)\n",
    "grid_search.fit(X_train, y_train.ravel())"
   ]
  },
  {
   "cell_type": "code",
   "execution_count": 48,
   "metadata": {},
   "outputs": [
    {
     "name": "stdout",
     "output_type": "stream",
     "text": [
      "Best params: {'learning_rate': 0.1, 'loss': 'exponential', 'max_depth': 2, 'n_estimators': 50}\n",
      "Best score: 0.7996128817180317\n",
      "Best estimator: GradientBoostingClassifier(loss='exponential', max_depth=2, n_estimators=50,\n",
      "                           random_state=57)\n",
      "Best index: 9\n"
     ]
    }
   ],
   "source": [
    "print(f\"Best params: {grid_search.best_params_}\")\n",
    "print(f\"Best score: {grid_search.best_score_}\")\n",
    "print(f\"Best estimator: {grid_search.best_estimator_}\")\n",
    "print(f\"Best index: {grid_search.best_index_}\")"
   ]
  },
  {
   "cell_type": "code",
   "execution_count": null,
   "metadata": {},
   "outputs": [],
   "source": [
    "GB = GradientBoostingClassifier(\n",
    "    **grid_search.best_params_, random_state=SEED\n",
    ")\n",
    "GB.fit(X_train, y_train.ravel())\n",
    "\n",
    "y_pred = GB.predict(X_test)\n",
    "\n",
    "print(f\"Confusion matrix:\\n{confusion_matrix(y_test, y_pred)}\")\n",
    "print(f\"Classification report:\\n{classification_report(y_test, y_pred)}\")\n"
   ]
  },
  {
   "cell_type": "markdown",
   "metadata": {},
   "source": [
    "# A621\n"
   ]
  },
  {
   "cell_type": "code",
   "execution_count": null,
   "metadata": {},
   "outputs": [],
   "source": [
    "a621 = f\"{data_folder}{pickle_files[1]}\"\n",
    "file = open(a621, \"rb\")\n",
    "(X_train, y_train, X_val, y_val, X_test, y_test) = pickle.load(file)\n",
    "\n",
    "X_train = np.concatenate((X_train, X_val), axis=0)\n",
    "y_train = np.concatenate((y_train, y_val), axis=0)\n",
    "\n",
    "print(f\"Shapes: \", X_train.shape, X_test.shape)"
   ]
  },
  {
   "cell_type": "code",
   "execution_count": null,
   "metadata": {},
   "outputs": [],
   "source": [
    "y_train = transform_array(y_train)\n",
    "print(f\"y_train: {count_values_list(y_train)}\")\n",
    "y_test = transform_array(y_test)\n",
    "print(f\"y_test:  {count_values_list(y_test)}\")"
   ]
  },
  {
   "cell_type": "code",
   "execution_count": null,
   "metadata": {},
   "outputs": [],
   "source": [
    "params = {\n",
    "    'loss': ['deviance', 'exponential'],\n",
    "    \"learning_rate\": [0.1, 0.05, 0.02, 0.01],\n",
    "    \"n_estimators\": [50, 100, 200],\n",
    "    \"max_depth\": [2, 3, 4],\n",
    "}\n",
    "\n",
    "k_folds = 5\n",
    "\n",
    "\n",
    "skf = StratifiedKFold(n_splits=k_folds, shuffle=True, random_state=SEED)\n",
    "gb = GradientBoostingClassifier(random_state=SEED)\n",
    "\n",
    "grid_search = GridSearchCV(gb, params, scoring=\"f1_macro\", cv=skf, n_jobs=-1)\n",
    "grid_search.fit(X_train, y_train.ravel())\n",
    "\n",
    "print(f\"Best params: {grid_search.best_params_}\")\n",
    "print(f\"Best score: {grid_search.best_score_}\")\n",
    "print(f\"Best estimator: {grid_search.best_estimator_}\")\n",
    "print(f\"Best index: {grid_search.best_index_}\")"
   ]
  },
  {
   "cell_type": "code",
   "execution_count": null,
   "metadata": {},
   "outputs": [],
   "source": [
    "GB = GradientBoostingClassifier(\n",
    "    **grid_search.best_params_, random_state=SEED\n",
    ")\n",
    "GB.fit(X_train, y_train.ravel())\n",
    "\n",
    "y_pred = GB.predict(X_test)\n",
    "\n",
    "print(f\"Confusion matrix:\\n{confusion_matrix(y_test, y_pred)}\")\n",
    "print(f\"Classification report:\\n{classification_report(y_test, y_pred)}\")\n"
   ]
  },
  {
   "cell_type": "markdown",
   "metadata": {},
   "source": [
    "# A627\n"
   ]
  },
  {
   "cell_type": "code",
   "execution_count": null,
   "metadata": {},
   "outputs": [],
   "source": [
    "a627 = f\"{data_folder}{pickle_files[2]}\"\n",
    "file = open(a627, \"rb\")\n",
    "(X_train, y_train, X_val, y_val, X_test, y_test) = pickle.load(file)\n",
    "\n",
    "X_train = np.concatenate((X_train, X_val), axis=0)\n",
    "y_train = np.concatenate((y_train, y_val), axis=0)\n",
    "\n",
    "print(f\"Shapes: \", X_train.shape, X_test.shape)"
   ]
  },
  {
   "cell_type": "code",
   "execution_count": null,
   "metadata": {},
   "outputs": [],
   "source": [
    "params = {\n",
    "    'loss': ['deviance', 'exponential'],\n",
    "    \"learning_rate\": [0.1, 0.05, 0.02, 0.01],\n",
    "    \"n_estimators\": [50, 100, 200],\n",
    "    \"max_depth\": [2, 3, 4],\n",
    "}\n",
    "\n",
    "k_folds = 5\n",
    "\n",
    "\n",
    "skf = StratifiedKFold(n_splits=k_folds, shuffle=True, random_state=SEED)\n",
    "gb = GradientBoostingClassifier(random_state=SEED)\n",
    "\n",
    "grid_search = GridSearchCV(gb, params, scoring=\"f1_macro\", cv=skf, n_jobs=-1)\n",
    "grid_search.fit(X_train, y_train.ravel())\n",
    "\n",
    "\n",
    "print(f\"Best params: {grid_search.best_params_}\")\n",
    "print(f\"Best score: {grid_search.best_score_}\")\n",
    "print(f\"Best estimator: {grid_search.best_estimator_}\")\n",
    "print(f\"Best index: {grid_search.best_index_}\")"
   ]
  },
  {
   "cell_type": "code",
   "execution_count": null,
   "metadata": {},
   "outputs": [],
   "source": [
    "GB = GradientBoostingClassifier(\n",
    "    **grid_search.best_params_, random_state=SEED\n",
    ")\n",
    "GB.fit(X_train, y_train.ravel())\n",
    "\n",
    "y_pred = GB.predict(X_test)\n",
    "\n",
    "print(f\"Confusion matrix:\\n{confusion_matrix(y_test, y_pred)}\")\n",
    "print(f\"Classification report:\\n{classification_report(y_test, y_pred)}\")\n"
   ]
  },
  {
   "cell_type": "markdown",
   "metadata": {},
   "source": [
    "# A636\n"
   ]
  },
  {
   "cell_type": "code",
   "execution_count": null,
   "metadata": {},
   "outputs": [],
   "source": [
    "a636 = f\"{data_folder}{pickle_files[3]}\"\n",
    "file = open(a636, \"rb\")\n",
    "(X_train, y_train, X_val, y_val, X_test, y_test) = pickle.load(file)\n",
    "\n",
    "X_train = np.concatenate((X_train, X_val), axis=0)\n",
    "y_train = np.concatenate((y_train, y_val), axis=0)\n",
    "\n",
    "print(f\"Shapes: \", X_train.shape, X_test.shape)"
   ]
  },
  {
   "cell_type": "code",
   "execution_count": null,
   "metadata": {},
   "outputs": [],
   "source": [
    "params = {\n",
    "    'loss': ['deviance', 'exponential'],\n",
    "    \"learning_rate\": [0.1, 0.05, 0.02, 0.01],\n",
    "    \"n_estimators\": [50, 100, 200],\n",
    "    \"max_depth\": [2, 3, 4],\n",
    "}\n",
    "\n",
    "k_folds = 5\n",
    "\n",
    "\n",
    "skf = StratifiedKFold(n_splits=k_folds, shuffle=True, random_state=SEED)\n",
    "gb = GradientBoostingClassifier(random_state=SEED)\n",
    "\n",
    "grid_search = GridSearchCV(gb, params, scoring=\"f1_macro\", cv=skf, n_jobs=-1)\n",
    "grid_search.fit(X_train, y_train.ravel())\n",
    "\n",
    "\n",
    "print(f\"Best params: {grid_search.best_params_}\")\n",
    "print(f\"Best score: {grid_search.best_score_}\")\n",
    "print(f\"Best estimator: {grid_search.best_estimator_}\")\n",
    "print(f\"Best index: {grid_search.best_index_}\")"
   ]
  },
  {
   "cell_type": "code",
   "execution_count": null,
   "metadata": {},
   "outputs": [],
   "source": [
    "GB = GradientBoostingClassifier(\n",
    "    **grid_search.best_params_, random_state=SEED\n",
    ")\n",
    "GB.fit(X_train, y_train.ravel())\n",
    "\n",
    "y_pred = GB.predict(X_test)\n",
    "\n",
    "print(f\"Confusion matrix:\\n{confusion_matrix(y_test, y_pred)}\")\n",
    "print(f\"Classification report:\\n{classification_report(y_test, y_pred)}\")\n"
   ]
  },
  {
   "cell_type": "markdown",
   "metadata": {},
   "source": [
    "# A652\n"
   ]
  },
  {
   "cell_type": "code",
   "execution_count": null,
   "metadata": {},
   "outputs": [],
   "source": [
    "a652 = f\"{data_folder}{pickle_files[4]}\"\n",
    "file = open(a652, \"rb\")\n",
    "(X_train, y_train, X_val, y_val, X_test, y_test) = pickle.load(file)\n",
    "\n",
    "X_train = np.concatenate((X_train, X_val), axis=0)\n",
    "y_train = np.concatenate((y_train, y_val), axis=0)\n",
    "\n",
    "print(f\"Shapes: \", X_train.shape, X_test.shape)"
   ]
  },
  {
   "cell_type": "code",
   "execution_count": null,
   "metadata": {},
   "outputs": [],
   "source": [
    "params = {\n",
    "    'loss': ['deviance', 'exponential'],\n",
    "    \"learning_rate\": [0.1, 0.05, 0.02, 0.01],\n",
    "    \"n_estimators\": [50, 100, 200],\n",
    "    \"max_depth\": [2, 3, 4],\n",
    "}\n",
    "\n",
    "k_folds = 5\n",
    "\n",
    "\n",
    "skf = StratifiedKFold(n_splits=k_folds, shuffle=True, random_state=SEED)\n",
    "gb = GradientBoostingClassifier(random_state=SEED)\n",
    "\n",
    "grid_search = GridSearchCV(gb, params, scoring=\"f1_macro\", cv=skf, n_jobs=-1)\n",
    "grid_search.fit(X_train, y_train.ravel())\n",
    "\n",
    "\n",
    "print(f\"Best params: {grid_search.best_params_}\")\n",
    "print(f\"Best score: {grid_search.best_score_}\")\n",
    "print(f\"Best estimator: {grid_search.best_estimator_}\")\n",
    "print(f\"Best index: {grid_search.best_index_}\")"
   ]
  },
  {
   "cell_type": "code",
   "execution_count": null,
   "metadata": {},
   "outputs": [],
   "source": [
    "GB = GradientBoostingClassifier(\n",
    "    **grid_search.best_params_, random_state=SEED\n",
    ")\n",
    "GB.fit(X_train, y_train.ravel())\n",
    "\n",
    "y_pred = GB.predict(X_test)\n",
    "\n",
    "print(f\"Confusion matrix:\\n{confusion_matrix(y_test, y_pred)}\")\n",
    "print(f\"Classification report:\\n{classification_report(y_test, y_pred)}\")"
   ]
  }
 ],
 "metadata": {
  "kernelspec": {
   "display_name": ".venv",
   "language": "python",
   "name": "python3"
  },
  "language_info": {
   "codemirror_mode": {
    "name": "ipython",
    "version": 3
   },
   "file_extension": ".py",
   "mimetype": "text/x-python",
   "name": "python",
   "nbconvert_exporter": "python",
   "pygments_lexer": "ipython3",
   "version": "3.10.12"
  }
 },
 "nbformat": 4,
 "nbformat_minor": 2
}
