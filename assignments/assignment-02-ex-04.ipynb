{
 "cells": [
  {
   "cell_type": "markdown",
   "metadata": {},
   "source": [
    "# Assignment 2 - CIC-1205\n",
    "\n",
    "## Exercise 4 - SHAP Values\n",
    "\n",
    "Student: Balthazar Paixão\n"
   ]
  },
  {
   "cell_type": "code",
   "execution_count": null,
   "metadata": {},
   "outputs": [],
   "source": [
    "import pandas as pd\n",
    "\n",
    "from sklearn.preprocessing import StandardScaler\n",
    "from sklearn.tree import DecisionTreeClassifier\n",
    "\n",
    "import shap\n",
    "\n",
    "import warnings\n",
    "warnings.filterwarnings(\"ignore\")"
   ]
  },
  {
   "cell_type": "code",
   "execution_count": null,
   "metadata": {},
   "outputs": [],
   "source": [
    "def classify_precipitation(x):\n",
    "    \"\"\"\n",
    "    •0 → NONE\n",
    "    •(0, 5] → WEAK\n",
    "    •(5, 25] → MODERATE\n",
    "    •(25,50] → STRONG\n",
    "    •(50, ∞] → EXTREME\n",
    "    \"\"\"\n",
    "\n",
    "    if x <= 0:\n",
    "        return 0  # \"NONE\"\n",
    "    elif x <= 5:\n",
    "        return 1  # \"WEAK\"\n",
    "    elif x <= 25:\n",
    "        return 2  # \"MODERATE\"\n",
    "    elif x <= 50:\n",
    "        return 3  # \"STRONG\"\n",
    "    else:\n",
    "        return 4  # \"EXTREME\""
   ]
  },
  {
   "cell_type": "code",
   "execution_count": null,
   "metadata": {},
   "outputs": [],
   "source": [
    "SEED = 57\n",
    "\n",
    "data_folder = \"../class-repo/cic1205/data/atmoseer/\"\n",
    "files = [\n",
    "    \"A602\",\n",
    "    \"A621\",\n",
    "    \"A627\",\n",
    "    \"A636\",\n",
    "    \"A652\",\n",
    "]\n",
    "end_train_name = \"_train.parquet.gzip\"\n",
    "end_test_name = \"_test.parquet.gzip\"\n",
    "end_val_name = \"_val.parquet.gzip\""
   ]
  },
  {
   "cell_type": "markdown",
   "metadata": {},
   "source": [
    "# A602\n"
   ]
  },
  {
   "cell_type": "code",
   "execution_count": null,
   "metadata": {},
   "outputs": [],
   "source": [
    "a602_train = f\"{data_folder}{files[0]}{end_train_name}\"\n",
    "a602_test = f\"{data_folder}{files[0]}{end_test_name}\"\n",
    "a602_val = f\"{data_folder}{files[0]}{end_val_name}\"\n",
    "\n",
    "df_train = pd.read_parquet(a602_train)\n",
    "df_test = pd.read_parquet(a602_test)\n",
    "df_val = pd.read_parquet(a602_val)"
   ]
  },
  {
   "cell_type": "code",
   "execution_count": null,
   "metadata": {},
   "outputs": [],
   "source": [
    "df_train[\"precipitation\"] = df_train[\"precipitation\"].apply(\n",
    "    classify_precipitation)\n",
    "df_test[\"precipitation\"] = df_test[\"precipitation\"].apply(\n",
    "    classify_precipitation)\n",
    "df_val[\"precipitation\"] = df_val[\"precipitation\"].apply(classify_precipitation)\n",
    "\n",
    "df_train = pd.concat([df_train, df_val])"
   ]
  },
  {
   "cell_type": "code",
   "execution_count": null,
   "metadata": {},
   "outputs": [],
   "source": [
    "X_train = df_train.drop(columns=[\"precipitation\"])\n",
    "y_train = df_train[\"precipitation\"]\n",
    "\n",
    "X_test = df_test.drop(columns=[\"precipitation\"])\n",
    "y_test = df_test[\"precipitation\"]"
   ]
  },
  {
   "cell_type": "code",
   "execution_count": null,
   "metadata": {},
   "outputs": [],
   "source": [
    "scaler = StandardScaler()\n",
    "cols_scaler = X_train.columns\n",
    "X_train.loc[:, cols_scaler] = scaler.fit_transform(X_train)\n",
    "X_test.loc[:, cols_scaler] = scaler.transform(X_test)"
   ]
  },
  {
   "cell_type": "code",
   "execution_count": null,
   "metadata": {},
   "outputs": [],
   "source": [
    "DT = DecisionTreeClassifier(random_state=SEED)\n",
    "DT.fit(X_train, y_train)\n",
    "\n",
    "explainer = shap.TreeExplainer(DT)\n",
    "shap_values = explainer.shap_values(X_test)\n",
    "\n",
    "shap.summary_plot(shap_values, X_test, show=False)\n"
   ]
  },
  {
   "cell_type": "code",
   "execution_count": null,
   "metadata": {},
   "outputs": [],
   "source": [
    "# Getting a sample of the data\n",
    "\n",
    "X_test_sample = X_test.sample(n=500, random_state=SEED)\n",
    "\n",
    "explainer = shap.Explainer(DT.predict, X_test_sample)\n",
    "shap_values = explainer(X_test_sample)\n",
    "\n",
    "shap.plots.bar(shap_values)"
   ]
  },
  {
   "cell_type": "code",
   "execution_count": null,
   "metadata": {},
   "outputs": [],
   "source": [
    "shap.plots.bar(shap_values[0])"
   ]
  },
  {
   "cell_type": "code",
   "execution_count": null,
   "metadata": {},
   "outputs": [],
   "source": [
    "shap.plots.beeswarm(shap_values)"
   ]
  },
  {
   "cell_type": "markdown",
   "metadata": {},
   "source": [
    "# A621\n"
   ]
  },
  {
   "cell_type": "code",
   "execution_count": null,
   "metadata": {},
   "outputs": [],
   "source": [
    "a621_train = f\"{data_folder}{files[1]}{end_train_name}\"\n",
    "a621_test = f\"{data_folder}{files[1]}{end_test_name}\"\n",
    "a621_val = f\"{data_folder}{files[1]}{end_val_name}\"\n",
    "\n",
    "df_train = pd.read_parquet(a621_train)\n",
    "df_test = pd.read_parquet(a621_test)\n",
    "df_val = pd.read_parquet(a621_val)"
   ]
  },
  {
   "cell_type": "code",
   "execution_count": null,
   "metadata": {},
   "outputs": [],
   "source": [
    "df_train[\"precipitation\"] = df_train[\"precipitation\"].apply(\n",
    "    classify_precipitation)\n",
    "df_test[\"precipitation\"] = df_test[\"precipitation\"].apply(\n",
    "    classify_precipitation)\n",
    "df_val[\"precipitation\"] = df_val[\"precipitation\"].apply(classify_precipitation)\n",
    "\n",
    "df_train = pd.concat([df_train, df_val])"
   ]
  },
  {
   "cell_type": "code",
   "execution_count": null,
   "metadata": {},
   "outputs": [],
   "source": [
    "X_train = df_train.drop(columns=[\"precipitation\"])\n",
    "y_train = df_train[\"precipitation\"]\n",
    "\n",
    "X_test = df_test.drop(columns=[\"precipitation\"])\n",
    "y_test = df_test[\"precipitation\"]"
   ]
  },
  {
   "cell_type": "code",
   "execution_count": null,
   "metadata": {},
   "outputs": [],
   "source": [
    "scaler = StandardScaler()\n",
    "cols_scaler = X_train.columns\n",
    "X_train.loc[:, cols_scaler] = scaler.fit_transform(X_train)\n",
    "X_test.loc[:, cols_scaler] = scaler.transform(X_test)"
   ]
  },
  {
   "cell_type": "code",
   "execution_count": null,
   "metadata": {},
   "outputs": [],
   "source": [
    "DT = DecisionTreeClassifier(random_state=SEED)\n",
    "DT.fit(X_train, y_train)\n",
    "\n",
    "explainer = shap.TreeExplainer(DT)\n",
    "shap_values = explainer.shap_values(X_test)\n",
    "\n",
    "shap.summary_plot(shap_values, X_test)"
   ]
  },
  {
   "cell_type": "code",
   "execution_count": null,
   "metadata": {},
   "outputs": [],
   "source": [
    "# Getting a sample of the data\n",
    "\n",
    "X_test_sample = X_test.sample(n=500, random_state=SEED)\n",
    "\n",
    "explainer = shap.Explainer(DT.predict, X_test_sample)\n",
    "shap_values = explainer(X_test_sample)\n",
    "\n",
    "shap.plots.bar(shap_values)"
   ]
  },
  {
   "cell_type": "code",
   "execution_count": null,
   "metadata": {},
   "outputs": [],
   "source": [
    "shap.plots.bar(shap_values[0])"
   ]
  },
  {
   "cell_type": "code",
   "execution_count": null,
   "metadata": {},
   "outputs": [],
   "source": [
    "shap.plots.beeswarm(shap_values)"
   ]
  },
  {
   "cell_type": "code",
   "execution_count": null,
   "metadata": {},
   "outputs": [],
   "source": []
  },
  {
   "cell_type": "markdown",
   "metadata": {},
   "source": [
    "# A627\n"
   ]
  },
  {
   "cell_type": "code",
   "execution_count": null,
   "metadata": {},
   "outputs": [],
   "source": [
    "a627_train = f\"{data_folder}{files[2]}{end_train_name}\"\n",
    "a627_test = f\"{data_folder}{files[2]}{end_test_name}\"\n",
    "a627_val = f\"{data_folder}{files[2]}{end_val_name}\"\n",
    "\n",
    "df_train = pd.read_parquet(a627_train)\n",
    "df_test = pd.read_parquet(a627_test)\n",
    "df_val = pd.read_parquet(a627_val)"
   ]
  },
  {
   "cell_type": "code",
   "execution_count": null,
   "metadata": {},
   "outputs": [],
   "source": [
    "df_train[\"precipitation\"] = df_train[\"precipitation\"].apply(\n",
    "    classify_precipitation)\n",
    "df_test[\"precipitation\"] = df_test[\"precipitation\"].apply(\n",
    "    classify_precipitation)\n",
    "df_val[\"precipitation\"] = df_val[\"precipitation\"].apply(classify_precipitation)\n",
    "\n",
    "df_train = pd.concat([df_train, df_val])"
   ]
  },
  {
   "cell_type": "code",
   "execution_count": null,
   "metadata": {},
   "outputs": [],
   "source": [
    "X_train = df_train.drop(columns=[\"precipitation\"])\n",
    "y_train = df_train[\"precipitation\"]\n",
    "\n",
    "X_test = df_test.drop(columns=[\"precipitation\"])\n",
    "y_test = df_test[\"precipitation\"]"
   ]
  },
  {
   "cell_type": "code",
   "execution_count": null,
   "metadata": {},
   "outputs": [],
   "source": [
    "scaler = StandardScaler()\n",
    "cols_scaler = X_train.columns\n",
    "X_train.loc[:, cols_scaler] = scaler.fit_transform(X_train)\n",
    "X_test.loc[:, cols_scaler] = scaler.transform(X_test)"
   ]
  },
  {
   "cell_type": "code",
   "execution_count": null,
   "metadata": {},
   "outputs": [],
   "source": [
    "DT = DecisionTreeClassifier(random_state=SEED)\n",
    "DT.fit(X_train, y_train)\n",
    "\n",
    "explainer = shap.TreeExplainer(DT)\n",
    "shap_values = explainer.shap_values(X_test)\n",
    "\n",
    "shap.summary_plot(shap_values, X_test, show=False)\n"
   ]
  },
  {
   "cell_type": "code",
   "execution_count": null,
   "metadata": {},
   "outputs": [],
   "source": [
    "# Getting a sample of the data\n",
    "\n",
    "X_test_sample = X_test.sample(n=500, random_state=SEED)\n",
    "\n",
    "explainer = shap.Explainer(DT.predict, X_test_sample)\n",
    "shap_values = explainer(X_test_sample)\n",
    "\n",
    "shap.plots.bar(shap_values)"
   ]
  },
  {
   "cell_type": "code",
   "execution_count": null,
   "metadata": {},
   "outputs": [],
   "source": [
    "shap.plots.bar(shap_values[0])"
   ]
  },
  {
   "cell_type": "code",
   "execution_count": null,
   "metadata": {},
   "outputs": [],
   "source": [
    "shap.plots.beeswarm(shap_values)"
   ]
  },
  {
   "cell_type": "code",
   "execution_count": null,
   "metadata": {},
   "outputs": [],
   "source": []
  },
  {
   "cell_type": "code",
   "execution_count": null,
   "metadata": {},
   "outputs": [],
   "source": []
  },
  {
   "cell_type": "markdown",
   "metadata": {},
   "source": [
    "# A636\n"
   ]
  },
  {
   "cell_type": "code",
   "execution_count": null,
   "metadata": {},
   "outputs": [],
   "source": [
    "a636_train = f\"{data_folder}{files[3]}{end_train_name}\"\n",
    "a636_test = f\"{data_folder}{files[3]}{end_test_name}\"\n",
    "a636_val = f\"{data_folder}{files[3]}{end_val_name}\"\n",
    "\n",
    "df_train = pd.read_parquet(a636_train)\n",
    "df_test = pd.read_parquet(a636_test)\n",
    "df_val = pd.read_parquet(a636_val)"
   ]
  },
  {
   "cell_type": "code",
   "execution_count": null,
   "metadata": {},
   "outputs": [],
   "source": [
    "df_train[\"precipitation\"] = df_train[\"precipitation\"].apply(\n",
    "    classify_precipitation)\n",
    "df_test[\"precipitation\"] = df_test[\"precipitation\"].apply(\n",
    "    classify_precipitation)\n",
    "df_val[\"precipitation\"] = df_val[\"precipitation\"].apply(classify_precipitation)\n",
    "\n",
    "df_train = pd.concat([df_train, df_val])"
   ]
  },
  {
   "cell_type": "code",
   "execution_count": null,
   "metadata": {},
   "outputs": [],
   "source": [
    "X_train = df_train.drop(columns=[\"precipitation\"])\n",
    "y_train = df_train[\"precipitation\"]\n",
    "\n",
    "X_test = df_test.drop(columns=[\"precipitation\"])\n",
    "y_test = df_test[\"precipitation\"]"
   ]
  },
  {
   "cell_type": "code",
   "execution_count": null,
   "metadata": {},
   "outputs": [],
   "source": [
    "scaler = StandardScaler()\n",
    "cols_scaler = X_train.columns\n",
    "X_train.loc[:, cols_scaler] = scaler.fit_transform(X_train)\n",
    "X_test.loc[:, cols_scaler] = scaler.transform(X_test)"
   ]
  },
  {
   "cell_type": "code",
   "execution_count": null,
   "metadata": {},
   "outputs": [],
   "source": [
    "DT = DecisionTreeClassifier(random_state=SEED)\n",
    "DT.fit(X_train, y_train)\n",
    "\n",
    "explainer = shap.TreeExplainer(DT)\n",
    "shap_values = explainer.shap_values(X_test)\n",
    "\n",
    "shap.summary_plot(shap_values, X_test, show=False)\n"
   ]
  },
  {
   "cell_type": "code",
   "execution_count": null,
   "metadata": {},
   "outputs": [],
   "source": [
    "# Getting a sample of the data\n",
    "\n",
    "X_test_sample = X_test.sample(n=500, random_state=SEED)\n",
    "\n",
    "explainer = shap.Explainer(DT.predict, X_test_sample)\n",
    "shap_values = explainer(X_test_sample)\n",
    "\n",
    "shap.plots.bar(shap_values)"
   ]
  },
  {
   "cell_type": "code",
   "execution_count": null,
   "metadata": {},
   "outputs": [],
   "source": [
    "shap.plots.bar(shap_values[0])"
   ]
  },
  {
   "cell_type": "code",
   "execution_count": null,
   "metadata": {},
   "outputs": [],
   "source": [
    "shap.plots.beeswarm(shap_values)"
   ]
  },
  {
   "cell_type": "code",
   "execution_count": null,
   "metadata": {},
   "outputs": [],
   "source": []
  },
  {
   "cell_type": "code",
   "execution_count": null,
   "metadata": {},
   "outputs": [],
   "source": []
  },
  {
   "cell_type": "markdown",
   "metadata": {},
   "source": [
    "# A652\n"
   ]
  },
  {
   "cell_type": "code",
   "execution_count": null,
   "metadata": {},
   "outputs": [],
   "source": [
    "a652_train = f\"{data_folder}{files[4]}{end_train_name}\"\n",
    "a652_test = f\"{data_folder}{files[4]}{end_test_name}\"\n",
    "a652_val = f\"{data_folder}{files[4]}{end_val_name}\"\n",
    "\n",
    "df_train = pd.read_parquet(a652_train)\n",
    "df_test = pd.read_parquet(a652_test)\n",
    "df_val = pd.read_parquet(a652_val)"
   ]
  },
  {
   "cell_type": "code",
   "execution_count": null,
   "metadata": {},
   "outputs": [],
   "source": [
    "df_train[\"precipitation\"] = df_train[\"precipitation\"].apply(\n",
    "    classify_precipitation)\n",
    "df_test[\"precipitation\"] = df_test[\"precipitation\"].apply(\n",
    "    classify_precipitation)\n",
    "df_val[\"precipitation\"] = df_val[\"precipitation\"].apply(classify_precipitation)\n",
    "\n",
    "df_train = pd.concat([df_train, df_val])"
   ]
  },
  {
   "cell_type": "code",
   "execution_count": null,
   "metadata": {},
   "outputs": [],
   "source": [
    "X_train = df_train.drop(columns=[\"precipitation\"])\n",
    "y_train = df_train[\"precipitation\"]\n",
    "\n",
    "X_test = df_test.drop(columns=[\"precipitation\"])\n",
    "y_test = df_test[\"precipitation\"]"
   ]
  },
  {
   "cell_type": "code",
   "execution_count": null,
   "metadata": {},
   "outputs": [],
   "source": [
    "scaler = StandardScaler()\n",
    "cols_scaler = X_train.columns\n",
    "X_train.loc[:, cols_scaler] = scaler.fit_transform(X_train)\n",
    "X_test.loc[:, cols_scaler] = scaler.transform(X_test)"
   ]
  },
  {
   "cell_type": "code",
   "execution_count": null,
   "metadata": {},
   "outputs": [],
   "source": [
    "DT = DecisionTreeClassifier(random_state=SEED)\n",
    "DT.fit(X_train, y_train)\n",
    "\n",
    "explainer = shap.TreeExplainer(DT)\n",
    "shap_values = explainer.shap_values(X_test)\n",
    "\n",
    "shap.summary_plot(shap_values, X_test, show=False)\n"
   ]
  },
  {
   "cell_type": "code",
   "execution_count": null,
   "metadata": {},
   "outputs": [],
   "source": [
    "# Getting a sample of the data\n",
    "\n",
    "X_test_sample = X_test.sample(n=500, random_state=SEED)\n",
    "\n",
    "explainer = shap.Explainer(DT.predict, X_test_sample)\n",
    "shap_values = explainer(X_test_sample)\n",
    "\n",
    "shap.plots.bar(shap_values)"
   ]
  },
  {
   "cell_type": "code",
   "execution_count": null,
   "metadata": {},
   "outputs": [],
   "source": [
    "shap.plots.bar(shap_values[0])"
   ]
  },
  {
   "cell_type": "code",
   "execution_count": null,
   "metadata": {},
   "outputs": [],
   "source": [
    "shap.plots.beeswarm(shap_values)"
   ]
  },
  {
   "cell_type": "code",
   "execution_count": null,
   "metadata": {},
   "outputs": [],
   "source": []
  },
  {
   "cell_type": "code",
   "execution_count": null,
   "metadata": {},
   "outputs": [],
   "source": []
  }
 ],
 "metadata": {
  "kernelspec": {
   "display_name": ".venv",
   "language": "python",
   "name": "python3"
  },
  "language_info": {
   "codemirror_mode": {
    "name": "ipython",
    "version": 3
   },
   "file_extension": ".py",
   "mimetype": "text/x-python",
   "name": "python",
   "nbconvert_exporter": "python",
   "pygments_lexer": "ipython3",
   "version": "3.10.12"
  }
 },
 "nbformat": 4,
 "nbformat_minor": 2
}
