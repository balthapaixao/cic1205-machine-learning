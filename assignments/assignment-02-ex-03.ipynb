{
 "cells": [
  {
   "cell_type": "markdown",
   "metadata": {},
   "source": [
    "# Assignment 2 - CIC-1205\n",
    "\n",
    "## Exercise 1 - Cross Validation\n",
    "\n",
    "Student: Balthazar Paixão\n"
   ]
  },
  {
   "cell_type": "code",
   "execution_count": null,
   "metadata": {},
   "outputs": [],
   "source": [
    "import numpy as np\n",
    "import pickle\n",
    "import matplotlib.pyplot as plt\n",
    "\n",
    "from sklearn.ensemble import GradientBoostingClassifier\n",
    "\n",
    "from sklearn.model_selection import learning_curve, StratifiedKFold\n",
    "from sklearn.metrics import confusion_matrix, classification_report\n",
    "\n",
    "import warnings\n",
    "warnings.filterwarnings(\"ignore\")"
   ]
  },
  {
   "cell_type": "code",
   "execution_count": null,
   "metadata": {},
   "outputs": [],
   "source": [
    "SEED = 57\n",
    "\n",
    "data_folder = \"../class-repo/cic1205/data/atmoseer/\"\n",
    "pickle_files = [\n",
    "    \"A602.pickle\",\n",
    "    \"A621.pickle\",\n",
    "    \"A627.pickle\",\n",
    "    \"A636.pickle\",\n",
    "    \"A652.pickle\",\n",
    "]\n",
    "\n",
    "\n",
    "def transform_array(arr: np.ndarray) -> list:\n",
    "    \"\"\"\n",
    "    •0 → NONE\n",
    "    •(0, 5] → WEAK\n",
    "    •(5, 25] → MODERATE\n",
    "    •(25,50] → STRONG\n",
    "    •(50, ∞] → EXTREME\n",
    "    \"\"\"\n",
    "    arr = arr.tolist()\n",
    "    for i in range(len(arr)):\n",
    "        if arr[i][0] == 0:\n",
    "            arr[i] = 0  # 'NONE'\n",
    "        elif arr[i][0] > 0 and arr[i][0] <= 5:\n",
    "            arr[i] = 1  # 'WEAK'\n",
    "        elif arr[i][0] > 5 and arr[i][0] <= 25:\n",
    "            arr[i] = 2  # 'MODERATE'\n",
    "        elif arr[i][0] > 25 and arr[i][0] <= 50:\n",
    "            arr[i] = 3  # 'STRONG'\n",
    "        elif arr[i][0] > 50:\n",
    "            arr[i] = 4  # 'EXTREME'\n",
    "    return arr\n",
    "\n",
    "\n",
    "def count_values_list(lst: list) -> dict:\n",
    "    \"\"\"\n",
    "    Count the number of times each value appears in a list\n",
    "    \"\"\"\n",
    "    dict_counter = {}\n",
    "    for i in lst:\n",
    "        dict_counter[i] = dict_counter.get(i, 0) + 1\n",
    "\n",
    "    return dict_counter"
   ]
  },
  {
   "cell_type": "markdown",
   "metadata": {},
   "source": [
    "# A602\n"
   ]
  },
  {
   "cell_type": "code",
   "execution_count": null,
   "metadata": {},
   "outputs": [],
   "source": [
    "a602 = f\"{data_folder}{pickle_files[0]}\"\n",
    "file = open(a602, \"rb\")\n",
    "(X_train, y_train, X_val, y_val, X_test, y_test) = pickle.load(file)\n",
    "\n",
    "y_train = transform_array(y_train)\n",
    "y_val = transform_array(y_val)\n",
    "y_test = transform_array(y_test)"
   ]
  },
  {
   "cell_type": "code",
   "execution_count": null,
   "metadata": {},
   "outputs": [],
   "source": [
    "X_train = np.concatenate((X_train, X_val))\n",
    "y_train = np.concatenate((y_train, y_val))"
   ]
  },
  {
   "cell_type": "code",
   "execution_count": null,
   "metadata": {},
   "outputs": [],
   "source": [
    "GB = GradientBoostingClassifier(random_state=SEED)\n",
    "\n",
    "skf = StratifiedKFold(n_splits=5, shuffle=True, random_state=SEED)\n",
    "\n",
    "train_sizes, train_scores, test_scores = learning_curve(\n",
    "    GB, X_train, y_train, cv=skf, scoring=\"neg_root_mean_squared_error\", n_jobs=-1\n",
    ")\n",
    "\n",
    "train_scores_mean =  train_scores.mean(axis=1)\n",
    "test_scores_mean = test_scores.mean(axis=1)\n",
    "\n",
    "fig, ax = plt.subplots()\n",
    "ax.plot(train_sizes, train_scores_mean, label=\"Training score\")\n",
    "ax.plot(train_sizes, test_scores_mean, label=\"Cross-validation score\")\n",
    "ax.set_xlabel(\"Training set size\")\n",
    "ax.set_ylabel(\"RMSE\")\n",
    "ax.set_title(\"Learning curves for Gradient Boosting\")\n",
    "ax.legend()\n",
    "plt.show()"
   ]
  },
  {
   "cell_type": "code",
   "execution_count": null,
   "metadata": {},
   "outputs": [],
   "source": [
    "params = {\n",
    "    'n_iter_no_change': 100,\n",
    "    'tol': 0.001,\n",
    "    'random_state': SEED\n",
    "}\n",
    "\n",
    "GB = GradientBoostingClassifier(**params)\n",
    "\n",
    "GB.fit(X_train, y_train)\n",
    "\n",
    "y_pred = GB.predict(X_test)\n",
    "\n",
    "print(\"Confusion matrix: \\n\", confusion_matrix(y_test, y_pred))\n",
    "print(\"Classification report: \\n\", classification_report(y_test, y_pred))"
   ]
  },
  {
   "cell_type": "markdown",
   "metadata": {},
   "source": [
    "# A621\n"
   ]
  },
  {
   "cell_type": "code",
   "execution_count": null,
   "metadata": {},
   "outputs": [],
   "source": [
    "a621 = f\"{data_folder}{pickle_files[1]}\"\n",
    "file = open(a621, \"rb\")\n",
    "(X_train, y_train, X_val, y_val, X_test, y_test) = pickle.load(file)\n",
    "\n",
    "y_train = transform_array(y_train)\n",
    "y_val = transform_array(y_val)\n",
    "y_test = transform_array(y_test)"
   ]
  },
  {
   "cell_type": "code",
   "execution_count": null,
   "metadata": {},
   "outputs": [],
   "source": [
    "X_train = np.concatenate((X_train, X_val))\n",
    "y_train = np.concatenate((y_train, y_val))"
   ]
  },
  {
   "cell_type": "code",
   "execution_count": null,
   "metadata": {},
   "outputs": [],
   "source": [
    "GB = GradientBoostingClassifier(random_state=SEED)\n",
    "\n",
    "skf = StratifiedKFold(n_splits=5, shuffle=True, random_state=SEED)\n",
    "\n",
    "train_sizes, train_scores, test_scores = learning_curve(\n",
    "    GB, X_train, y_train, cv=skf, scoring=\"neg_root_mean_squared_error\", n_jobs=-1\n",
    ")\n",
    "\n",
    "train_scores_mean =  train_scores.mean(axis=1)\n",
    "test_scores_mean = test_scores.mean(axis=1)\n",
    "\n",
    "fig, ax = plt.subplots()\n",
    "ax.plot(train_sizes, train_scores_mean, label=\"Training score\")\n",
    "ax.plot(train_sizes, test_scores_mean, label=\"Cross-validation score\")\n",
    "ax.set_xlabel(\"Training set size\")\n",
    "ax.set_ylabel(\"RMSE\")\n",
    "ax.set_title(\"Learning curves for Gradient Boosting\")\n",
    "ax.legend()\n",
    "plt.show()"
   ]
  },
  {
   "cell_type": "code",
   "execution_count": null,
   "metadata": {},
   "outputs": [],
   "source": [
    "params = {\n",
    "    'n_iter_no_change': 100,\n",
    "    'tol': 0.001,\n",
    "    'random_state': SEED\n",
    "}\n",
    "\n",
    "GB = GradientBoostingClassifier(**params)\n",
    "\n",
    "GB.fit(X_train, y_train)\n",
    "\n",
    "y_pred = GB.predict(X_test)\n",
    "\n",
    "print(\"Confusion matrix: \\n\", confusion_matrix(y_test, y_pred))\n",
    "print(\"Classification report: \\n\", classification_report(y_test, y_pred))"
   ]
  },
  {
   "cell_type": "markdown",
   "metadata": {},
   "source": [
    "# A627\n"
   ]
  },
  {
   "cell_type": "code",
   "execution_count": null,
   "metadata": {},
   "outputs": [],
   "source": [
    "a627 = f\"{data_folder}{pickle_files[2]}\"\n",
    "file = open(a627, \"rb\")\n",
    "(X_train, y_train, X_val, y_val, X_test, y_test) = pickle.load(file)\n",
    "\n",
    "y_train = transform_array(y_train)\n",
    "y_val = transform_array(y_val)\n",
    "y_test = transform_array(y_test)"
   ]
  },
  {
   "cell_type": "code",
   "execution_count": null,
   "metadata": {},
   "outputs": [],
   "source": [
    "X_train = np.concatenate((X_train, X_val))\n",
    "y_train = np.concatenate((y_train, y_val))"
   ]
  },
  {
   "cell_type": "code",
   "execution_count": null,
   "metadata": {},
   "outputs": [],
   "source": [
    "GB = GradientBoostingClassifier(random_state=SEED)\n",
    "\n",
    "skf = StratifiedKFold(n_splits=5, shuffle=True, random_state=SEED)\n",
    "\n",
    "train_sizes, train_scores, test_scores = learning_curve(\n",
    "    GB, X_train, y_train, cv=skf, scoring=\"neg_root_mean_squared_error\", n_jobs=-1\n",
    ")\n",
    "\n",
    "train_scores_mean =  train_scores.mean(axis=1)\n",
    "test_scores_mean = test_scores.mean(axis=1)\n",
    "\n",
    "fig, ax = plt.subplots()\n",
    "ax.plot(train_sizes, train_scores_mean, label=\"Training score\")\n",
    "ax.plot(train_sizes, test_scores_mean, label=\"Cross-validation score\")\n",
    "ax.set_xlabel(\"Training set size\")\n",
    "ax.set_ylabel(\"RMSE\")\n",
    "ax.set_title(\"Learning curves for Gradient Boosting\")\n",
    "ax.legend()\n",
    "plt.show()"
   ]
  },
  {
   "cell_type": "code",
   "execution_count": null,
   "metadata": {},
   "outputs": [],
   "source": [
    "params = {\n",
    "    'n_iter_no_change': 100,\n",
    "    'tol': 0.001,\n",
    "    'random_state': SEED\n",
    "}\n",
    "\n",
    "GB = GradientBoostingClassifier(**params)\n",
    "\n",
    "GB.fit(X_train, y_train)\n",
    "\n",
    "y_pred = GB.predict(X_test)\n",
    "\n",
    "print(\"Confusion matrix: \\n\", confusion_matrix(y_test, y_pred))\n",
    "print(\"Classification report: \\n\", classification_report(y_test, y_pred))"
   ]
  },
  {
   "cell_type": "markdown",
   "metadata": {},
   "source": [
    "# A636"
   ]
  },
  {
   "cell_type": "code",
   "execution_count": null,
   "metadata": {},
   "outputs": [],
   "source": [
    "a636 = f\"{data_folder}{pickle_files[3]}\"\n",
    "file = open(a636, \"rb\")\n",
    "(X_train, y_train, X_val, y_val, X_test, y_test) = pickle.load(file)\n",
    "\n",
    "y_train = transform_array(y_train)\n",
    "y_val = transform_array(y_val)\n",
    "y_test = transform_array(y_test)"
   ]
  },
  {
   "cell_type": "code",
   "execution_count": null,
   "metadata": {},
   "outputs": [],
   "source": [
    "X_train = np.concatenate((X_train, X_val))\n",
    "y_train = np.concatenate((y_train, y_val))"
   ]
  },
  {
   "cell_type": "code",
   "execution_count": null,
   "metadata": {},
   "outputs": [],
   "source": [
    "GB = GradientBoostingClassifier(random_state=SEED)\n",
    "\n",
    "skf = StratifiedKFold(n_splits=5, shuffle=True, random_state=SEED)\n",
    "\n",
    "train_sizes, train_scores, test_scores = learning_curve(\n",
    "    GB, X_train, y_train, cv=skf, scoring=\"neg_root_mean_squared_error\", n_jobs=-1\n",
    ")\n",
    "\n",
    "train_scores_mean =  train_scores.mean(axis=1)\n",
    "test_scores_mean = test_scores.mean(axis=1)\n",
    "\n",
    "fig, ax = plt.subplots()\n",
    "ax.plot(train_sizes, train_scores_mean, label=\"Training score\")\n",
    "ax.plot(train_sizes, test_scores_mean, label=\"Cross-validation score\")\n",
    "ax.set_xlabel(\"Training set size\")\n",
    "ax.set_ylabel(\"RMSE\")\n",
    "ax.set_title(\"Learning curves for Gradient Boosting\")\n",
    "ax.legend()\n",
    "plt.show()"
   ]
  },
  {
   "cell_type": "code",
   "execution_count": null,
   "metadata": {},
   "outputs": [],
   "source": [
    "params = {\n",
    "    'n_iter_no_change': 100,\n",
    "    'tol': 0.001,\n",
    "    'random_state': SEED\n",
    "}\n",
    "\n",
    "GB = GradientBoostingClassifier(**params)\n",
    "\n",
    "GB.fit(X_train, y_train)\n",
    "\n",
    "y_pred = GB.predict(X_test)\n",
    "\n",
    "print(\"Confusion matrix: \\n\", confusion_matrix(y_test, y_pred))\n",
    "print(\"Classification report: \\n\", classification_report(y_test, y_pred))"
   ]
  },
  {
   "cell_type": "markdown",
   "metadata": {},
   "source": [
    "# A652\n"
   ]
  },
  {
   "cell_type": "code",
   "execution_count": null,
   "metadata": {},
   "outputs": [],
   "source": [
    "a652 = f\"{data_folder}{pickle_files[4]}\"\n",
    "file = open(a652, \"rb\")\n",
    "(X_train, y_train, X_val, y_val, X_test, y_test) = pickle.load(file)\n",
    "\n",
    "y_train = transform_array(y_train)\n",
    "y_val = transform_array(y_val)\n",
    "y_test = transform_array(y_test)"
   ]
  },
  {
   "cell_type": "code",
   "execution_count": null,
   "metadata": {},
   "outputs": [],
   "source": [
    "X_train = np.concatenate((X_train, X_val))\n",
    "y_train = np.concatenate((y_train, y_val))"
   ]
  },
  {
   "cell_type": "code",
   "execution_count": null,
   "metadata": {},
   "outputs": [],
   "source": [
    "GB = GradientBoostingClassifier(random_state=SEED)\n",
    "\n",
    "skf = StratifiedKFold(n_splits=5, shuffle=True, random_state=SEED)\n",
    "\n",
    "train_sizes, train_scores, test_scores = learning_curve(\n",
    "    GB, X_train, y_train, cv=skf, scoring=\"neg_root_mean_squared_error\", n_jobs=-1\n",
    ")\n",
    "\n",
    "train_scores_mean =  train_scores.mean(axis=1)\n",
    "test_scores_mean = test_scores.mean(axis=1)\n",
    "\n",
    "fig, ax = plt.subplots()\n",
    "ax.plot(train_sizes, train_scores_mean, label=\"Training score\")\n",
    "ax.plot(train_sizes, test_scores_mean, label=\"Cross-validation score\")\n",
    "ax.set_xlabel(\"Training set size\")\n",
    "ax.set_ylabel(\"RMSE\")\n",
    "ax.set_title(\"Learning curves for Gradient Boosting\")\n",
    "ax.legend()\n",
    "plt.show()"
   ]
  },
  {
   "cell_type": "code",
   "execution_count": null,
   "metadata": {},
   "outputs": [],
   "source": [
    "params = {\n",
    "    'n_iter_no_change': 100,\n",
    "    'tol': 0.001,\n",
    "    'random_state': SEED\n",
    "}\n",
    "\n",
    "GB = GradientBoostingClassifier(**params)\n",
    "\n",
    "GB.fit(X_train, y_train)\n",
    "\n",
    "y_pred = GB.predict(X_test)\n",
    "\n",
    "print(\"Confusion matrix: \\n\", confusion_matrix(y_test, y_pred))\n",
    "print(\"Classification report: \\n\", classification_report(y_test, y_pred))"
   ]
  }
 ],
 "metadata": {
  "kernelspec": {
   "display_name": ".venv",
   "language": "python",
   "name": "python3"
  },
  "language_info": {
   "codemirror_mode": {
    "name": "ipython",
    "version": 3
   },
   "file_extension": ".py",
   "mimetype": "text/x-python",
   "name": "python",
   "nbconvert_exporter": "python",
   "pygments_lexer": "ipython3",
   "version": "3.10.12"
  }
 },
 "nbformat": 4,
 "nbformat_minor": 2
}
