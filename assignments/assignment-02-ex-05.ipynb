{
 "cells": [
  {
   "cell_type": "markdown",
   "metadata": {},
   "source": [
    "# Assignment 2 - CIC-1205\n",
    "\n",
    "## Exercise 5 - Cross Validation\n",
    "\n",
    "Student: Balthazar Paixão\n"
   ]
  },
  {
   "cell_type": "code",
   "execution_count": null,
   "metadata": {},
   "outputs": [],
   "source": [
    "data_folder = \"../class-repo/cic1205/data/atmoseer/\"\n",
    "pickle_files = [\n",
    "    \"A602.pickle\",\n",
    "    \"A621.pickle\",\n",
    "    \"A627.pickle\",\n",
    "    \"A636.pickle\",\n",
    "    \"A652.pickle\",\n",
    "]"
   ]
  },
  {
   "cell_type": "code",
   "execution_count": null,
   "metadata": {},
   "outputs": [],
   "source": [
    "import numpy as np\n",
    "import pickle\n",
    "\n",
    "from sklearn.decomposition import PCA\n",
    "from sklearn.model_selection import StratifiedKFold\n",
    "from sklearn.model_selection import GridSearchCV\n",
    "\n",
    "import warnings\n",
    "warnings.filterwarnings(\"ignore\")"
   ]
  },
  {
   "cell_type": "code",
   "execution_count": null,
   "metadata": {},
   "outputs": [],
   "source": [
    "SEED = 57\n",
    "\n",
    "data_folder = \"../class-repo/cic1205/data/atmoseer/\"\n",
    "pickle_files = [\n",
    "    \"A602.pickle\",\n",
    "    \"A621.pickle\",\n",
    "    \"A627.pickle\",\n",
    "    \"A636.pickle\",\n",
    "    \"A652.pickle\",\n",
    "]\n",
    "\n",
    "\n",
    "def transform_array(arr: np.ndarray) -> list:\n",
    "    \"\"\"\n",
    "    •0 → NONE\n",
    "    •(0, 5] → WEAK\n",
    "    •(5, 25] → MODERATE\n",
    "    •(25,50] → STRONG\n",
    "    •(50, ∞] → EXTREME\n",
    "    \"\"\"\n",
    "    arr = arr.tolist()\n",
    "    for i in range(len(arr)):\n",
    "        if arr[i][0] == 0:\n",
    "            arr[i] = 0  # 'NONE'\n",
    "        elif arr[i][0] > 0 and arr[i][0] <= 5:\n",
    "            arr[i] = 1  # 'WEAK'\n",
    "        elif arr[i][0] > 5 and arr[i][0] <= 25:\n",
    "            arr[i] = 2  # 'MODERATE'\n",
    "        elif arr[i][0] > 25 and arr[i][0] <= 50:\n",
    "            arr[i] = 3  # 'STRONG'\n",
    "        elif arr[i][0] > 50:\n",
    "            arr[i] = 4  # 'EXTREME'\n",
    "    return arr\n",
    "\n",
    "\n",
    "def count_values_list(lst: list) -> dict:\n",
    "    \"\"\"\n",
    "    Count the number of times each value appears in a list\n",
    "    \"\"\"\n",
    "    dict_counter = {}\n",
    "    for i in lst:\n",
    "        dict_counter[i] = dict_counter.get(i, 0) + 1\n",
    "\n",
    "    return dict_counter"
   ]
  },
  {
   "cell_type": "markdown",
   "metadata": {},
   "source": [
    "# A652"
   ]
  },
  {
   "cell_type": "code",
   "execution_count": null,
   "metadata": {},
   "outputs": [],
   "source": [
    "a652 = f\"{data_folder}{pickle_files[4]}\"\n",
    "file = open(a652, \"rb\")\n",
    "(X_train, y_train, X_val, y_val, X_test, y_test) = pickle.load(file)\n",
    "\n",
    "y_train = transform_array(y_train)\n",
    "y_val = transform_array(y_val)\n",
    "y_test = transform_array(y_test)\n",
    "\n",
    "X_train = np.concatenate((X_train, X_val))\n",
    "y_train = np.concatenate((y_train, y_val))\n"
   ]
  },
  {
   "cell_type": "code",
   "execution_count": null,
   "metadata": {},
   "outputs": [],
   "source": [
    "params = {\n",
    "    \"n_components\": [2, 3, 4, 5],\n",
    "}\n",
    "\n",
    "pca = PCA(random_state=SEED)\n",
    "\n",
    "skf = StratifiedKFold(n_splits=5, shuffle=True, random_state=SEED)\n",
    "\n",
    "grid_search = GridSearchCV(\n",
    "    pca, params, cv=skf, verbose=1, n_jobs=-1\n",
    ")\n",
    "\n",
    "grid_search.fit(X_train, y_train)"
   ]
  },
  {
   "cell_type": "code",
   "execution_count": null,
   "metadata": {},
   "outputs": [],
   "source": [
    "print(f\"Best params: {grid_search.best_params_}\")\n",
    "print(f\"Best score: {grid_search.best_score_}\")\n",
    "print(f\"Best estimator: {grid_search.best_estimator_}\")\n",
    "print(f\"Best index: {grid_search.best_index_}\")"
   ]
  },
  {
   "cell_type": "code",
   "execution_count": null,
   "metadata": {},
   "outputs": [],
   "source": [
    "pca = PCA(**grid_search.best_params_, random_state=SEED)\n",
    "\n",
    "X_train = pca.fit_transform(X_train)\n",
    "X_test = pca.transform(X_test)\n",
    "\n",
    "print(f\"Explained variance ratio: {pca.explained_variance_ratio_}\")\n",
    "#plot\n",
    "import matplotlib.pyplot as plt\n",
    "plt.plot(np.cumsum(pca.explained_variance_ratio_))\n",
    "plt.xlabel('number of components')\n",
    "plt.ylabel('cumulative explained variance')\n",
    "plt.grid()\n",
    "plt.show()"
   ]
  },
  {
   "cell_type": "code",
   "execution_count": null,
   "metadata": {},
   "outputs": [],
   "source": [
    "from sklearn.linear_model import LogisticRegression\n",
    "from sklearn.metrics import classification_report, confusion_matrix\n",
    "\n",
    "LR = LogisticRegression(random_state=SEED, max_iter=1000)\n",
    "LR.fit(X_train, y_train)\n",
    "\n",
    "y_pred = LR.predict(X_test)\n",
    "\n",
    "print(confusion_matrix(y_test, y_pred))\n",
    "print(classification_report(y_test, y_pred))"
   ]
  }
 ],
 "metadata": {
  "kernelspec": {
   "display_name": ".venv",
   "language": "python",
   "name": "python3"
  },
  "language_info": {
   "codemirror_mode": {
    "name": "ipython",
    "version": 3
   },
   "file_extension": ".py",
   "mimetype": "text/x-python",
   "name": "python",
   "nbconvert_exporter": "python",
   "pygments_lexer": "ipython3",
   "version": "3.10.12"
  }
 },
 "nbformat": 4,
 "nbformat_minor": 2
}
