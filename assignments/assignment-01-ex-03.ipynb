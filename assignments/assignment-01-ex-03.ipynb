{
 "cells": [
  {
   "cell_type": "markdown",
   "metadata": {},
   "source": [
    "# Conjuntos desbalanceados\n"
   ]
  },
  {
   "cell_type": "code",
   "execution_count": 6,
   "metadata": {},
   "outputs": [],
   "source": [
    "data_folder = \"../class-repo/cic1205/data/\"\n",
    "pickle_files = [\n",
    "    \"A602.pickle\",\n",
    "    \"A621.pickle\",\n",
    "    \"A627.pickle\",\n",
    "    \"A636.pickle\",\n",
    "    \"A652.pickl\",\n",
    "]"
   ]
  },
  {
   "cell_type": "code",
   "execution_count": 7,
   "metadata": {},
   "outputs": [],
   "source": [
    "import numpy as np\n",
    "import pickle\n",
    "import pandas as pd\n",
    "import seaborn as sns\n",
    "from matplotlib import pyplot as plt\n",
    "\n",
    "from sklearn.ensemble import GradientBoostingClassifier\n",
    "from sklearn.utils import resample\n",
    "from sklearn.metrics import (\n",
    "    classification_report,\n",
    "    confusion_matrix,\n",
    "    precision_score,\n",
    "    recall_score,\n",
    "    f1_score,\n",
    ")\n",
    "import imblearn"
   ]
  },
  {
   "cell_type": "code",
   "execution_count": 8,
   "metadata": {},
   "outputs": [],
   "source": [
    "def transform_array(arr: np.ndarray) -> list:\n",
    "    elems_list = [[1] if elem[0] != 0 else [0] for elem in arr]\n",
    "    elems_array = np.array(elems_list)\n",
    "    return elems_array\n",
    "\n",
    "\n",
    "def count_values_list(lst: list) -> dict:\n",
    "    if isinstance(lst, np.ndarray):\n",
    "        try:\n",
    "            lst = [1 if elem[0] != 0 else 0 for elem in lst]\n",
    "        except IndexError:\n",
    "            lst = [1 if elem != 0 else 0 for elem in lst]\n",
    "    elif isinstance(lst, np.array):\n",
    "        lst = lst.tolist()\n",
    "    elif isinstance(lst, pd.Series):\n",
    "        lst = lst.tolist()\n",
    "\n",
    "    elems = set(lst)\n",
    "    dict_counter = {elem: lst.count(elem) for elem in elems}\n",
    "\n",
    "    return dict_counter"
   ]
  },
  {
   "cell_type": "markdown",
   "metadata": {},
   "source": [
    "# A602\n"
   ]
  },
  {
   "cell_type": "code",
   "execution_count": 9,
   "metadata": {},
   "outputs": [
    {
     "name": "stdout",
     "output_type": "stream",
     "text": [
      "Shapes:  (9549, 24) (2428, 24) (10080, 24)\n"
     ]
    }
   ],
   "source": [
    "a602 = f\"{data_folder}{pickle_files[1]}\"\n",
    "file = open(a602, \"rb\")\n",
    "(X_train, y_train, X_val, y_val, X_test, y_test) = pickle.load(file)\n",
    "print(f\"Shapes: \", X_train.shape, X_val.shape, X_test.shape)"
   ]
  },
  {
   "cell_type": "code",
   "execution_count": 12,
   "metadata": {},
   "outputs": [
    {
     "data": {
      "text/plain": [
       "numpy.ndarray"
      ]
     },
     "execution_count": 12,
     "metadata": {},
     "output_type": "execute_result"
    }
   ],
   "source": [
    "type(y_train)"
   ]
  },
  {
   "cell_type": "code",
   "execution_count": 13,
   "metadata": {},
   "outputs": [
    {
     "name": "stdout",
     "output_type": "stream",
     "text": [
      "y_train: {0: 8786, 1: 763}\n",
      "y_val:   {0: 2201, 1: 227}\n",
      "y_test:  {0: 9147, 1: 933}\n"
     ]
    }
   ],
   "source": [
    "y_train = transform_array(y_train)\n",
    "print(f\"y_train: {count_values_list(y_train)}\")\n",
    "y_val = transform_array(y_val)\n",
    "print(f\"y_val:   {count_values_list(y_val)}\")\n",
    "y_test = transform_array(y_test)\n",
    "print(f\"y_test:  {count_values_list(y_test)}\")"
   ]
  },
  {
   "cell_type": "markdown",
   "metadata": {},
   "source": [
    "## Pre processing\n"
   ]
  },
  {
   "cell_type": "code",
   "execution_count": 14,
   "metadata": {},
   "outputs": [],
   "source": [
    "train_data = np.concatenate((X_train, y_train), axis=1)\n",
    "val_data = np.concatenate((X_val, y_val), axis=1)\n",
    "test_data = np.concatenate((X_test, y_test), axis=1)"
   ]
  },
  {
   "cell_type": "code",
   "execution_count": 15,
   "metadata": {},
   "outputs": [],
   "source": [
    "zeroes = train_data[train_data[:, -1] == 0]\n",
    "ones = train_data[train_data[:, -1] == 1]"
   ]
  },
  {
   "cell_type": "markdown",
   "metadata": {},
   "source": [
    "## Resample\n"
   ]
  },
  {
   "cell_type": "markdown",
   "metadata": {},
   "source": [
    "### Under Sampling\n"
   ]
  },
  {
   "cell_type": "code",
   "execution_count": 16,
   "metadata": {},
   "outputs": [],
   "source": [
    "undersampled_train_zeroes = resample(\n",
    "    zeroes, replace=False, n_samples=ones.shape[0], random_state=57\n",
    ")\n",
    "\n",
    "undersampled_train_data = np.concatenate((undersampled_train_zeroes, ones), axis=0)"
   ]
  },
  {
   "cell_type": "code",
   "execution_count": 17,
   "metadata": {},
   "outputs": [
    {
     "name": "stdout",
     "output_type": "stream",
     "text": [
      "undersampled_train_data: {0: 763, 1: 763}\n"
     ]
    }
   ],
   "source": [
    "print(f\"undersampled_train_data: {count_values_list(undersampled_train_data[:, -1])}\")"
   ]
  },
  {
   "cell_type": "code",
   "execution_count": 18,
   "metadata": {},
   "outputs": [],
   "source": [
    "X_train_undersampled = undersampled_train_data[:, :-1]\n",
    "y_train_undersampled = undersampled_train_data[:, -1]"
   ]
  },
  {
   "cell_type": "markdown",
   "metadata": {},
   "source": [
    "#### Training and Testing model\n"
   ]
  },
  {
   "cell_type": "code",
   "execution_count": 19,
   "metadata": {},
   "outputs": [
    {
     "name": "stdout",
     "output_type": "stream",
     "text": [
      "Train shapes: (1526, 24), (1526,)\n",
      "\n",
      "Validation\n",
      "Shapes: (2428, 24), (2428,)\n",
      "              precision    recall  f1-score   support\n",
      "\n",
      "           0       0.98      0.79      0.87      2201\n",
      "           1       0.29      0.86      0.44       227\n",
      "\n",
      "    accuracy                           0.79      2428\n",
      "   macro avg       0.64      0.82      0.66      2428\n",
      "weighted avg       0.92      0.79      0.83      2428\n",
      "\n",
      "[[1731  470]\n",
      " [  31  196]]\n",
      "\n",
      "Test\n",
      "Shapes: (10080, 24), (10080,)\n",
      "              precision    recall  f1-score   support\n",
      "\n",
      "           0       0.98      0.44      0.61      9147\n",
      "           1       0.14      0.93      0.25       933\n",
      "\n",
      "    accuracy                           0.49     10080\n",
      "   macro avg       0.56      0.68      0.43     10080\n",
      "weighted avg       0.91      0.49      0.58     10080\n",
      "\n",
      "[[4031 5116]\n",
      " [  69  864]]\n"
     ]
    }
   ],
   "source": [
    "GB = GradientBoostingClassifier(random_state=57)\n",
    "\n",
    "print(f\"Train shapes: {X_train_undersampled.shape}, {y_train_undersampled.shape}\")\n",
    "GB.fit(X_train_undersampled, y_train_undersampled)\n",
    "\n",
    "y_pred = GB.predict(X_val)\n",
    "print(\"\\nValidation\")\n",
    "print(f\"Shapes: {X_val.shape}, {y_pred.shape}\")\n",
    "print(classification_report(y_val, y_pred))\n",
    "print(confusion_matrix(y_val, y_pred))\n",
    "\n",
    "y_pred = GB.predict(X_test)\n",
    "print(\"\\nTest\")\n",
    "print(f\"Shapes: {X_test.shape}, {y_pred.shape}\")\n",
    "print(classification_report(y_test, y_pred))\n",
    "print(confusion_matrix(y_test, y_pred))"
   ]
  },
  {
   "cell_type": "markdown",
   "metadata": {},
   "source": [
    "### Over Sampling\n"
   ]
  },
  {
   "cell_type": "code",
   "execution_count": 20,
   "metadata": {},
   "outputs": [],
   "source": [
    "oversampled_train_ones = resample(\n",
    "    ones, replace=True, n_samples=len(zeroes), random_state=57\n",
    ")\n",
    "\n",
    "oversampled_train_data = np.concatenate((zeroes, oversampled_train_ones), axis=0)"
   ]
  },
  {
   "cell_type": "code",
   "execution_count": 21,
   "metadata": {},
   "outputs": [
    {
     "name": "stdout",
     "output_type": "stream",
     "text": [
      "Oversampled_train_data: {0: 8786, 1: 8786}\n"
     ]
    }
   ],
   "source": [
    "print(f\"Oversampled_train_data: {count_values_list(oversampled_train_data[:, -1])}\")"
   ]
  },
  {
   "cell_type": "code",
   "execution_count": 22,
   "metadata": {},
   "outputs": [],
   "source": [
    "X_train_oversampled = oversampled_train_data[:, :-1]\n",
    "y_train_oversampled = oversampled_train_data[:, -1]"
   ]
  },
  {
   "cell_type": "markdown",
   "metadata": {},
   "source": [
    "#### Training and Testing model\n"
   ]
  },
  {
   "cell_type": "code",
   "execution_count": 23,
   "metadata": {},
   "outputs": [
    {
     "name": "stdout",
     "output_type": "stream",
     "text": [
      "Train shapes: (17572, 24), (17572,)\n",
      "\n",
      "Validation\n",
      "Shapes: (2428, 24), (2428,)\n",
      "              precision    recall  f1-score   support\n",
      "\n",
      "           0       0.96      0.86      0.91      2201\n",
      "           1       0.33      0.66      0.44       227\n",
      "\n",
      "    accuracy                           0.85      2428\n",
      "   macro avg       0.65      0.76      0.68      2428\n",
      "weighted avg       0.90      0.85      0.87      2428\n",
      "\n",
      "[[1902  299]\n",
      " [  77  150]]\n",
      "\n",
      "Test\n",
      "Shapes: (10080, 24), (10080,)\n",
      "              precision    recall  f1-score   support\n",
      "\n",
      "           0       0.98      0.57      0.72      9147\n",
      "           1       0.17      0.87      0.29       933\n",
      "\n",
      "    accuracy                           0.60     10080\n",
      "   macro avg       0.57      0.72      0.50     10080\n",
      "weighted avg       0.90      0.60      0.68     10080\n",
      "\n",
      "[[5208 3939]\n",
      " [ 122  811]]\n"
     ]
    }
   ],
   "source": [
    "GB = GradientBoostingClassifier(random_state=57)\n",
    "\n",
    "print(f\"Train shapes: {X_train_oversampled.shape}, {y_train_oversampled.shape}\")\n",
    "GB.fit(X_train_oversampled, y_train_oversampled)\n",
    "\n",
    "y_pred = GB.predict(X_val)\n",
    "print(\"\\nValidation\")\n",
    "print(f\"Shapes: {X_val.shape}, {y_pred.shape}\")\n",
    "print(classification_report(y_val, y_pred))\n",
    "print(confusion_matrix(y_val, y_pred))\n",
    "\n",
    "y_pred = GB.predict(X_test)\n",
    "print(\"\\nTest\")\n",
    "print(f\"Shapes: {X_test.shape}, {y_pred.shape}\")\n",
    "print(classification_report(y_test, y_pred))\n",
    "print(confusion_matrix(y_test, y_pred))"
   ]
  },
  {
   "cell_type": "markdown",
   "metadata": {},
   "source": [
    "## Mixing Both\n",
    "\n",
    "In this mixing both section I want to try to mix both techniques to see if I can get a better result.\n",
    "\n",
    "I will get all the rows from the train dataset and reduce the majority class to the half of the total and increase the minority class to the same number of the majority class.\n",
    "\n",
    "Let's suppose we have n rows in total, after the process we will have n/2 rows of the majority class and n/2 rows of the minority class.\n",
    "\n",
    "Then I will train the model with the new dataset and test it with the test dataset.\n",
    "\n",
    "**Half Sampling**\n"
   ]
  },
  {
   "cell_type": "code",
   "execution_count": 24,
   "metadata": {},
   "outputs": [
    {
     "name": "stdout",
     "output_type": "stream",
     "text": [
      "n_sample_size: 4774\n"
     ]
    }
   ],
   "source": [
    "n_rows = train_data.shape[0]\n",
    "\n",
    "n_sample_size = n_rows // 2\n",
    "print(f\"n_sample_size: {n_sample_size}\")"
   ]
  },
  {
   "cell_type": "code",
   "execution_count": 25,
   "metadata": {},
   "outputs": [],
   "source": [
    "undersampled_train_zeroes = resample(\n",
    "    zeroes, replace=False, n_samples=n_sample_size, random_state=57\n",
    ")\n",
    "oversampled_train_ones = resample(\n",
    "    ones, replace=True, n_samples=n_sample_size, random_state=57\n",
    ")\n",
    "\n",
    "halfsampled_train_data = np.concatenate(\n",
    "    (undersampled_train_zeroes, oversampled_train_ones), axis=0\n",
    ")"
   ]
  },
  {
   "cell_type": "code",
   "execution_count": 26,
   "metadata": {},
   "outputs": [
    {
     "name": "stdout",
     "output_type": "stream",
     "text": [
      "Halfsampled_train_data: {0: 4774, 1: 4774}\n"
     ]
    }
   ],
   "source": [
    "print(f\"Halfsampled_train_data: {count_values_list(halfsampled_train_data[:, -1])}\")"
   ]
  },
  {
   "cell_type": "code",
   "execution_count": 27,
   "metadata": {},
   "outputs": [],
   "source": [
    "X_train_halfsampled = halfsampled_train_data[:, :-1]\n",
    "y_train_halfsampled = halfsampled_train_data[:, -1]"
   ]
  },
  {
   "cell_type": "markdown",
   "metadata": {},
   "source": [
    "#### Training and Testing model\n"
   ]
  },
  {
   "cell_type": "code",
   "execution_count": 28,
   "metadata": {},
   "outputs": [
    {
     "name": "stdout",
     "output_type": "stream",
     "text": [
      "Train shapes: (9548, 24), (9548,)\n",
      "\n",
      "Validation\n",
      "Shapes: (2428, 24), (2428,)\n",
      "              precision    recall  f1-score   support\n",
      "\n",
      "           0       0.98      0.85      0.91      2201\n",
      "           1       0.35      0.79      0.49       227\n",
      "\n",
      "    accuracy                           0.85      2428\n",
      "   macro avg       0.66      0.82      0.70      2428\n",
      "weighted avg       0.92      0.85      0.87      2428\n",
      "\n",
      "[[1875  326]\n",
      " [  48  179]]\n",
      "\n",
      "Test\n",
      "Shapes: (10080, 24), (10080,)\n",
      "              precision    recall  f1-score   support\n",
      "\n",
      "           0       0.98      0.57      0.72      9147\n",
      "           1       0.17      0.87      0.29       933\n",
      "\n",
      "    accuracy                           0.60     10080\n",
      "   macro avg       0.57      0.72      0.50     10080\n",
      "weighted avg       0.90      0.60      0.68     10080\n",
      "\n",
      "[[5190 3957]\n",
      " [ 119  814]]\n"
     ]
    }
   ],
   "source": [
    "GB = GradientBoostingClassifier(random_state=57)\n",
    "\n",
    "print(f\"Train shapes: {X_train_halfsampled.shape}, {y_train_halfsampled.shape}\")\n",
    "GB.fit(X_train_halfsampled, y_train_halfsampled)\n",
    "\n",
    "y_pred = GB.predict(X_val)\n",
    "print(\"\\nValidation\")\n",
    "print(f\"Shapes: {X_val.shape}, {y_pred.shape}\")\n",
    "print(classification_report(y_val, y_pred))\n",
    "print(confusion_matrix(y_val, y_pred))\n",
    "\n",
    "y_pred = GB.predict(X_test)\n",
    "print(\"\\nTest\")\n",
    "print(f\"Shapes: {X_test.shape}, {y_pred.shape}\")\n",
    "print(classification_report(y_test, y_pred))\n",
    "print(confusion_matrix(y_test, y_pred))"
   ]
  },
  {
   "cell_type": "markdown",
   "metadata": {},
   "source": [
    "## Changing the threshold\n"
   ]
  },
  {
   "cell_type": "code",
   "execution_count": 42,
   "metadata": {},
   "outputs": [
    {
     "data": {
      "text/plain": [
       "array([0, 0, 0, ..., 0, 0, 0])"
      ]
     },
     "execution_count": 42,
     "metadata": {},
     "output_type": "execute_result"
    }
   ],
   "source": []
  },
  {
   "cell_type": "code",
   "execution_count": 43,
   "metadata": {},
   "outputs": [],
   "source": [
    "# Building a basic model fot the baseline\n",
    "\n",
    "GB = GradientBoostingClassifier(random_state=57)\n",
    "GB = GB.fit(X_train, y_train.ravel())\n",
    "\n",
    "y_pred = GB.predict(X_test)\n",
    "\n",
    "precision_original = round(precision_score(y_test, y_pred), 4)\n",
    "recall_original = round(recall_score(y_test, y_pred), 4)\n",
    "F1_score_original = round(f1_score(y_test, y_pred), 4)\n",
    "metrics_original = [precision_original, recall_original, F1_score_original]"
   ]
  },
  {
   "cell_type": "code",
   "execution_count": 25,
   "metadata": {},
   "outputs": [],
   "source": [
    "cols = ['Metrics', 'Original']\n",
    "adj_threshold = pd.DataFrame()\n",
    "adj_threshold['Original'] = metrics_original\n",
    "thresholds = [j/20 for j in range(1, 16)]\n",
    "\n",
    "for i in thresholds:\n",
    "    y_pred_new_threshold = (GB.predict_proba(X_test)[:,1]>=i).astype(int) #calculating the threshold with respect to class 1\n",
    "\n",
    "    precision_adj_threshold =  round(precision_score(y_test, y_pred_new_threshold, average='binary'), 4)\n",
    "    recall_adj_threshold = round(recall_score(y_test, y_pred_new_threshold, average='binary'), 4)\n",
    "    F1_score_adj_threshold =  round((f1_score(y_test, y_pred_new_threshold, average='binary')), 4)\n",
    "    metrics_adj_threshold = [precision_adj_threshold, recall_adj_threshold, F1_score_adj_threshold]\n",
    "    name = 'Threshold: ' + str(i) \n",
    "    adj_threshold[name] = metrics_adj_threshold\n",
    "    cols.append(name)\n",
    "\n",
    "adj_threshold.index = ['Precision', 'Recall', 'F1_score']\n",
    "adj_threshold = adj_threshold.reset_index()\n",
    "adj_threshold.columns = cols\n",
    "adj_threshold.transpose()\n",
    "\n",
    "df_adj_threshold = adj_threshold.transpose().iloc[1:, :]\n",
    "df_adj_threshold.columns = adj_threshold.iloc[:,0]"
   ]
  },
  {
   "cell_type": "code",
   "execution_count": 28,
   "metadata": {},
   "outputs": [
    {
     "data": {
      "text/html": [
       "<div>\n",
       "<style scoped>\n",
       "    .dataframe tbody tr th:only-of-type {\n",
       "        vertical-align: middle;\n",
       "    }\n",
       "\n",
       "    .dataframe tbody tr th {\n",
       "        vertical-align: top;\n",
       "    }\n",
       "\n",
       "    .dataframe thead th {\n",
       "        text-align: right;\n",
       "    }\n",
       "</style>\n",
       "<table border=\"1\" class=\"dataframe\">\n",
       "  <thead>\n",
       "    <tr style=\"text-align: right;\">\n",
       "      <th>Metrics</th>\n",
       "      <th>Precision</th>\n",
       "      <th>Recall</th>\n",
       "      <th>F1_score</th>\n",
       "    </tr>\n",
       "  </thead>\n",
       "  <tbody>\n",
       "    <tr>\n",
       "      <th>Original</th>\n",
       "      <td>0.6082</td>\n",
       "      <td>0.5573</td>\n",
       "      <td>0.5817</td>\n",
       "    </tr>\n",
       "    <tr>\n",
       "      <th>Threshold: 0.05</th>\n",
       "      <td>0.1336</td>\n",
       "      <td>0.9443</td>\n",
       "      <td>0.2342</td>\n",
       "    </tr>\n",
       "    <tr>\n",
       "      <th>Threshold: 0.1</th>\n",
       "      <td>0.2662</td>\n",
       "      <td>0.8253</td>\n",
       "      <td>0.4025</td>\n",
       "    </tr>\n",
       "    <tr>\n",
       "      <th>Threshold: 0.15</th>\n",
       "      <td>0.381</td>\n",
       "      <td>0.7567</td>\n",
       "      <td>0.5068</td>\n",
       "    </tr>\n",
       "    <tr>\n",
       "      <th>Threshold: 0.2</th>\n",
       "      <td>0.4383</td>\n",
       "      <td>0.7085</td>\n",
       "      <td>0.5416</td>\n",
       "    </tr>\n",
       "    <tr>\n",
       "      <th>Threshold: 0.25</th>\n",
       "      <td>0.4773</td>\n",
       "      <td>0.687</td>\n",
       "      <td>0.5633</td>\n",
       "    </tr>\n",
       "    <tr>\n",
       "      <th>Threshold: 0.3</th>\n",
       "      <td>0.5138</td>\n",
       "      <td>0.6581</td>\n",
       "      <td>0.5771</td>\n",
       "    </tr>\n",
       "    <tr>\n",
       "      <th>Threshold: 0.35</th>\n",
       "      <td>0.5436</td>\n",
       "      <td>0.6281</td>\n",
       "      <td>0.5828</td>\n",
       "    </tr>\n",
       "    <tr>\n",
       "      <th>Threshold: 0.4</th>\n",
       "      <td>0.5634</td>\n",
       "      <td>0.6002</td>\n",
       "      <td>0.5812</td>\n",
       "    </tr>\n",
       "    <tr>\n",
       "      <th>Threshold: 0.45</th>\n",
       "      <td>0.5832</td>\n",
       "      <td>0.5745</td>\n",
       "      <td>0.5788</td>\n",
       "    </tr>\n",
       "    <tr>\n",
       "      <th>Threshold: 0.5</th>\n",
       "      <td>0.6082</td>\n",
       "      <td>0.5573</td>\n",
       "      <td>0.5817</td>\n",
       "    </tr>\n",
       "    <tr>\n",
       "      <th>Threshold: 0.55</th>\n",
       "      <td>0.6354</td>\n",
       "      <td>0.5305</td>\n",
       "      <td>0.5783</td>\n",
       "    </tr>\n",
       "    <tr>\n",
       "      <th>Threshold: 0.6</th>\n",
       "      <td>0.6609</td>\n",
       "      <td>0.493</td>\n",
       "      <td>0.5648</td>\n",
       "    </tr>\n",
       "    <tr>\n",
       "      <th>Threshold: 0.65</th>\n",
       "      <td>0.6791</td>\n",
       "      <td>0.4673</td>\n",
       "      <td>0.5537</td>\n",
       "    </tr>\n",
       "    <tr>\n",
       "      <th>Threshold: 0.7</th>\n",
       "      <td>0.7017</td>\n",
       "      <td>0.4362</td>\n",
       "      <td>0.538</td>\n",
       "    </tr>\n",
       "    <tr>\n",
       "      <th>Threshold: 0.75</th>\n",
       "      <td>0.7195</td>\n",
       "      <td>0.3794</td>\n",
       "      <td>0.4968</td>\n",
       "    </tr>\n",
       "  </tbody>\n",
       "</table>\n",
       "</div>"
      ],
      "text/plain": [
       "Metrics         Precision  Recall F1_score\n",
       "Original           0.6082  0.5573   0.5817\n",
       "Threshold: 0.05    0.1336  0.9443   0.2342\n",
       "Threshold: 0.1     0.2662  0.8253   0.4025\n",
       "Threshold: 0.15     0.381  0.7567   0.5068\n",
       "Threshold: 0.2     0.4383  0.7085   0.5416\n",
       "Threshold: 0.25    0.4773   0.687   0.5633\n",
       "Threshold: 0.3     0.5138  0.6581   0.5771\n",
       "Threshold: 0.35    0.5436  0.6281   0.5828\n",
       "Threshold: 0.4     0.5634  0.6002   0.5812\n",
       "Threshold: 0.45    0.5832  0.5745   0.5788\n",
       "Threshold: 0.5     0.6082  0.5573   0.5817\n",
       "Threshold: 0.55    0.6354  0.5305   0.5783\n",
       "Threshold: 0.6     0.6609   0.493   0.5648\n",
       "Threshold: 0.65    0.6791  0.4673   0.5537\n",
       "Threshold: 0.7     0.7017  0.4362    0.538\n",
       "Threshold: 0.75    0.7195  0.3794   0.4968"
      ]
     },
     "execution_count": 28,
     "metadata": {},
     "output_type": "execute_result"
    }
   ],
   "source": [
    "df_adj_threshold"
   ]
  },
  {
   "cell_type": "code",
   "execution_count": 32,
   "metadata": {},
   "outputs": [
    {
     "data": {
      "image/png": "[encoded data removed]",
      "text/plain": [
       "<Figure size 1500x500 with 1 Axes>"
      ]
     },
     "metadata": {},
     "output_type": "display_data"
    }
   ],
   "source": [
    "sns.set()\n",
    "adj_threshold.plot(x='Metrics',\n",
    "        kind='bar',\n",
    "        stacked=False,\n",
    "        title='Metrics across Varying Thresholds',\n",
    "        figsize=(15, 5),\n",
    "        cmap = 'twilight').legend(loc='center left',bbox_to_anchor=(1.0, 0.5))\n",
    "plt.show()"
   ]
  },
  {
   "cell_type": "markdown",
   "metadata": {},
   "source": [
    "#### Training and Testing the model with the optimal threshold\n"
   ]
  },
  {
   "cell_type": "code",
   "execution_count": 44,
   "metadata": {},
   "outputs": [
    {
     "data": {
      "image/png": "[encoded data removed]",
      "text/plain": [
       "<Figure size 700x700 with 1 Axes>"
      ]
     },
     "metadata": {},
     "output_type": "display_data"
    }
   ],
   "source": [
    "y_pred_new_threshold = (GB.predict_proba(X_test)[:, 1] >= 0.35).astype(int)\n",
    "\n",
    "conf_matrix = confusion_matrix(y_true=y_test, y_pred=y_pred_new_threshold)\n",
    "\n",
    "fig, ax = plt.subplots(figsize=(7, 7))\n",
    "ax.matshow(conf_matrix, cmap=plt.cm.Accent, alpha=0.4)\n",
    "for i in range(conf_matrix.shape[0]):\n",
    "    for j in range(conf_matrix.shape[1]):\n",
    "        ax.text(x=j, y=i, s=conf_matrix[i, j], va=\"center\", ha=\"center\", size=\"x-large\")\n",
    "\n",
    "plt.xlabel(\"Predictions\", fontsize=10)\n",
    "plt.ylabel(\"Actuals\", fontsize=10)\n",
    "plt.title(\"Confusion Matrix\", fontsize=15)\n",
    "plt.show()"
   ]
  },
  {
   "cell_type": "code",
   "execution_count": 45,
   "metadata": {},
   "outputs": [
    {
     "data": {
      "text/html": [
       "<div>\n",
       "<style scoped>\n",
       "    .dataframe tbody tr th:only-of-type {\n",
       "        vertical-align: middle;\n",
       "    }\n",
       "\n",
       "    .dataframe tbody tr th {\n",
       "        vertical-align: top;\n",
       "    }\n",
       "\n",
       "    .dataframe thead th {\n",
       "        text-align: right;\n",
       "    }\n",
       "</style>\n",
       "<table border=\"1\" class=\"dataframe\">\n",
       "  <thead>\n",
       "    <tr style=\"text-align: right;\">\n",
       "      <th></th>\n",
       "      <th>Original Dataset</th>\n",
       "      <th>Threshold Changed Dataset</th>\n",
       "    </tr>\n",
       "  </thead>\n",
       "  <tbody>\n",
       "    <tr>\n",
       "      <th>Precision</th>\n",
       "      <td>0.6082</td>\n",
       "      <td>0.5436</td>\n",
       "    </tr>\n",
       "    <tr>\n",
       "      <th>Recall</th>\n",
       "      <td>0.5573</td>\n",
       "      <td>0.6281</td>\n",
       "    </tr>\n",
       "    <tr>\n",
       "      <th>F1_score</th>\n",
       "      <td>0.5817</td>\n",
       "      <td>0.5828</td>\n",
       "    </tr>\n",
       "  </tbody>\n",
       "</table>\n",
       "</div>"
      ],
      "text/plain": [
       "           Original Dataset  Threshold Changed Dataset\n",
       "Precision            0.6082                     0.5436\n",
       "Recall               0.5573                     0.6281\n",
       "F1_score             0.5817                     0.5828"
      ]
     },
     "execution_count": 45,
     "metadata": {},
     "output_type": "execute_result"
    }
   ],
   "source": [
    "precision_changedthreshold =  round(precision_score(y_test, y_pred_new_threshold), 4)\n",
    "recall_changedthreshold = round(recall_score(y_test, y_pred_new_threshold), 4)\n",
    "F1_changedthreshold =  round(f1_score(y_test, y_pred_new_threshold), 4)\n",
    "metrics_changedthreshold = [precision_changedthreshold, recall_changedthreshold, F1_changedthreshold]\n",
    "\n",
    "changedthreshold = pd.DataFrame(list(zip(metrics_original, metrics_changedthreshold)))\n",
    "changedthreshold.index = ['Precision', 'Recall', 'F1_score']\n",
    "changedthreshold.columns = ['Original Dataset', 'Threshold Changed Dataset']\n",
    "changedthreshold"
   ]
  },
  {
   "cell_type": "markdown",
   "metadata": {},
   "source": [
    "## imblearn"
   ]
  },
  {
   "cell_type": "markdown",
   "metadata": {},
   "source": [
    "### Under Sampling - SMOTE\n"
   ]
  },
  {
   "cell_type": "code",
   "execution_count": 46,
   "metadata": {},
   "outputs": [],
   "source": [
    "from imblearn.over_sampling import SMOTE"
   ]
  },
  {
   "cell_type": "code",
   "execution_count": null,
   "metadata": {},
   "outputs": [],
   "source": []
  },
  {
   "cell_type": "markdown",
   "metadata": {},
   "source": [
    "#### Training and Testing model\n"
   ]
  },
  {
   "cell_type": "code",
   "execution_count": null,
   "metadata": {},
   "outputs": [],
   "source": []
  },
  {
   "cell_type": "markdown",
   "metadata": {},
   "source": [
    "#### Under Sampling - ADASYN"
   ]
  },
  {
   "cell_type": "code",
   "execution_count": 48,
   "metadata": {},
   "outputs": [],
   "source": [
    "from imblearn.over_sampling import ADASYN"
   ]
  },
  {
   "cell_type": "code",
   "execution_count": null,
   "metadata": {},
   "outputs": [],
   "source": []
  },
  {
   "cell_type": "markdown",
   "metadata": {},
   "source": [
    "#### Training and Testing model\n"
   ]
  },
  {
   "cell_type": "code",
   "execution_count": null,
   "metadata": {},
   "outputs": [],
   "source": []
  },
  {
   "cell_type": "markdown",
   "metadata": {},
   "source": [
    "### Over Sampling\n"
   ]
  },
  {
   "cell_type": "code",
   "execution_count": null,
   "metadata": {},
   "outputs": [],
   "source": []
  },
  {
   "cell_type": "code",
   "execution_count": null,
   "metadata": {},
   "outputs": [],
   "source": [
    "from imblearn.under_sampling import RandomUnderSampler, NearMiss\n"
   ]
  },
  {
   "cell_type": "markdown",
   "metadata": {},
   "source": [
    "#### Training and Testing model\n"
   ]
  },
  {
   "cell_type": "code",
   "execution_count": null,
   "metadata": {},
   "outputs": [],
   "source": []
  },
  {
   "cell_type": "markdown",
   "metadata": {},
   "source": [
    "## Mixing Both\n"
   ]
  },
  {
   "cell_type": "code",
   "execution_count": null,
   "metadata": {},
   "outputs": [],
   "source": []
  },
  {
   "cell_type": "markdown",
   "metadata": {},
   "source": [
    "#### Training and Testing model\n"
   ]
  },
  {
   "cell_type": "code",
   "execution_count": null,
   "metadata": {},
   "outputs": [],
   "source": []
  },
  {
   "cell_type": "markdown",
   "metadata": {},
   "source": [
    "# A621\n"
   ]
  },
  {
   "cell_type": "code",
   "execution_count": 11,
   "metadata": {},
   "outputs": [
    {
     "name": "stdout",
     "output_type": "stream",
     "text": [
      "Shapes:  (9549, 24) (2428, 24) (10080, 24)\n"
     ]
    }
   ],
   "source": [
    "a621 = f\"{data_folder}{pickle_files[1]}\"\n",
    "file = open(a621, \"rb\")\n",
    "(X_train, y_train, X_val, y_val, X_test, y_test) = pickle.load(file)\n",
    "print(f\"Shapes: \", X_train.shape, X_val.shape, X_test.shape)"
   ]
  },
  {
   "cell_type": "code",
   "execution_count": null,
   "metadata": {},
   "outputs": [
    {
     "name": "stdout",
     "output_type": "stream",
     "text": [
      "y_train: {0: 8786, 1: 763}\n",
      "y_val:   {0: 2201, 1: 227}\n",
      "y_test:  {0: 9147, 1: 933}\n"
     ]
    }
   ],
   "source": [
    "y_train = transform_array(y_train)\n",
    "print(f\"y_train: {count_values_list(y_train)}\")\n",
    "y_val = transform_array(y_val)\n",
    "print(f\"y_val:   {count_values_list(y_val)}\")\n",
    "y_test = transform_array(y_test)\n",
    "print(f\"y_test:  {count_values_list(y_test)}\")"
   ]
  },
  {
   "cell_type": "code",
   "execution_count": null,
   "metadata": {},
   "outputs": [],
   "source": []
  },
  {
   "cell_type": "markdown",
   "metadata": {},
   "source": [
    "# A627\n"
   ]
  },
  {
   "cell_type": "code",
   "execution_count": 12,
   "metadata": {},
   "outputs": [
    {
     "name": "stdout",
     "output_type": "stream",
     "text": [
      "Shapes:  (9549, 24) (2428, 24) (10080, 24)\n"
     ]
    }
   ],
   "source": [
    "a627 = f\"{data_folder}{pickle_files[1]}\"\n",
    "file = open(a627, \"rb\")\n",
    "(X_train, y_train, X_val, y_val, X_test, y_test) = pickle.load(file)\n",
    "print(f\"Shapes: \", X_train.shape, X_val.shape, X_test.shape)"
   ]
  },
  {
   "cell_type": "code",
   "execution_count": null,
   "metadata": {},
   "outputs": [
    {
     "name": "stdout",
     "output_type": "stream",
     "text": [
      "y_train: {0: 8786, 1: 763}\n",
      "y_val:   {0: 2201, 1: 227}\n",
      "y_test:  {0: 9147, 1: 933}\n"
     ]
    }
   ],
   "source": [
    "y_train = transform_array(y_train)\n",
    "print(f\"y_train: {count_values_list(y_train)}\")\n",
    "y_val = transform_array(y_val)\n",
    "print(f\"y_val:   {count_values_list(y_val)}\")\n",
    "y_test = transform_array(y_test)\n",
    "print(f\"y_test:  {count_values_list(y_test)}\")"
   ]
  },
  {
   "cell_type": "code",
   "execution_count": null,
   "metadata": {},
   "outputs": [],
   "source": []
  },
  {
   "cell_type": "markdown",
   "metadata": {},
   "source": [
    "# A636\n"
   ]
  },
  {
   "cell_type": "code",
   "execution_count": 13,
   "metadata": {},
   "outputs": [
    {
     "name": "stdout",
     "output_type": "stream",
     "text": [
      "Shapes:  (9549, 24) (2428, 24) (10080, 24)\n"
     ]
    }
   ],
   "source": [
    "a636 = f\"{data_folder}{pickle_files[1]}\"\n",
    "file = open(a636, \"rb\")\n",
    "(X_train, y_train, X_val, y_val, X_test, y_test) = pickle.load(file)\n",
    "print(f\"Shapes: \", X_train.shape, X_val.shape, X_test.shape)"
   ]
  },
  {
   "cell_type": "code",
   "execution_count": null,
   "metadata": {},
   "outputs": [
    {
     "name": "stdout",
     "output_type": "stream",
     "text": [
      "y_train: {0: 8786, 1: 763}\n",
      "y_val:   {0: 2201, 1: 227}\n",
      "y_test:  {0: 9147, 1: 933}\n"
     ]
    }
   ],
   "source": [
    "y_train = transform_array(y_train)\n",
    "print(f\"y_train: {count_values_list(y_train)}\")\n",
    "y_val = transform_array(y_val)\n",
    "print(f\"y_val:   {count_values_list(y_val)}\")\n",
    "y_test = transform_array(y_test)\n",
    "print(f\"y_test:  {count_values_list(y_test)}\")"
   ]
  },
  {
   "cell_type": "code",
   "execution_count": null,
   "metadata": {},
   "outputs": [],
   "source": []
  },
  {
   "cell_type": "markdown",
   "metadata": {},
   "source": [
    "# A652\n"
   ]
  },
  {
   "cell_type": "code",
   "execution_count": 14,
   "metadata": {},
   "outputs": [
    {
     "name": "stdout",
     "output_type": "stream",
     "text": [
      "Shapes:  (9549, 24) (2428, 24) (10080, 24)\n"
     ]
    }
   ],
   "source": [
    "a652 = f\"{data_folder}{pickle_files[1]}\"\n",
    "file = open(a652, \"rb\")\n",
    "(X_train, y_train, X_val, y_val, X_test, y_test) = pickle.load(file)\n",
    "print(f\"Shapes: \", X_train.shape, X_val.shape, X_test.shape)"
   ]
  },
  {
   "cell_type": "code",
   "execution_count": null,
   "metadata": {},
   "outputs": [
    {
     "name": "stdout",
     "output_type": "stream",
     "text": [
      "y_train: {0: 8786, 1: 763}\n",
      "y_val:   {0: 2201, 1: 227}\n",
      "y_test:  {0: 9147, 1: 933}\n"
     ]
    }
   ],
   "source": [
    "y_train = transform_array(y_train)\n",
    "print(f\"y_train: {count_values_list(y_train)}\")\n",
    "y_val = transform_array(y_val)\n",
    "print(f\"y_val:   {count_values_list(y_val)}\")\n",
    "y_test = transform_array(y_test)\n",
    "print(f\"y_test:  {count_values_list(y_test)}\")"
   ]
  },
  {
   "cell_type": "code",
   "execution_count": null,
   "metadata": {},
   "outputs": [],
   "source": []
  },
  {
   "cell_type": "code",
   "execution_count": null,
   "metadata": {},
   "outputs": [],
   "source": []
  },
  {
   "cell_type": "code",
   "execution_count": null,
   "metadata": {},
   "outputs": [],
   "source": []
  }
 ],
 "metadata": {
  "kernelspec": {
   "display_name": ".venv",
   "language": "python",
   "name": "python3"
  },
  "language_info": {
   "codemirror_mode": {
    "name": "ipython",
    "version": 3
   },
   "file_extension": ".py",
   "mimetype": "text/x-python",
   "name": "python",
   "nbconvert_exporter": "python",
   "pygments_lexer": "ipython3",
   "version": "3.10.12"
  }
 },
 "nbformat": 4,
 "nbformat_minor": 2
}
