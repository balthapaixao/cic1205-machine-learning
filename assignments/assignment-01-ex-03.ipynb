{
 "cells": [
  {
   "cell_type": "markdown",
   "metadata": {},
   "source": [
    "# Conjuntos desbalanceados"
   ]
  },
  {
   "cell_type": "code",
   "execution_count": 27,
   "metadata": {},
   "outputs": [],
   "source": [
    "data_folder = \"../class-repo/cic1205/data/\"\n",
    "pickle_files = [\"A602.pickle\", \"A621.pickle\", \"A627.pickle\", \"A636.pickle\", \"A652.pickl\"]"
   ]
  },
  {
   "cell_type": "code",
   "execution_count": 47,
   "metadata": {},
   "outputs": [],
   "source": [
    "import numpy as np\n",
    "import pickle\n",
    "import pandas as pd"
   ]
  },
  {
   "cell_type": "code",
   "execution_count": null,
   "metadata": {},
   "outputs": [],
   "source": [
    "def transform_array(arr: np.ndarray) -> list:\n",
    "    elems_list = [1 if elem[0] != 0 else 0 for elem in arr]\n",
    "\n",
    "    return elems_list\n",
    "\n",
    "\n",
    "def count_values_list(lst: list) -> dict:\n",
    "    elems = set(lst)\n",
    "    dict_counter = {elem: lst.count(elem) for elem in elems}\n",
    "\n",
    "    return dict_counter"
   ]
  },
  {
   "cell_type": "markdown",
   "metadata": {},
   "source": [
    "# A602"
   ]
  },
  {
   "cell_type": "code",
   "execution_count": 57,
   "metadata": {},
   "outputs": [
    {
     "name": "stdout",
     "output_type": "stream",
     "text": [
      "Shapes:  (9549, 24) (2428, 24) (10080, 24)\n"
     ]
    }
   ],
   "source": [
    "a602 = f\"{data_folder}{pickle_files[1]}\"\n",
    "file = open(a602 , 'rb')\n",
    "(X_train, y_train, X_val, y_val, X_test, y_test) = pickle.load(file)\n",
    "print(f\"Shapes: \", X_train.shape, X_val.shape, X_test.shape)"
   ]
  },
  {
   "cell_type": "code",
   "execution_count": 58,
   "metadata": {},
   "outputs": [
    {
     "name": "stdout",
     "output_type": "stream",
     "text": [
      "y_train: {0: 8786, 1: 763}\n",
      "y_val:   {0: 2201, 1: 227}\n",
      "y_test:  {0: 9147, 1: 933}\n"
     ]
    }
   ],
   "source": [
    "y_train = transform_array(y_train)\n",
    "print(f\"y_train: {count_values_list(y_train)}\")\n",
    "y_val = transform_array(y_val)\n",
    "print(f\"y_val:   {count_values_list(y_val)}\")\n",
    "y_test = transform_array(y_test)\n",
    "print(f\"y_test:  {count_values_list(y_test)}\")"
   ]
  },
  {
   "cell_type": "code",
   "execution_count": null,
   "metadata": {},
   "outputs": [],
   "source": []
  },
  {
   "cell_type": "code",
   "execution_count": null,
   "metadata": {},
   "outputs": [],
   "source": []
  },
  {
   "cell_type": "code",
   "execution_count": null,
   "metadata": {},
   "outputs": [],
   "source": []
  },
  {
   "cell_type": "markdown",
   "metadata": {},
   "source": [
    "# A621"
   ]
  },
  {
   "cell_type": "code",
   "execution_count": 11,
   "metadata": {},
   "outputs": [
    {
     "name": "stdout",
     "output_type": "stream",
     "text": [
      "Shapes:  (9549, 24) (2428, 24) (10080, 24)\n"
     ]
    }
   ],
   "source": [
    "a621 = f\"{data_folder}{pickle_files[1]}\"\n",
    "file = open(a621 , 'rb')\n",
    "(X_train, y_train, X_val, y_val, X_test, y_test) = pickle.load(file)\n",
    "print(f\"Shapes: \", X_train.shape, X_val.shape, X_test.shape)"
   ]
  },
  {
   "cell_type": "code",
   "execution_count": null,
   "metadata": {},
   "outputs": [
    {
     "name": "stdout",
     "output_type": "stream",
     "text": [
      "y_train: {0: 8786, 1: 763}\n",
      "y_val:   {0: 2201, 1: 227}\n",
      "y_test:  {0: 9147, 1: 933}\n"
     ]
    }
   ],
   "source": [
    "y_train = transform_array(y_train)\n",
    "print(f\"y_train: {count_values_list(y_train)}\")\n",
    "y_val = transform_array(y_val)\n",
    "print(f\"y_val:   {count_values_list(y_val)}\")\n",
    "y_test = transform_array(y_test)\n",
    "print(f\"y_test:  {count_values_list(y_test)}\")"
   ]
  },
  {
   "cell_type": "code",
   "execution_count": null,
   "metadata": {},
   "outputs": [],
   "source": []
  },
  {
   "cell_type": "markdown",
   "metadata": {},
   "source": [
    "# A627"
   ]
  },
  {
   "cell_type": "code",
   "execution_count": 12,
   "metadata": {},
   "outputs": [
    {
     "name": "stdout",
     "output_type": "stream",
     "text": [
      "Shapes:  (9549, 24) (2428, 24) (10080, 24)\n"
     ]
    }
   ],
   "source": [
    "a627 = f\"{data_folder}{pickle_files[1]}\"\n",
    "file = open(a627 , 'rb')\n",
    "(X_train, y_train, X_val, y_val, X_test, y_test) = pickle.load(file)\n",
    "print(f\"Shapes: \", X_train.shape, X_val.shape, X_test.shape)"
   ]
  },
  {
   "cell_type": "code",
   "execution_count": null,
   "metadata": {},
   "outputs": [
    {
     "name": "stdout",
     "output_type": "stream",
     "text": [
      "y_train: {0: 8786, 1: 763}\n",
      "y_val:   {0: 2201, 1: 227}\n",
      "y_test:  {0: 9147, 1: 933}\n"
     ]
    }
   ],
   "source": [
    "y_train = transform_array(y_train)\n",
    "print(f\"y_train: {count_values_list(y_train)}\")\n",
    "y_val = transform_array(y_val)\n",
    "print(f\"y_val:   {count_values_list(y_val)}\")\n",
    "y_test = transform_array(y_test)\n",
    "print(f\"y_test:  {count_values_list(y_test)}\")"
   ]
  },
  {
   "cell_type": "code",
   "execution_count": null,
   "metadata": {},
   "outputs": [],
   "source": []
  },
  {
   "cell_type": "markdown",
   "metadata": {},
   "source": [
    "# A636"
   ]
  },
  {
   "cell_type": "code",
   "execution_count": 13,
   "metadata": {},
   "outputs": [
    {
     "name": "stdout",
     "output_type": "stream",
     "text": [
      "Shapes:  (9549, 24) (2428, 24) (10080, 24)\n"
     ]
    }
   ],
   "source": [
    "a636 = f\"{data_folder}{pickle_files[1]}\"\n",
    "file = open(a636 , 'rb')\n",
    "(X_train, y_train, X_val, y_val, X_test, y_test) = pickle.load(file)\n",
    "print(f\"Shapes: \", X_train.shape, X_val.shape, X_test.shape)"
   ]
  },
  {
   "cell_type": "code",
   "execution_count": null,
   "metadata": {},
   "outputs": [
    {
     "name": "stdout",
     "output_type": "stream",
     "text": [
      "y_train: {0: 8786, 1: 763}\n",
      "y_val:   {0: 2201, 1: 227}\n",
      "y_test:  {0: 9147, 1: 933}\n"
     ]
    }
   ],
   "source": [
    "y_train = transform_array(y_train)\n",
    "print(f\"y_train: {count_values_list(y_train)}\")\n",
    "y_val = transform_array(y_val)\n",
    "print(f\"y_val:   {count_values_list(y_val)}\")\n",
    "y_test = transform_array(y_test)\n",
    "print(f\"y_test:  {count_values_list(y_test)}\")"
   ]
  },
  {
   "cell_type": "code",
   "execution_count": null,
   "metadata": {},
   "outputs": [],
   "source": []
  },
  {
   "cell_type": "markdown",
   "metadata": {},
   "source": [
    "# A652"
   ]
  },
  {
   "cell_type": "code",
   "execution_count": 14,
   "metadata": {},
   "outputs": [
    {
     "name": "stdout",
     "output_type": "stream",
     "text": [
      "Shapes:  (9549, 24) (2428, 24) (10080, 24)\n"
     ]
    }
   ],
   "source": [
    "a652 = f\"{data_folder}{pickle_files[1]}\"\n",
    "file = open(a652 , 'rb')\n",
    "(X_train, y_train, X_val, y_val, X_test, y_test) = pickle.load(file)\n",
    "print(f\"Shapes: \", X_train.shape, X_val.shape, X_test.shape)"
   ]
  },
  {
   "cell_type": "code",
   "execution_count": null,
   "metadata": {},
   "outputs": [
    {
     "name": "stdout",
     "output_type": "stream",
     "text": [
      "y_train: {0: 8786, 1: 763}\n",
      "y_val:   {0: 2201, 1: 227}\n",
      "y_test:  {0: 9147, 1: 933}\n"
     ]
    }
   ],
   "source": [
    "y_train = transform_array(y_train)\n",
    "print(f\"y_train: {count_values_list(y_train)}\")\n",
    "y_val = transform_array(y_val)\n",
    "print(f\"y_val:   {count_values_list(y_val)}\")\n",
    "y_test = transform_array(y_test)\n",
    "print(f\"y_test:  {count_values_list(y_test)}\")"
   ]
  },
  {
   "cell_type": "code",
   "execution_count": null,
   "metadata": {},
   "outputs": [],
   "source": []
  },
  {
   "cell_type": "code",
   "execution_count": null,
   "metadata": {},
   "outputs": [],
   "source": []
  },
  {
   "cell_type": "code",
   "execution_count": null,
   "metadata": {},
   "outputs": [],
   "source": []
  }
 ],
 "metadata": {
  "kernelspec": {
   "display_name": ".venv",
   "language": "python",
   "name": "python3"
  },
  "language_info": {
   "codemirror_mode": {
    "name": "ipython",
    "version": 3
   },
   "file_extension": ".py",
   "mimetype": "text/x-python",
   "name": "python",
   "nbconvert_exporter": "python",
   "pygments_lexer": "ipython3",
   "version": "3.10.12"
  }
 },
 "nbformat": 4,
 "nbformat_minor": 2
}
