{
 "cells": [
  {
   "cell_type": "markdown",
   "metadata": {},
   "source": [
    "# Conjuntos desbalanceados\n"
   ]
  },
  {
   "cell_type": "code",
   "execution_count": 1,
   "metadata": {},
   "outputs": [],
   "source": [
    "data_folder = \"../class-repo/cic1205/data/\"\n",
    "pickle_files = [\n",
    "    \"A602.pickle\",\n",
    "    \"A621.pickle\",\n",
    "    \"A627.pickle\",\n",
    "    \"A636.pickle\",\n",
    "    \"A652.pickle\",\n",
    "]"
   ]
  },
  {
   "cell_type": "code",
   "execution_count": 2,
   "metadata": {},
   "outputs": [],
   "source": [
    "import numpy as np\n",
    "import pickle\n",
    "import pandas as pd\n",
    "import seaborn as sns\n",
    "from matplotlib import pyplot as plt\n",
    "\n",
    "from sklearn.ensemble import GradientBoostingClassifier\n",
    "from sklearn.utils import resample\n",
    "from sklearn.metrics import (\n",
    "    classification_report,\n",
    "    confusion_matrix,\n",
    "    precision_score,\n",
    "    recall_score,\n",
    "    f1_score,\n",
    ")\n",
    "import imblearn"
   ]
  },
  {
   "cell_type": "code",
   "execution_count": 3,
   "metadata": {},
   "outputs": [],
   "source": [
    "def transform_array(arr: np.ndarray) -> list:\n",
    "    elems_list = [[1] if elem[0] != 0 else [0] for elem in arr]\n",
    "    elems_array = np.array(elems_list)\n",
    "    return elems_array\n",
    "\n",
    "\n",
    "def count_values_list(lst: list) -> dict:\n",
    "    if isinstance(lst, np.ndarray):\n",
    "        try:\n",
    "            lst = [1 if elem[0] != 0 else 0 for elem in lst]\n",
    "        except IndexError:\n",
    "            lst = [1 if elem != 0 else 0 for elem in lst]\n",
    "    elif isinstance(lst, np.array):\n",
    "        lst = lst.tolist()\n",
    "    elif isinstance(lst, pd.Series):\n",
    "        lst = lst.tolist()\n",
    "\n",
    "    elems = set(lst)\n",
    "    dict_counter = {elem: lst.count(elem) for elem in elems}\n",
    "\n",
    "    return dict_counter"
   ]
  },
  {
   "cell_type": "markdown",
   "metadata": {},
   "source": [
    "# A602\n"
   ]
  },
  {
   "cell_type": "code",
   "execution_count": 4,
   "metadata": {},
   "outputs": [
    {
     "name": "stdout",
     "output_type": "stream",
     "text": [
      "Shapes:  (10178, 24) (2565, 24) (765, 24)\n"
     ]
    }
   ],
   "source": [
    "a602 = f\"{data_folder}{pickle_files[0]}\"\n",
    "file = open(a602, \"rb\")\n",
    "(X_train, y_train, X_val, y_val, X_test, y_test) = pickle.load(file)\n",
    "print(f\"Shapes: \", X_train.shape, X_val.shape, X_test.shape)"
   ]
  },
  {
   "cell_type": "code",
   "execution_count": 5,
   "metadata": {},
   "outputs": [
    {
     "data": {
      "text/plain": [
       "numpy.ndarray"
      ]
     },
     "execution_count": 5,
     "metadata": {},
     "output_type": "execute_result"
    }
   ],
   "source": [
    "type(y_train)"
   ]
  },
  {
   "cell_type": "code",
   "execution_count": 6,
   "metadata": {},
   "outputs": [
    {
     "name": "stdout",
     "output_type": "stream",
     "text": [
      "y_train: {0: 9286, 1: 892}\n",
      "y_val:   {0: 2265, 1: 300}\n",
      "y_test:  {0: 673, 1: 92}\n"
     ]
    }
   ],
   "source": [
    "y_train = transform_array(y_train)\n",
    "print(f\"y_train: {count_values_list(y_train)}\")\n",
    "y_val = transform_array(y_val)\n",
    "print(f\"y_val:   {count_values_list(y_val)}\")\n",
    "y_test = transform_array(y_test)\n",
    "print(f\"y_test:  {count_values_list(y_test)}\")"
   ]
  },
  {
   "cell_type": "markdown",
   "metadata": {},
   "source": [
    "## Pre processing\n"
   ]
  },
  {
   "cell_type": "code",
   "execution_count": 7,
   "metadata": {},
   "outputs": [],
   "source": [
    "train_data = np.concatenate((X_train, y_train), axis=1)\n",
    "val_data = np.concatenate((X_val, y_val), axis=1)\n",
    "test_data = np.concatenate((X_test, y_test), axis=1)"
   ]
  },
  {
   "cell_type": "code",
   "execution_count": 8,
   "metadata": {},
   "outputs": [],
   "source": [
    "zeroes = train_data[train_data[:, -1] == 0]\n",
    "ones = train_data[train_data[:, -1] == 1]"
   ]
  },
  {
   "cell_type": "markdown",
   "metadata": {},
   "source": [
    "## Resample\n"
   ]
  },
  {
   "cell_type": "markdown",
   "metadata": {},
   "source": [
    "### Under Sampling\n"
   ]
  },
  {
   "cell_type": "code",
   "execution_count": 9,
   "metadata": {},
   "outputs": [],
   "source": [
    "undersampled_train_zeroes = resample(\n",
    "    zeroes, replace=False, n_samples=ones.shape[0], random_state=57\n",
    ")\n",
    "\n",
    "undersampled_train_data = np.concatenate((undersampled_train_zeroes, ones), axis=0)"
   ]
  },
  {
   "cell_type": "code",
   "execution_count": 10,
   "metadata": {},
   "outputs": [
    {
     "name": "stdout",
     "output_type": "stream",
     "text": [
      "undersampled_train_data: {0: 892, 1: 892}\n"
     ]
    }
   ],
   "source": [
    "print(f\"undersampled_train_data: {count_values_list(undersampled_train_data[:, -1])}\")"
   ]
  },
  {
   "cell_type": "code",
   "execution_count": 11,
   "metadata": {},
   "outputs": [],
   "source": [
    "X_train_undersampled = undersampled_train_data[:, :-1]\n",
    "y_train_undersampled = undersampled_train_data[:, -1]"
   ]
  },
  {
   "cell_type": "markdown",
   "metadata": {},
   "source": [
    "#### Training and Testing model\n"
   ]
  },
  {
   "cell_type": "code",
   "execution_count": 12,
   "metadata": {},
   "outputs": [
    {
     "name": "stdout",
     "output_type": "stream",
     "text": [
      "Train shapes: (1784, 24), (1784,)\n",
      "\n",
      "Validation\n",
      "Shapes: (2565, 24), (2565,)\n",
      "              precision    recall  f1-score   support\n",
      "\n",
      "           0       0.97      0.74      0.84      2265\n",
      "           1       0.31      0.85      0.45       300\n",
      "\n",
      "    accuracy                           0.76      2565\n",
      "   macro avg       0.64      0.80      0.65      2565\n",
      "weighted avg       0.90      0.76      0.80      2565\n",
      "\n",
      "[[1686  579]\n",
      " [  44  256]]\n",
      "\n",
      "Test\n",
      "Shapes: (765, 24), (765,)\n",
      "              precision    recall  f1-score   support\n",
      "\n",
      "           0       0.96      0.63      0.76       673\n",
      "           1       0.23      0.82      0.36        92\n",
      "\n",
      "    accuracy                           0.65       765\n",
      "   macro avg       0.60      0.72      0.56       765\n",
      "weighted avg       0.87      0.65      0.71       765\n",
      "\n",
      "[[421 252]\n",
      " [ 17  75]]\n"
     ]
    }
   ],
   "source": [
    "GB = GradientBoostingClassifier(random_state=57)\n",
    "\n",
    "print(f\"Train shapes: {X_train_undersampled.shape}, {y_train_undersampled.shape}\")\n",
    "GB.fit(X_train_undersampled, y_train_undersampled)\n",
    "\n",
    "y_pred = GB.predict(X_val)\n",
    "print(\"\\nValidation\")\n",
    "print(f\"Shapes: {X_val.shape}, {y_pred.shape}\")\n",
    "print(classification_report(y_val, y_pred))\n",
    "print(confusion_matrix(y_val, y_pred))\n",
    "\n",
    "y_pred = GB.predict(X_test)\n",
    "print(\"\\nTest\")\n",
    "print(f\"Shapes: {X_test.shape}, {y_pred.shape}\")\n",
    "print(classification_report(y_test, y_pred))\n",
    "print(confusion_matrix(y_test, y_pred))"
   ]
  },
  {
   "cell_type": "markdown",
   "metadata": {},
   "source": [
    "### Over Sampling\n"
   ]
  },
  {
   "cell_type": "code",
   "execution_count": 13,
   "metadata": {},
   "outputs": [],
   "source": [
    "oversampled_train_ones = resample(\n",
    "    ones, replace=True, n_samples=len(zeroes), random_state=57\n",
    ")\n",
    "\n",
    "oversampled_train_data = np.concatenate((zeroes, oversampled_train_ones), axis=0)"
   ]
  },
  {
   "cell_type": "code",
   "execution_count": 14,
   "metadata": {},
   "outputs": [
    {
     "name": "stdout",
     "output_type": "stream",
     "text": [
      "Oversampled_train_data: {0: 9286, 1: 9286}\n"
     ]
    }
   ],
   "source": [
    "print(f\"Oversampled_train_data: {count_values_list(oversampled_train_data[:, -1])}\")"
   ]
  },
  {
   "cell_type": "code",
   "execution_count": 15,
   "metadata": {},
   "outputs": [],
   "source": [
    "X_train_oversampled = oversampled_train_data[:, :-1]\n",
    "y_train_oversampled = oversampled_train_data[:, -1]"
   ]
  },
  {
   "cell_type": "markdown",
   "metadata": {},
   "source": [
    "#### Training and Testing model\n"
   ]
  },
  {
   "cell_type": "code",
   "execution_count": 16,
   "metadata": {},
   "outputs": [
    {
     "name": "stdout",
     "output_type": "stream",
     "text": [
      "Train shapes: (18572, 24), (18572,)\n"
     ]
    },
    {
     "name": "stdout",
     "output_type": "stream",
     "text": [
      "\n",
      "Validation\n",
      "Shapes: (2565, 24), (2565,)\n",
      "              precision    recall  f1-score   support\n",
      "\n",
      "           0       0.97      0.78      0.87      2265\n",
      "           1       0.34      0.83      0.48       300\n",
      "\n",
      "    accuracy                           0.79      2565\n",
      "   macro avg       0.65      0.81      0.67      2565\n",
      "weighted avg       0.90      0.79      0.82      2565\n",
      "\n",
      "[[1777  488]\n",
      " [  52  248]]\n",
      "\n",
      "Test\n",
      "Shapes: (765, 24), (765,)\n",
      "              precision    recall  f1-score   support\n",
      "\n",
      "           0       0.96      0.79      0.87       673\n",
      "           1       0.33      0.77      0.47        92\n",
      "\n",
      "    accuracy                           0.79       765\n",
      "   macro avg       0.65      0.78      0.67       765\n",
      "weighted avg       0.89      0.79      0.82       765\n",
      "\n",
      "[[532 141]\n",
      " [ 21  71]]\n"
     ]
    }
   ],
   "source": [
    "GB = GradientBoostingClassifier(random_state=57)\n",
    "\n",
    "print(f\"Train shapes: {X_train_oversampled.shape}, {y_train_oversampled.shape}\")\n",
    "GB.fit(X_train_oversampled, y_train_oversampled)\n",
    "\n",
    "y_pred = GB.predict(X_val)\n",
    "print(\"\\nValidation\")\n",
    "print(f\"Shapes: {X_val.shape}, {y_pred.shape}\")\n",
    "print(classification_report(y_val, y_pred))\n",
    "print(confusion_matrix(y_val, y_pred))\n",
    "\n",
    "y_pred = GB.predict(X_test)\n",
    "print(\"\\nTest\")\n",
    "print(f\"Shapes: {X_test.shape}, {y_pred.shape}\")\n",
    "print(classification_report(y_test, y_pred))\n",
    "print(confusion_matrix(y_test, y_pred))"
   ]
  },
  {
   "cell_type": "markdown",
   "metadata": {},
   "source": [
    "## Mixing Both\n",
    "\n",
    "In this mixing both section I want to try to mix both techniques to see if I can get a better result.\n",
    "\n",
    "I will get all the rows from the train dataset and reduce the majority class to the half of the total and increase the minority class to the same number of the majority class.\n",
    "\n",
    "Let's suppose we have n rows in total, after the process we will have n/2 rows of the majority class and n/2 rows of the minority class.\n",
    "\n",
    "Then I will train the model with the new dataset and test it with the test dataset.\n",
    "\n",
    "**Half Sampling**\n"
   ]
  },
  {
   "cell_type": "code",
   "execution_count": 17,
   "metadata": {},
   "outputs": [
    {
     "name": "stdout",
     "output_type": "stream",
     "text": [
      "n_sample_size: 5089\n"
     ]
    }
   ],
   "source": [
    "n_rows = train_data.shape[0]\n",
    "\n",
    "n_sample_size = n_rows // 2\n",
    "print(f\"n_sample_size: {n_sample_size}\")"
   ]
  },
  {
   "cell_type": "code",
   "execution_count": 18,
   "metadata": {},
   "outputs": [],
   "source": [
    "undersampled_train_zeroes = resample(\n",
    "    zeroes, replace=False, n_samples=n_sample_size, random_state=57\n",
    ")\n",
    "oversampled_train_ones = resample(\n",
    "    ones, replace=True, n_samples=n_sample_size, random_state=57\n",
    ")\n",
    "\n",
    "halfsampled_train_data = np.concatenate(\n",
    "    (undersampled_train_zeroes, oversampled_train_ones), axis=0\n",
    ")"
   ]
  },
  {
   "cell_type": "code",
   "execution_count": 19,
   "metadata": {},
   "outputs": [
    {
     "name": "stdout",
     "output_type": "stream",
     "text": [
      "Halfsampled_train_data: {0: 5089, 1: 5089}\n"
     ]
    }
   ],
   "source": [
    "print(f\"Halfsampled_train_data: {count_values_list(halfsampled_train_data[:, -1])}\")"
   ]
  },
  {
   "cell_type": "code",
   "execution_count": 20,
   "metadata": {},
   "outputs": [],
   "source": [
    "X_train_halfsampled = halfsampled_train_data[:, :-1]\n",
    "y_train_halfsampled = halfsampled_train_data[:, -1]"
   ]
  },
  {
   "cell_type": "markdown",
   "metadata": {},
   "source": [
    "#### Training and Testing model\n"
   ]
  },
  {
   "cell_type": "code",
   "execution_count": 21,
   "metadata": {},
   "outputs": [
    {
     "name": "stdout",
     "output_type": "stream",
     "text": [
      "Train shapes: (10178, 24), (10178,)\n"
     ]
    },
    {
     "name": "stdout",
     "output_type": "stream",
     "text": [
      "\n",
      "Validation\n",
      "Shapes: (2565, 24), (2565,)\n",
      "              precision    recall  f1-score   support\n",
      "\n",
      "           0       0.97      0.81      0.88      2265\n",
      "           1       0.36      0.81      0.50       300\n",
      "\n",
      "    accuracy                           0.81      2565\n",
      "   macro avg       0.66      0.81      0.69      2565\n",
      "weighted avg       0.90      0.81      0.84      2565\n",
      "\n",
      "[[1827  438]\n",
      " [  56  244]]\n",
      "\n",
      "Test\n",
      "Shapes: (765, 24), (765,)\n",
      "              precision    recall  f1-score   support\n",
      "\n",
      "           0       0.95      0.76      0.84       673\n",
      "           1       0.28      0.71      0.40        92\n",
      "\n",
      "    accuracy                           0.75       765\n",
      "   macro avg       0.62      0.73      0.62       765\n",
      "weighted avg       0.87      0.75      0.79       765\n",
      "\n",
      "[[509 164]\n",
      " [ 27  65]]\n"
     ]
    }
   ],
   "source": [
    "GB = GradientBoostingClassifier(random_state=57)\n",
    "\n",
    "print(f\"Train shapes: {X_train_halfsampled.shape}, {y_train_halfsampled.shape}\")\n",
    "GB.fit(X_train_halfsampled, y_train_halfsampled)\n",
    "\n",
    "y_pred = GB.predict(X_val)\n",
    "print(\"\\nValidation\")\n",
    "print(f\"Shapes: {X_val.shape}, {y_pred.shape}\")\n",
    "print(classification_report(y_val, y_pred))\n",
    "print(confusion_matrix(y_val, y_pred))\n",
    "\n",
    "y_pred = GB.predict(X_test)\n",
    "print(\"\\nTest\")\n",
    "print(f\"Shapes: {X_test.shape}, {y_pred.shape}\")\n",
    "print(classification_report(y_test, y_pred))\n",
    "print(confusion_matrix(y_test, y_pred))"
   ]
  },
  {
   "cell_type": "markdown",
   "metadata": {},
   "source": [
    "## Changing the threshold\n"
   ]
  },
  {
   "cell_type": "code",
   "execution_count": 22,
   "metadata": {},
   "outputs": [],
   "source": [
    "# Building a basic model fot the baseline\n",
    "\n",
    "GB = GradientBoostingClassifier(random_state=57)\n",
    "GB = GB.fit(X_train, y_train.ravel())\n",
    "\n",
    "y_pred = GB.predict(X_val)\n",
    "\n",
    "precision_original = round(precision_score(y_val, y_pred), 4)\n",
    "recall_original = round(recall_score(y_val, y_pred), 4)\n",
    "F1_score_original = round(f1_score(y_val, y_pred), 4)\n",
    "metrics_original = [precision_original, recall_original, F1_score_original]"
   ]
  },
  {
   "cell_type": "code",
   "execution_count": 23,
   "metadata": {},
   "outputs": [],
   "source": [
    "cols = ['Metrics', 'Original']\n",
    "adj_threshold = pd.DataFrame()\n",
    "adj_threshold['Original'] = metrics_original\n",
    "thresholds = [j/20 for j in range(1, 16)]\n",
    "\n",
    "for i in thresholds:\n",
    "    y_pred_new_threshold = (GB.predict_proba(X_val)[:,1]>=i).astype(int) #calculating the threshold with respect to class 1\n",
    "\n",
    "    precision_adj_threshold =  round(precision_score(y_val, y_pred_new_threshold, average='binary'), 4)\n",
    "    recall_adj_threshold = round(recall_score(y_val, y_pred_new_threshold, average='binary'), 4)\n",
    "    F1_score_adj_threshold =  round((f1_score(y_val, y_pred_new_threshold, average='binary')), 4)\n",
    "    metrics_adj_threshold = [precision_adj_threshold, recall_adj_threshold, F1_score_adj_threshold]\n",
    "    name = 'Threshold: ' + str(i) \n",
    "    adj_threshold[name] = metrics_adj_threshold\n",
    "    cols.append(name)\n",
    "\n",
    "adj_threshold.index = ['Precision', 'Recall', 'F1_score']\n",
    "adj_threshold = adj_threshold.reset_index()\n",
    "adj_threshold.columns = cols\n",
    "adj_threshold.transpose()\n",
    "\n",
    "df_adj_threshold = adj_threshold.transpose().iloc[1:, :]\n",
    "df_adj_threshold.columns = adj_threshold.iloc[:,0]"
   ]
  },
  {
   "cell_type": "code",
   "execution_count": 24,
   "metadata": {},
   "outputs": [
    {
     "data": {
      "text/html": [
       "<div>\n",
       "<style scoped>\n",
       "    .dataframe tbody tr th:only-of-type {\n",
       "        vertical-align: middle;\n",
       "    }\n",
       "\n",
       "    .dataframe tbody tr th {\n",
       "        vertical-align: top;\n",
       "    }\n",
       "\n",
       "    .dataframe thead th {\n",
       "        text-align: right;\n",
       "    }\n",
       "</style>\n",
       "<table border=\"1\" class=\"dataframe\">\n",
       "  <thead>\n",
       "    <tr style=\"text-align: right;\">\n",
       "      <th>Metrics</th>\n",
       "      <th>Precision</th>\n",
       "      <th>Recall</th>\n",
       "      <th>F1_score</th>\n",
       "    </tr>\n",
       "  </thead>\n",
       "  <tbody>\n",
       "    <tr>\n",
       "      <th>Original</th>\n",
       "      <td>0.5668</td>\n",
       "      <td>0.6933</td>\n",
       "      <td>0.6237</td>\n",
       "    </tr>\n",
       "    <tr>\n",
       "      <th>Threshold: 0.05</th>\n",
       "      <td>0.2502</td>\n",
       "      <td>0.9233</td>\n",
       "      <td>0.3937</td>\n",
       "    </tr>\n",
       "    <tr>\n",
       "      <th>Threshold: 0.1</th>\n",
       "      <td>0.3687</td>\n",
       "      <td>0.8333</td>\n",
       "      <td>0.5112</td>\n",
       "    </tr>\n",
       "    <tr>\n",
       "      <th>Threshold: 0.15</th>\n",
       "      <td>0.4164</td>\n",
       "      <td>0.8133</td>\n",
       "      <td>0.5508</td>\n",
       "    </tr>\n",
       "    <tr>\n",
       "      <th>Threshold: 0.2</th>\n",
       "      <td>0.45</td>\n",
       "      <td>0.78</td>\n",
       "      <td>0.5707</td>\n",
       "    </tr>\n",
       "    <tr>\n",
       "      <th>Threshold: 0.25</th>\n",
       "      <td>0.4895</td>\n",
       "      <td>0.7733</td>\n",
       "      <td>0.5995</td>\n",
       "    </tr>\n",
       "    <tr>\n",
       "      <th>Threshold: 0.3</th>\n",
       "      <td>0.5147</td>\n",
       "      <td>0.7567</td>\n",
       "      <td>0.6127</td>\n",
       "    </tr>\n",
       "    <tr>\n",
       "      <th>Threshold: 0.35</th>\n",
       "      <td>0.5259</td>\n",
       "      <td>0.7433</td>\n",
       "      <td>0.616</td>\n",
       "    </tr>\n",
       "    <tr>\n",
       "      <th>Threshold: 0.4</th>\n",
       "      <td>0.5356</td>\n",
       "      <td>0.7267</td>\n",
       "      <td>0.6167</td>\n",
       "    </tr>\n",
       "    <tr>\n",
       "      <th>Threshold: 0.45</th>\n",
       "      <td>0.5556</td>\n",
       "      <td>0.7167</td>\n",
       "      <td>0.6259</td>\n",
       "    </tr>\n",
       "    <tr>\n",
       "      <th>Threshold: 0.5</th>\n",
       "      <td>0.5668</td>\n",
       "      <td>0.6933</td>\n",
       "      <td>0.6237</td>\n",
       "    </tr>\n",
       "    <tr>\n",
       "      <th>Threshold: 0.55</th>\n",
       "      <td>0.5903</td>\n",
       "      <td>0.6867</td>\n",
       "      <td>0.6348</td>\n",
       "    </tr>\n",
       "    <tr>\n",
       "      <th>Threshold: 0.6</th>\n",
       "      <td>0.5988</td>\n",
       "      <td>0.6667</td>\n",
       "      <td>0.6309</td>\n",
       "    </tr>\n",
       "    <tr>\n",
       "      <th>Threshold: 0.65</th>\n",
       "      <td>0.6287</td>\n",
       "      <td>0.6433</td>\n",
       "      <td>0.6359</td>\n",
       "    </tr>\n",
       "    <tr>\n",
       "      <th>Threshold: 0.7</th>\n",
       "      <td>0.6787</td>\n",
       "      <td>0.6267</td>\n",
       "      <td>0.6516</td>\n",
       "    </tr>\n",
       "    <tr>\n",
       "      <th>Threshold: 0.75</th>\n",
       "      <td>0.6935</td>\n",
       "      <td>0.5733</td>\n",
       "      <td>0.6277</td>\n",
       "    </tr>\n",
       "  </tbody>\n",
       "</table>\n",
       "</div>"
      ],
      "text/plain": [
       "Metrics         Precision  Recall F1_score\n",
       "Original           0.5668  0.6933   0.6237\n",
       "Threshold: 0.05    0.2502  0.9233   0.3937\n",
       "Threshold: 0.1     0.3687  0.8333   0.5112\n",
       "Threshold: 0.15    0.4164  0.8133   0.5508\n",
       "Threshold: 0.2       0.45    0.78   0.5707\n",
       "Threshold: 0.25    0.4895  0.7733   0.5995\n",
       "Threshold: 0.3     0.5147  0.7567   0.6127\n",
       "Threshold: 0.35    0.5259  0.7433    0.616\n",
       "Threshold: 0.4     0.5356  0.7267   0.6167\n",
       "Threshold: 0.45    0.5556  0.7167   0.6259\n",
       "Threshold: 0.5     0.5668  0.6933   0.6237\n",
       "Threshold: 0.55    0.5903  0.6867   0.6348\n",
       "Threshold: 0.6     0.5988  0.6667   0.6309\n",
       "Threshold: 0.65    0.6287  0.6433   0.6359\n",
       "Threshold: 0.7     0.6787  0.6267   0.6516\n",
       "Threshold: 0.75    0.6935  0.5733   0.6277"
      ]
     },
     "execution_count": 24,
     "metadata": {},
     "output_type": "execute_result"
    }
   ],
   "source": [
    "df_adj_threshold"
   ]
  },
  {
   "cell_type": "code",
   "execution_count": 25,
   "metadata": {},
   "outputs": [
    {
     "data": {
      "image/png": "[encoded data removed]",
      "text/plain": [
       "<Figure size 1500x500 with 1 Axes>"
      ]
     },
     "metadata": {},
     "output_type": "display_data"
    }
   ],
   "source": [
    "sns.set()\n",
    "adj_threshold.plot(x='Metrics',\n",
    "        kind='bar',\n",
    "        stacked=False,\n",
    "        title='Metrics across Varying Thresholds',\n",
    "        figsize=(15, 5),\n",
    "        cmap = 'twilight').legend(loc='center left',bbox_to_anchor=(1.0, 0.5))\n",
    "plt.show()"
   ]
  },
  {
   "cell_type": "markdown",
   "metadata": {},
   "source": [
    "#### Training and Testing the model with the optimal threshold\n"
   ]
  },
  {
   "cell_type": "code",
   "execution_count": 26,
   "metadata": {},
   "outputs": [
    {
     "data": {
      "image/png": "[encoded data removed]",
      "text/plain": [
       "<Figure size 700x700 with 1 Axes>"
      ]
     },
     "metadata": {},
     "output_type": "display_data"
    }
   ],
   "source": [
    "y_pred_new_threshold = (GB.predict_proba(X_test)[:, 1] >= 0.7).astype(int)\n",
    "\n",
    "conf_matrix = confusion_matrix(y_true=y_test, y_pred=y_pred_new_threshold)\n",
    "\n",
    "fig, ax = plt.subplots(figsize=(7, 7))\n",
    "ax.matshow(conf_matrix, cmap=plt.cm.Accent, alpha=0.4)\n",
    "for i in range(conf_matrix.shape[0]):\n",
    "    for j in range(conf_matrix.shape[1]):\n",
    "        ax.text(x=j, y=i, s=conf_matrix[i, j], va=\"center\", ha=\"center\", size=\"x-large\")\n",
    "\n",
    "plt.xlabel(\"Predictions\", fontsize=10)\n",
    "plt.ylabel(\"Actuals\", fontsize=10)\n",
    "plt.title(\"Confusion Matrix\", fontsize=15)\n",
    "plt.show()"
   ]
  },
  {
   "cell_type": "code",
   "execution_count": 27,
   "metadata": {},
   "outputs": [
    {
     "data": {
      "text/html": [
       "<div>\n",
       "<style scoped>\n",
       "    .dataframe tbody tr th:only-of-type {\n",
       "        vertical-align: middle;\n",
       "    }\n",
       "\n",
       "    .dataframe tbody tr th {\n",
       "        vertical-align: top;\n",
       "    }\n",
       "\n",
       "    .dataframe thead th {\n",
       "        text-align: right;\n",
       "    }\n",
       "</style>\n",
       "<table border=\"1\" class=\"dataframe\">\n",
       "  <thead>\n",
       "    <tr style=\"text-align: right;\">\n",
       "      <th></th>\n",
       "      <th>Original Dataset</th>\n",
       "      <th>Threshold Changed Dataset</th>\n",
       "    </tr>\n",
       "  </thead>\n",
       "  <tbody>\n",
       "    <tr>\n",
       "      <th>Precision</th>\n",
       "      <td>0.5668</td>\n",
       "      <td>0.4884</td>\n",
       "    </tr>\n",
       "    <tr>\n",
       "      <th>Recall</th>\n",
       "      <td>0.6933</td>\n",
       "      <td>0.4565</td>\n",
       "    </tr>\n",
       "    <tr>\n",
       "      <th>F1_score</th>\n",
       "      <td>0.6237</td>\n",
       "      <td>0.4719</td>\n",
       "    </tr>\n",
       "  </tbody>\n",
       "</table>\n",
       "</div>"
      ],
      "text/plain": [
       "           Original Dataset  Threshold Changed Dataset\n",
       "Precision            0.5668                     0.4884\n",
       "Recall               0.6933                     0.4565\n",
       "F1_score             0.6237                     0.4719"
      ]
     },
     "execution_count": 27,
     "metadata": {},
     "output_type": "execute_result"
    }
   ],
   "source": [
    "precision_changedthreshold =  round(precision_score(y_test, y_pred_new_threshold), 4)\n",
    "recall_changedthreshold = round(recall_score(y_test, y_pred_new_threshold), 4)\n",
    "F1_changedthreshold =  round(f1_score(y_test, y_pred_new_threshold), 4)\n",
    "metrics_changedthreshold = [precision_changedthreshold, recall_changedthreshold, F1_changedthreshold]\n",
    "\n",
    "changedthreshold = pd.DataFrame(list(zip(metrics_original, metrics_changedthreshold)))\n",
    "changedthreshold.index = ['Precision', 'Recall', 'F1_score']\n",
    "changedthreshold.columns = ['Original Dataset', 'Threshold Changed Dataset']\n",
    "changedthreshold"
   ]
  },
  {
   "cell_type": "markdown",
   "metadata": {},
   "source": [
    "## imblearn (to do)"
   ]
  },
  {
   "cell_type": "markdown",
   "metadata": {},
   "source": [
    "### Under Sampling - SMOTE\n"
   ]
  },
  {
   "cell_type": "code",
   "execution_count": 28,
   "metadata": {},
   "outputs": [],
   "source": [
    "from imblearn.over_sampling import SMOTE"
   ]
  },
  {
   "cell_type": "code",
   "execution_count": null,
   "metadata": {},
   "outputs": [],
   "source": []
  },
  {
   "cell_type": "markdown",
   "metadata": {},
   "source": [
    "#### Training and Testing model\n"
   ]
  },
  {
   "cell_type": "code",
   "execution_count": null,
   "metadata": {},
   "outputs": [],
   "source": []
  },
  {
   "cell_type": "markdown",
   "metadata": {},
   "source": [
    "#### Under Sampling - ADASYN"
   ]
  },
  {
   "cell_type": "code",
   "execution_count": 29,
   "metadata": {},
   "outputs": [],
   "source": [
    "from imblearn.over_sampling import ADASYN"
   ]
  },
  {
   "cell_type": "code",
   "execution_count": null,
   "metadata": {},
   "outputs": [],
   "source": []
  },
  {
   "cell_type": "markdown",
   "metadata": {},
   "source": [
    "#### Training and Testing model\n"
   ]
  },
  {
   "cell_type": "code",
   "execution_count": null,
   "metadata": {},
   "outputs": [],
   "source": []
  },
  {
   "cell_type": "markdown",
   "metadata": {},
   "source": [
    "### Over Sampling\n"
   ]
  },
  {
   "cell_type": "code",
   "execution_count": null,
   "metadata": {},
   "outputs": [],
   "source": []
  },
  {
   "cell_type": "code",
   "execution_count": 30,
   "metadata": {},
   "outputs": [],
   "source": [
    "from imblearn.under_sampling import RandomUnderSampler, NearMiss\n"
   ]
  },
  {
   "cell_type": "markdown",
   "metadata": {},
   "source": [
    "#### Training and Testing model\n"
   ]
  },
  {
   "cell_type": "code",
   "execution_count": null,
   "metadata": {},
   "outputs": [],
   "source": []
  },
  {
   "cell_type": "code",
   "execution_count": null,
   "metadata": {},
   "outputs": [],
   "source": []
  },
  {
   "cell_type": "markdown",
   "metadata": {},
   "source": [
    "#### Training and Testing model\n"
   ]
  },
  {
   "cell_type": "code",
   "execution_count": null,
   "metadata": {},
   "outputs": [],
   "source": []
  },
  {
   "cell_type": "markdown",
   "metadata": {},
   "source": [
    "# A621\n"
   ]
  },
  {
   "cell_type": "code",
   "execution_count": 31,
   "metadata": {},
   "outputs": [
    {
     "name": "stdout",
     "output_type": "stream",
     "text": [
      "Shapes:  (9549, 24) (2428, 24) (10080, 24)\n"
     ]
    }
   ],
   "source": [
    "a621 = f\"{data_folder}{pickle_files[1]}\"\n",
    "file = open(a621, \"rb\")\n",
    "(X_train, y_train, X_val, y_val, X_test, y_test) = pickle.load(file)\n",
    "print(f\"Shapes: \", X_train.shape, X_val.shape, X_test.shape)"
   ]
  },
  {
   "cell_type": "code",
   "execution_count": 32,
   "metadata": {},
   "outputs": [
    {
     "name": "stdout",
     "output_type": "stream",
     "text": [
      "y_train: {0: 8786, 1: 763}\n",
      "y_val:   {0: 2201, 1: 227}\n",
      "y_test:  {0: 9147, 1: 933}\n"
     ]
    }
   ],
   "source": [
    "y_train = transform_array(y_train)\n",
    "print(f\"y_train: {count_values_list(y_train)}\")\n",
    "y_val = transform_array(y_val)\n",
    "print(f\"y_val:   {count_values_list(y_val)}\")\n",
    "y_test = transform_array(y_test)\n",
    "print(f\"y_test:  {count_values_list(y_test)}\")"
   ]
  },
  {
   "cell_type": "markdown",
   "metadata": {},
   "source": [
    "## Pre processing\n"
   ]
  },
  {
   "cell_type": "code",
   "execution_count": 33,
   "metadata": {},
   "outputs": [],
   "source": [
    "train_data = np.concatenate((X_train, y_train), axis=1)\n",
    "val_data = np.concatenate((X_val, y_val), axis=1)\n",
    "test_data = np.concatenate((X_test, y_test), axis=1)"
   ]
  },
  {
   "cell_type": "code",
   "execution_count": 34,
   "metadata": {},
   "outputs": [],
   "source": [
    "zeroes = train_data[train_data[:, -1] == 0]\n",
    "ones = train_data[train_data[:, -1] == 1]"
   ]
  },
  {
   "cell_type": "markdown",
   "metadata": {},
   "source": [
    "## Resample\n"
   ]
  },
  {
   "cell_type": "markdown",
   "metadata": {},
   "source": [
    "### Under Sampling\n"
   ]
  },
  {
   "cell_type": "code",
   "execution_count": 35,
   "metadata": {},
   "outputs": [],
   "source": [
    "undersampled_train_zeroes = resample(\n",
    "    zeroes, replace=False, n_samples=ones.shape[0], random_state=57\n",
    ")\n",
    "\n",
    "undersampled_train_data = np.concatenate((undersampled_train_zeroes, ones), axis=0)"
   ]
  },
  {
   "cell_type": "code",
   "execution_count": 36,
   "metadata": {},
   "outputs": [
    {
     "name": "stdout",
     "output_type": "stream",
     "text": [
      "undersampled_train_data: {0: 763, 1: 763}\n"
     ]
    }
   ],
   "source": [
    "print(f\"undersampled_train_data: {count_values_list(undersampled_train_data[:, -1])}\")"
   ]
  },
  {
   "cell_type": "code",
   "execution_count": 37,
   "metadata": {},
   "outputs": [],
   "source": [
    "X_train_undersampled = undersampled_train_data[:, :-1]\n",
    "y_train_undersampled = undersampled_train_data[:, -1]"
   ]
  },
  {
   "cell_type": "markdown",
   "metadata": {},
   "source": [
    "#### Training and Testing model\n"
   ]
  },
  {
   "cell_type": "code",
   "execution_count": 38,
   "metadata": {},
   "outputs": [
    {
     "name": "stdout",
     "output_type": "stream",
     "text": [
      "Train shapes: (1526, 24), (1526,)\n",
      "\n",
      "Validation\n",
      "Shapes: (2428, 24), (2428,)\n",
      "              precision    recall  f1-score   support\n",
      "\n",
      "           0       0.98      0.79      0.87      2201\n",
      "           1       0.29      0.86      0.44       227\n",
      "\n",
      "    accuracy                           0.79      2428\n",
      "   macro avg       0.64      0.82      0.66      2428\n",
      "weighted avg       0.92      0.79      0.83      2428\n",
      "\n",
      "[[1731  470]\n",
      " [  31  196]]\n",
      "\n",
      "Test\n",
      "Shapes: (10080, 24), (10080,)\n",
      "              precision    recall  f1-score   support\n",
      "\n",
      "           0       0.98      0.44      0.61      9147\n",
      "           1       0.14      0.93      0.25       933\n",
      "\n",
      "    accuracy                           0.49     10080\n",
      "   macro avg       0.56      0.68      0.43     10080\n",
      "weighted avg       0.91      0.49      0.58     10080\n",
      "\n",
      "[[4031 5116]\n",
      " [  69  864]]\n"
     ]
    }
   ],
   "source": [
    "GB = GradientBoostingClassifier(random_state=57)\n",
    "\n",
    "print(f\"Train shapes: {X_train_undersampled.shape}, {y_train_undersampled.shape}\")\n",
    "GB.fit(X_train_undersampled, y_train_undersampled)\n",
    "\n",
    "y_pred = GB.predict(X_val)\n",
    "print(\"\\nValidation\")\n",
    "print(f\"Shapes: {X_val.shape}, {y_pred.shape}\")\n",
    "print(classification_report(y_val, y_pred))\n",
    "print(confusion_matrix(y_val, y_pred))\n",
    "\n",
    "y_pred = GB.predict(X_test)\n",
    "print(\"\\nTest\")\n",
    "print(f\"Shapes: {X_test.shape}, {y_pred.shape}\")\n",
    "print(classification_report(y_test, y_pred))\n",
    "print(confusion_matrix(y_test, y_pred))"
   ]
  },
  {
   "cell_type": "markdown",
   "metadata": {},
   "source": [
    "### Over Sampling\n"
   ]
  },
  {
   "cell_type": "code",
   "execution_count": 39,
   "metadata": {},
   "outputs": [],
   "source": [
    "oversampled_train_ones = resample(\n",
    "    ones, replace=True, n_samples=len(zeroes), random_state=57\n",
    ")\n",
    "\n",
    "oversampled_train_data = np.concatenate((zeroes, oversampled_train_ones), axis=0)"
   ]
  },
  {
   "cell_type": "code",
   "execution_count": 40,
   "metadata": {},
   "outputs": [
    {
     "name": "stdout",
     "output_type": "stream",
     "text": [
      "Oversampled_train_data: {0: 8786, 1: 8786}\n"
     ]
    }
   ],
   "source": [
    "print(f\"Oversampled_train_data: {count_values_list(oversampled_train_data[:, -1])}\")"
   ]
  },
  {
   "cell_type": "code",
   "execution_count": 41,
   "metadata": {},
   "outputs": [],
   "source": [
    "X_train_oversampled = oversampled_train_data[:, :-1]\n",
    "y_train_oversampled = oversampled_train_data[:, -1]"
   ]
  },
  {
   "cell_type": "markdown",
   "metadata": {},
   "source": [
    "#### Training and Testing model\n"
   ]
  },
  {
   "cell_type": "code",
   "execution_count": 42,
   "metadata": {},
   "outputs": [
    {
     "name": "stdout",
     "output_type": "stream",
     "text": [
      "Train shapes: (17572, 24), (17572,)\n"
     ]
    },
    {
     "name": "stdout",
     "output_type": "stream",
     "text": [
      "\n",
      "Validation\n",
      "Shapes: (2428, 24), (2428,)\n",
      "              precision    recall  f1-score   support\n",
      "\n",
      "           0       0.96      0.86      0.91      2201\n",
      "           1       0.33      0.66      0.44       227\n",
      "\n",
      "    accuracy                           0.85      2428\n",
      "   macro avg       0.65      0.76      0.68      2428\n",
      "weighted avg       0.90      0.85      0.87      2428\n",
      "\n",
      "[[1902  299]\n",
      " [  77  150]]\n",
      "\n",
      "Test\n",
      "Shapes: (10080, 24), (10080,)\n",
      "              precision    recall  f1-score   support\n",
      "\n",
      "           0       0.98      0.57      0.72      9147\n",
      "           1       0.17      0.87      0.29       933\n",
      "\n",
      "    accuracy                           0.60     10080\n",
      "   macro avg       0.57      0.72      0.50     10080\n",
      "weighted avg       0.90      0.60      0.68     10080\n",
      "\n",
      "[[5208 3939]\n",
      " [ 122  811]]\n"
     ]
    }
   ],
   "source": [
    "GB = GradientBoostingClassifier(random_state=57)\n",
    "\n",
    "print(f\"Train shapes: {X_train_oversampled.shape}, {y_train_oversampled.shape}\")\n",
    "GB.fit(X_train_oversampled, y_train_oversampled)\n",
    "\n",
    "y_pred = GB.predict(X_val)\n",
    "print(\"\\nValidation\")\n",
    "print(f\"Shapes: {X_val.shape}, {y_pred.shape}\")\n",
    "print(classification_report(y_val, y_pred))\n",
    "print(confusion_matrix(y_val, y_pred))\n",
    "\n",
    "y_pred = GB.predict(X_test)\n",
    "print(\"\\nTest\")\n",
    "print(f\"Shapes: {X_test.shape}, {y_pred.shape}\")\n",
    "print(classification_report(y_test, y_pred))\n",
    "print(confusion_matrix(y_test, y_pred))"
   ]
  },
  {
   "cell_type": "markdown",
   "metadata": {},
   "source": [
    "## Mixing Both\n",
    "\n",
    "In this mixing both section I want to try to mix both techniques to see if I can get a better result.\n",
    "\n",
    "I will get all the rows from the train dataset and reduce the majority class to the half of the total and increase the minority class to the same number of the majority class.\n",
    "\n",
    "Let's suppose we have n rows in total, after the process we will have n/2 rows of the majority class and n/2 rows of the minority class.\n",
    "\n",
    "Then I will train the model with the new dataset and test it with the test dataset.\n",
    "\n",
    "**Half Sampling**\n"
   ]
  },
  {
   "cell_type": "code",
   "execution_count": 43,
   "metadata": {},
   "outputs": [
    {
     "name": "stdout",
     "output_type": "stream",
     "text": [
      "n_sample_size: 4774\n"
     ]
    }
   ],
   "source": [
    "n_rows = train_data.shape[0]\n",
    "\n",
    "n_sample_size = n_rows // 2\n",
    "print(f\"n_sample_size: {n_sample_size}\")"
   ]
  },
  {
   "cell_type": "code",
   "execution_count": 44,
   "metadata": {},
   "outputs": [],
   "source": [
    "undersampled_train_zeroes = resample(\n",
    "    zeroes, replace=False, n_samples=n_sample_size, random_state=57\n",
    ")\n",
    "oversampled_train_ones = resample(\n",
    "    ones, replace=True, n_samples=n_sample_size, random_state=57\n",
    ")\n",
    "\n",
    "halfsampled_train_data = np.concatenate(\n",
    "    (undersampled_train_zeroes, oversampled_train_ones), axis=0\n",
    ")"
   ]
  },
  {
   "cell_type": "code",
   "execution_count": 45,
   "metadata": {},
   "outputs": [
    {
     "name": "stdout",
     "output_type": "stream",
     "text": [
      "Halfsampled_train_data: {0: 4774, 1: 4774}\n"
     ]
    }
   ],
   "source": [
    "print(f\"Halfsampled_train_data: {count_values_list(halfsampled_train_data[:, -1])}\")"
   ]
  },
  {
   "cell_type": "code",
   "execution_count": 46,
   "metadata": {},
   "outputs": [],
   "source": [
    "X_train_halfsampled = halfsampled_train_data[:, :-1]\n",
    "y_train_halfsampled = halfsampled_train_data[:, -1]"
   ]
  },
  {
   "cell_type": "markdown",
   "metadata": {},
   "source": [
    "#### Training and Testing model\n"
   ]
  },
  {
   "cell_type": "code",
   "execution_count": 47,
   "metadata": {},
   "outputs": [
    {
     "name": "stdout",
     "output_type": "stream",
     "text": [
      "Train shapes: (9548, 24), (9548,)\n"
     ]
    },
    {
     "name": "stdout",
     "output_type": "stream",
     "text": [
      "\n",
      "Validation\n",
      "Shapes: (2428, 24), (2428,)\n",
      "              precision    recall  f1-score   support\n",
      "\n",
      "           0       0.98      0.85      0.91      2201\n",
      "           1       0.35      0.79      0.49       227\n",
      "\n",
      "    accuracy                           0.85      2428\n",
      "   macro avg       0.66      0.82      0.70      2428\n",
      "weighted avg       0.92      0.85      0.87      2428\n",
      "\n",
      "[[1875  326]\n",
      " [  48  179]]\n",
      "\n",
      "Test\n",
      "Shapes: (10080, 24), (10080,)\n",
      "              precision    recall  f1-score   support\n",
      "\n",
      "           0       0.98      0.57      0.72      9147\n",
      "           1       0.17      0.87      0.29       933\n",
      "\n",
      "    accuracy                           0.60     10080\n",
      "   macro avg       0.57      0.72      0.50     10080\n",
      "weighted avg       0.90      0.60      0.68     10080\n",
      "\n",
      "[[5190 3957]\n",
      " [ 119  814]]\n"
     ]
    }
   ],
   "source": [
    "GB = GradientBoostingClassifier(random_state=57)\n",
    "\n",
    "print(f\"Train shapes: {X_train_halfsampled.shape}, {y_train_halfsampled.shape}\")\n",
    "GB.fit(X_train_halfsampled, y_train_halfsampled)\n",
    "\n",
    "y_pred = GB.predict(X_val)\n",
    "print(\"\\nValidation\")\n",
    "print(f\"Shapes: {X_val.shape}, {y_pred.shape}\")\n",
    "print(classification_report(y_val, y_pred))\n",
    "print(confusion_matrix(y_val, y_pred))\n",
    "\n",
    "y_pred = GB.predict(X_test)\n",
    "print(\"\\nTest\")\n",
    "print(f\"Shapes: {X_test.shape}, {y_pred.shape}\")\n",
    "print(classification_report(y_test, y_pred))\n",
    "print(confusion_matrix(y_test, y_pred))"
   ]
  },
  {
   "cell_type": "markdown",
   "metadata": {},
   "source": [
    "## Changing the threshold\n"
   ]
  },
  {
   "cell_type": "code",
   "execution_count": 48,
   "metadata": {},
   "outputs": [
    {
     "data": {
      "text/plain": [
       "array([[0.44705882, 0.61410788, 0.52702703, ..., 0.0669873 , 0.25      ,\n",
       "        0.        ],\n",
       "       [0.49411765, 0.58921162, 0.45945946, ..., 0.01703709, 0.37059048,\n",
       "        0.        ],\n",
       "       [0.55686275, 0.5560166 , 0.41891892, ..., 0.        , 0.5       ,\n",
       "        0.        ],\n",
       "       ...,\n",
       "       [0.93333333, 0.01244813, 0.21621622, ..., 0.0669873 , 0.75      ,\n",
       "        0.        ],\n",
       "       [0.89803922, 0.00414938, 0.2027027 , ..., 0.14644661, 0.85355339,\n",
       "        0.        ],\n",
       "       [0.87058824, 0.        , 0.22972973, ..., 0.25      , 0.9330127 ,\n",
       "        0.        ]])"
      ]
     },
     "execution_count": 48,
     "metadata": {},
     "output_type": "execute_result"
    }
   ],
   "source": [
    "X_val"
   ]
  },
  {
   "cell_type": "code",
   "execution_count": 49,
   "metadata": {},
   "outputs": [],
   "source": [
    "# Building a basic model fot the baseline\n",
    "\n",
    "GB = GradientBoostingClassifier(random_state=57)\n",
    "GB = GB.fit(X_train, y_train.ravel())\n",
    "\n",
    "y_pred = GB.predict(X_val)\n",
    "\n",
    "precision_original = round(precision_score(y_val, y_pred), 4)\n",
    "recall_original = round(recall_score(y_val, y_pred), 4)\n",
    "F1_score_original = round(f1_score(y_val, y_pred), 4)\n",
    "metrics_original = [precision_original, recall_original, F1_score_original]"
   ]
  },
  {
   "cell_type": "code",
   "execution_count": 50,
   "metadata": {},
   "outputs": [],
   "source": [
    "cols = ['Metrics', 'Original']\n",
    "adj_threshold = pd.DataFrame()\n",
    "adj_threshold['Original'] = metrics_original\n",
    "thresholds = [j/20 for j in range(1, 16)]\n",
    "\n",
    "for i in thresholds:\n",
    "    y_pred_new_threshold = (GB.predict_proba(X_val)[:,1]>=i).astype(int) #calculating the threshold with respect to class 1\n",
    "\n",
    "    precision_adj_threshold =  round(precision_score(y_val, y_pred_new_threshold, average='binary'), 4)\n",
    "    recall_adj_threshold = round(recall_score(y_val, y_pred_new_threshold, average='binary'), 4)\n",
    "    F1_score_adj_threshold =  round((f1_score(y_val, y_pred_new_threshold, average='binary')), 4)\n",
    "    metrics_adj_threshold = [precision_adj_threshold, recall_adj_threshold, F1_score_adj_threshold]\n",
    "    name = 'Threshold: ' + str(i) \n",
    "    adj_threshold[name] = metrics_adj_threshold\n",
    "    cols.append(name)\n",
    "\n",
    "adj_threshold.index = ['Precision', 'Recall', 'F1_score']\n",
    "adj_threshold = adj_threshold.reset_index()\n",
    "adj_threshold.columns = cols\n",
    "adj_threshold.transpose()\n",
    "\n",
    "df_adj_threshold = adj_threshold.transpose().iloc[1:, :]\n",
    "df_adj_threshold.columns = adj_threshold.iloc[:,0]"
   ]
  },
  {
   "cell_type": "code",
   "execution_count": 51,
   "metadata": {},
   "outputs": [
    {
     "data": {
      "text/html": [
       "<div>\n",
       "<style scoped>\n",
       "    .dataframe tbody tr th:only-of-type {\n",
       "        vertical-align: middle;\n",
       "    }\n",
       "\n",
       "    .dataframe tbody tr th {\n",
       "        vertical-align: top;\n",
       "    }\n",
       "\n",
       "    .dataframe thead th {\n",
       "        text-align: right;\n",
       "    }\n",
       "</style>\n",
       "<table border=\"1\" class=\"dataframe\">\n",
       "  <thead>\n",
       "    <tr style=\"text-align: right;\">\n",
       "      <th>Metrics</th>\n",
       "      <th>Precision</th>\n",
       "      <th>Recall</th>\n",
       "      <th>F1_score</th>\n",
       "    </tr>\n",
       "  </thead>\n",
       "  <tbody>\n",
       "    <tr>\n",
       "      <th>Original</th>\n",
       "      <td>0.629</td>\n",
       "      <td>0.5154</td>\n",
       "      <td>0.5666</td>\n",
       "    </tr>\n",
       "    <tr>\n",
       "      <th>Threshold: 0.05</th>\n",
       "      <td>0.201</td>\n",
       "      <td>0.8987</td>\n",
       "      <td>0.3285</td>\n",
       "    </tr>\n",
       "    <tr>\n",
       "      <th>Threshold: 0.1</th>\n",
       "      <td>0.3787</td>\n",
       "      <td>0.7974</td>\n",
       "      <td>0.5135</td>\n",
       "    </tr>\n",
       "    <tr>\n",
       "      <th>Threshold: 0.15</th>\n",
       "      <td>0.456</td>\n",
       "      <td>0.7533</td>\n",
       "      <td>0.5681</td>\n",
       "    </tr>\n",
       "    <tr>\n",
       "      <th>Threshold: 0.2</th>\n",
       "      <td>0.4969</td>\n",
       "      <td>0.7048</td>\n",
       "      <td>0.5829</td>\n",
       "    </tr>\n",
       "    <tr>\n",
       "      <th>Threshold: 0.25</th>\n",
       "      <td>0.5429</td>\n",
       "      <td>0.6696</td>\n",
       "      <td>0.5996</td>\n",
       "    </tr>\n",
       "    <tr>\n",
       "      <th>Threshold: 0.3</th>\n",
       "      <td>0.5703</td>\n",
       "      <td>0.6432</td>\n",
       "      <td>0.6046</td>\n",
       "    </tr>\n",
       "    <tr>\n",
       "      <th>Threshold: 0.35</th>\n",
       "      <td>0.5733</td>\n",
       "      <td>0.5859</td>\n",
       "      <td>0.5795</td>\n",
       "    </tr>\n",
       "    <tr>\n",
       "      <th>Threshold: 0.4</th>\n",
       "      <td>0.5935</td>\n",
       "      <td>0.5595</td>\n",
       "      <td>0.576</td>\n",
       "    </tr>\n",
       "    <tr>\n",
       "      <th>Threshold: 0.45</th>\n",
       "      <td>0.6188</td>\n",
       "      <td>0.5507</td>\n",
       "      <td>0.5828</td>\n",
       "    </tr>\n",
       "    <tr>\n",
       "      <th>Threshold: 0.5</th>\n",
       "      <td>0.629</td>\n",
       "      <td>0.5154</td>\n",
       "      <td>0.5666</td>\n",
       "    </tr>\n",
       "    <tr>\n",
       "      <th>Threshold: 0.55</th>\n",
       "      <td>0.659</td>\n",
       "      <td>0.5022</td>\n",
       "      <td>0.57</td>\n",
       "    </tr>\n",
       "    <tr>\n",
       "      <th>Threshold: 0.6</th>\n",
       "      <td>0.6879</td>\n",
       "      <td>0.4758</td>\n",
       "      <td>0.5625</td>\n",
       "    </tr>\n",
       "    <tr>\n",
       "      <th>Threshold: 0.65</th>\n",
       "      <td>0.6993</td>\n",
       "      <td>0.4405</td>\n",
       "      <td>0.5405</td>\n",
       "    </tr>\n",
       "    <tr>\n",
       "      <th>Threshold: 0.7</th>\n",
       "      <td>0.7391</td>\n",
       "      <td>0.3744</td>\n",
       "      <td>0.4971</td>\n",
       "    </tr>\n",
       "    <tr>\n",
       "      <th>Threshold: 0.75</th>\n",
       "      <td>0.74</td>\n",
       "      <td>0.326</td>\n",
       "      <td>0.4526</td>\n",
       "    </tr>\n",
       "  </tbody>\n",
       "</table>\n",
       "</div>"
      ],
      "text/plain": [
       "Metrics         Precision  Recall F1_score\n",
       "Original            0.629  0.5154   0.5666\n",
       "Threshold: 0.05     0.201  0.8987   0.3285\n",
       "Threshold: 0.1     0.3787  0.7974   0.5135\n",
       "Threshold: 0.15     0.456  0.7533   0.5681\n",
       "Threshold: 0.2     0.4969  0.7048   0.5829\n",
       "Threshold: 0.25    0.5429  0.6696   0.5996\n",
       "Threshold: 0.3     0.5703  0.6432   0.6046\n",
       "Threshold: 0.35    0.5733  0.5859   0.5795\n",
       "Threshold: 0.4     0.5935  0.5595    0.576\n",
       "Threshold: 0.45    0.6188  0.5507   0.5828\n",
       "Threshold: 0.5      0.629  0.5154   0.5666\n",
       "Threshold: 0.55     0.659  0.5022     0.57\n",
       "Threshold: 0.6     0.6879  0.4758   0.5625\n",
       "Threshold: 0.65    0.6993  0.4405   0.5405\n",
       "Threshold: 0.7     0.7391  0.3744   0.4971\n",
       "Threshold: 0.75      0.74   0.326   0.4526"
      ]
     },
     "execution_count": 51,
     "metadata": {},
     "output_type": "execute_result"
    }
   ],
   "source": [
    "df_adj_threshold"
   ]
  },
  {
   "cell_type": "code",
   "execution_count": 52,
   "metadata": {},
   "outputs": [
    {
     "data": {
      "image/png": "[encoded data removed]",
      "text/plain": [
       "<Figure size 1500x500 with 1 Axes>"
      ]
     },
     "metadata": {},
     "output_type": "display_data"
    }
   ],
   "source": [
    "sns.set()\n",
    "adj_threshold.plot(x='Metrics',\n",
    "        kind='bar',\n",
    "        stacked=False,\n",
    "        title='Metrics across Varying Thresholds',\n",
    "        figsize=(15, 5),\n",
    "        cmap = 'twilight').legend(loc='center left',bbox_to_anchor=(1.0, 0.5))\n",
    "plt.show()"
   ]
  },
  {
   "cell_type": "markdown",
   "metadata": {},
   "source": [
    "#### Training and Testing the model with the optimal threshold\n"
   ]
  },
  {
   "cell_type": "code",
   "execution_count": 53,
   "metadata": {},
   "outputs": [
    {
     "data": {
      "image/png": "[encoded data removed]",
      "text/plain": [
       "<Figure size 700x700 with 1 Axes>"
      ]
     },
     "metadata": {},
     "output_type": "display_data"
    }
   ],
   "source": [
    "y_pred_new_threshold = (GB.predict_proba(X_test)[:, 1] >= 0.25).astype(int)\n",
    "\n",
    "conf_matrix = confusion_matrix(y_true=y_test, y_pred=y_pred_new_threshold)\n",
    "\n",
    "fig, ax = plt.subplots(figsize=(7, 7))\n",
    "ax.matshow(conf_matrix, cmap=plt.cm.Accent, alpha=0.4)\n",
    "for i in range(conf_matrix.shape[0]):\n",
    "    for j in range(conf_matrix.shape[1]):\n",
    "        ax.text(x=j, y=i, s=conf_matrix[i, j], va=\"center\", ha=\"center\", size=\"x-large\")\n",
    "\n",
    "plt.xlabel(\"Predictions\", fontsize=10)\n",
    "plt.ylabel(\"Actuals\", fontsize=10)\n",
    "plt.title(\"Confusion Matrix\", fontsize=15)\n",
    "plt.show()"
   ]
  },
  {
   "cell_type": "code",
   "execution_count": 54,
   "metadata": {},
   "outputs": [
    {
     "data": {
      "text/html": [
       "<div>\n",
       "<style scoped>\n",
       "    .dataframe tbody tr th:only-of-type {\n",
       "        vertical-align: middle;\n",
       "    }\n",
       "\n",
       "    .dataframe tbody tr th {\n",
       "        vertical-align: top;\n",
       "    }\n",
       "\n",
       "    .dataframe thead th {\n",
       "        text-align: right;\n",
       "    }\n",
       "</style>\n",
       "<table border=\"1\" class=\"dataframe\">\n",
       "  <thead>\n",
       "    <tr style=\"text-align: right;\">\n",
       "      <th></th>\n",
       "      <th>Original Dataset</th>\n",
       "      <th>Threshold Changed Dataset</th>\n",
       "    </tr>\n",
       "  </thead>\n",
       "  <tbody>\n",
       "    <tr>\n",
       "      <th>Precision</th>\n",
       "      <td>0.6290</td>\n",
       "      <td>0.4773</td>\n",
       "    </tr>\n",
       "    <tr>\n",
       "      <th>Recall</th>\n",
       "      <td>0.5154</td>\n",
       "      <td>0.6870</td>\n",
       "    </tr>\n",
       "    <tr>\n",
       "      <th>F1_score</th>\n",
       "      <td>0.5666</td>\n",
       "      <td>0.5633</td>\n",
       "    </tr>\n",
       "  </tbody>\n",
       "</table>\n",
       "</div>"
      ],
      "text/plain": [
       "           Original Dataset  Threshold Changed Dataset\n",
       "Precision            0.6290                     0.4773\n",
       "Recall               0.5154                     0.6870\n",
       "F1_score             0.5666                     0.5633"
      ]
     },
     "execution_count": 54,
     "metadata": {},
     "output_type": "execute_result"
    }
   ],
   "source": [
    "precision_changedthreshold =  round(precision_score(y_test, y_pred_new_threshold), 4)\n",
    "recall_changedthreshold = round(recall_score(y_test, y_pred_new_threshold), 4)\n",
    "F1_changedthreshold =  round(f1_score(y_test, y_pred_new_threshold), 4)\n",
    "metrics_changedthreshold = [precision_changedthreshold, recall_changedthreshold, F1_changedthreshold]\n",
    "\n",
    "changedthreshold = pd.DataFrame(list(zip(metrics_original, metrics_changedthreshold)))\n",
    "changedthreshold.index = ['Precision', 'Recall', 'F1_score']\n",
    "changedthreshold.columns = ['Original Dataset', 'Threshold Changed Dataset']\n",
    "changedthreshold"
   ]
  },
  {
   "cell_type": "markdown",
   "metadata": {},
   "source": [
    "# A627\n"
   ]
  },
  {
   "cell_type": "code",
   "execution_count": 55,
   "metadata": {},
   "outputs": [
    {
     "name": "stdout",
     "output_type": "stream",
     "text": [
      "Shapes:  (9682, 24) (2235, 24) (10202, 24)\n"
     ]
    }
   ],
   "source": [
    "a627 = f\"{data_folder}{pickle_files[2]}\"\n",
    "file = open(a627, \"rb\")\n",
    "(X_train, y_train, X_val, y_val, X_test, y_test) = pickle.load(file)\n",
    "print(f\"Shapes: \", X_train.shape, X_val.shape, X_test.shape)"
   ]
  },
  {
   "cell_type": "code",
   "execution_count": 56,
   "metadata": {},
   "outputs": [
    {
     "name": "stdout",
     "output_type": "stream",
     "text": [
      "y_train: {0: 8910, 1: 772}\n",
      "y_val:   {0: 1983, 1: 252}\n",
      "y_test:  {0: 9200, 1: 1002}\n"
     ]
    }
   ],
   "source": [
    "y_train = transform_array(y_train)\n",
    "print(f\"y_train: {count_values_list(y_train)}\")\n",
    "y_val = transform_array(y_val)\n",
    "print(f\"y_val:   {count_values_list(y_val)}\")\n",
    "y_test = transform_array(y_test)\n",
    "print(f\"y_test:  {count_values_list(y_test)}\")"
   ]
  },
  {
   "cell_type": "markdown",
   "metadata": {},
   "source": [
    "## Pre processing\n"
   ]
  },
  {
   "cell_type": "code",
   "execution_count": 57,
   "metadata": {},
   "outputs": [],
   "source": [
    "train_data = np.concatenate((X_train, y_train), axis=1)\n",
    "val_data = np.concatenate((X_val, y_val), axis=1)\n",
    "test_data = np.concatenate((X_test, y_test), axis=1)"
   ]
  },
  {
   "cell_type": "code",
   "execution_count": 58,
   "metadata": {},
   "outputs": [],
   "source": [
    "zeroes = train_data[train_data[:, -1] == 0]\n",
    "ones = train_data[train_data[:, -1] == 1]"
   ]
  },
  {
   "cell_type": "markdown",
   "metadata": {},
   "source": [
    "## Resample\n"
   ]
  },
  {
   "cell_type": "markdown",
   "metadata": {},
   "source": [
    "### Under Sampling\n"
   ]
  },
  {
   "cell_type": "code",
   "execution_count": 59,
   "metadata": {},
   "outputs": [],
   "source": [
    "undersampled_train_zeroes = resample(\n",
    "    zeroes, replace=False, n_samples=ones.shape[0], random_state=57\n",
    ")\n",
    "\n",
    "undersampled_train_data = np.concatenate((undersampled_train_zeroes, ones), axis=0)"
   ]
  },
  {
   "cell_type": "code",
   "execution_count": 60,
   "metadata": {},
   "outputs": [
    {
     "name": "stdout",
     "output_type": "stream",
     "text": [
      "undersampled_train_data: {0: 772, 1: 772}\n"
     ]
    }
   ],
   "source": [
    "print(f\"undersampled_train_data: {count_values_list(undersampled_train_data[:, -1])}\")"
   ]
  },
  {
   "cell_type": "code",
   "execution_count": 61,
   "metadata": {},
   "outputs": [],
   "source": [
    "X_train_undersampled = undersampled_train_data[:, :-1]\n",
    "y_train_undersampled = undersampled_train_data[:, -1]"
   ]
  },
  {
   "cell_type": "markdown",
   "metadata": {},
   "source": [
    "#### Training and Testing model\n"
   ]
  },
  {
   "cell_type": "code",
   "execution_count": 62,
   "metadata": {},
   "outputs": [
    {
     "name": "stdout",
     "output_type": "stream",
     "text": [
      "Train shapes: (1544, 24), (1544,)\n"
     ]
    },
    {
     "name": "stdout",
     "output_type": "stream",
     "text": [
      "\n",
      "Validation\n",
      "Shapes: (2235, 24), (2235,)\n",
      "              precision    recall  f1-score   support\n",
      "\n",
      "           0       0.96      0.76      0.85      1983\n",
      "           1       0.29      0.77      0.42       252\n",
      "\n",
      "    accuracy                           0.76      2235\n",
      "   macro avg       0.63      0.77      0.64      2235\n",
      "weighted avg       0.89      0.76      0.80      2235\n",
      "\n",
      "[[1510  473]\n",
      " [  57  195]]\n",
      "\n",
      "Test\n",
      "Shapes: (10202, 24), (10202,)\n",
      "              precision    recall  f1-score   support\n",
      "\n",
      "           0       0.97      0.86      0.91      9200\n",
      "           1       0.37      0.75      0.50      1002\n",
      "\n",
      "    accuracy                           0.85     10202\n",
      "   macro avg       0.67      0.81      0.71     10202\n",
      "weighted avg       0.91      0.85      0.87     10202\n",
      "\n",
      "[[7936 1264]\n",
      " [ 252  750]]\n"
     ]
    }
   ],
   "source": [
    "GB = GradientBoostingClassifier(random_state=57)\n",
    "\n",
    "print(f\"Train shapes: {X_train_undersampled.shape}, {y_train_undersampled.shape}\")\n",
    "GB.fit(X_train_undersampled, y_train_undersampled)\n",
    "\n",
    "y_pred = GB.predict(X_val)\n",
    "print(\"\\nValidation\")\n",
    "print(f\"Shapes: {X_val.shape}, {y_pred.shape}\")\n",
    "print(classification_report(y_val, y_pred))\n",
    "print(confusion_matrix(y_val, y_pred))\n",
    "\n",
    "y_pred = GB.predict(X_test)\n",
    "print(\"\\nTest\")\n",
    "print(f\"Shapes: {X_test.shape}, {y_pred.shape}\")\n",
    "print(classification_report(y_test, y_pred))\n",
    "print(confusion_matrix(y_test, y_pred))"
   ]
  },
  {
   "cell_type": "markdown",
   "metadata": {},
   "source": [
    "### Over Sampling\n"
   ]
  },
  {
   "cell_type": "code",
   "execution_count": 63,
   "metadata": {},
   "outputs": [],
   "source": [
    "oversampled_train_ones = resample(\n",
    "    ones, replace=True, n_samples=len(zeroes), random_state=57\n",
    ")\n",
    "\n",
    "oversampled_train_data = np.concatenate((zeroes, oversampled_train_ones), axis=0)"
   ]
  },
  {
   "cell_type": "code",
   "execution_count": 64,
   "metadata": {},
   "outputs": [
    {
     "name": "stdout",
     "output_type": "stream",
     "text": [
      "Oversampled_train_data: {0: 8910, 1: 8910}\n"
     ]
    }
   ],
   "source": [
    "print(f\"Oversampled_train_data: {count_values_list(oversampled_train_data[:, -1])}\")"
   ]
  },
  {
   "cell_type": "code",
   "execution_count": 65,
   "metadata": {},
   "outputs": [],
   "source": [
    "X_train_oversampled = oversampled_train_data[:, :-1]\n",
    "y_train_oversampled = oversampled_train_data[:, -1]"
   ]
  },
  {
   "cell_type": "markdown",
   "metadata": {},
   "source": [
    "#### Training and Testing model\n"
   ]
  },
  {
   "cell_type": "code",
   "execution_count": 66,
   "metadata": {},
   "outputs": [
    {
     "name": "stdout",
     "output_type": "stream",
     "text": [
      "Train shapes: (17820, 24), (17820,)\n"
     ]
    },
    {
     "name": "stdout",
     "output_type": "stream",
     "text": [
      "\n",
      "Validation\n",
      "Shapes: (2235, 24), (2235,)\n",
      "              precision    recall  f1-score   support\n",
      "\n",
      "           0       0.97      0.82      0.89      1983\n",
      "           1       0.36      0.79      0.49       252\n",
      "\n",
      "    accuracy                           0.82      2235\n",
      "   macro avg       0.66      0.81      0.69      2235\n",
      "weighted avg       0.90      0.82      0.84      2235\n",
      "\n",
      "[[1625  358]\n",
      " [  52  200]]\n",
      "\n",
      "Test\n",
      "Shapes: (10202, 24), (10202,)\n",
      "              precision    recall  f1-score   support\n",
      "\n",
      "           0       0.97      0.88      0.92      9200\n",
      "           1       0.41      0.75      0.53      1002\n",
      "\n",
      "    accuracy                           0.87     10202\n",
      "   macro avg       0.69      0.82      0.73     10202\n",
      "weighted avg       0.91      0.87      0.89     10202\n",
      "\n",
      "[[8117 1083]\n",
      " [ 251  751]]\n"
     ]
    }
   ],
   "source": [
    "GB = GradientBoostingClassifier(random_state=57)\n",
    "\n",
    "print(f\"Train shapes: {X_train_oversampled.shape}, {y_train_oversampled.shape}\")\n",
    "GB.fit(X_train_oversampled, y_train_oversampled)\n",
    "\n",
    "y_pred = GB.predict(X_val)\n",
    "print(\"\\nValidation\")\n",
    "print(f\"Shapes: {X_val.shape}, {y_pred.shape}\")\n",
    "print(classification_report(y_val, y_pred))\n",
    "print(confusion_matrix(y_val, y_pred))\n",
    "\n",
    "y_pred = GB.predict(X_test)\n",
    "print(\"\\nTest\")\n",
    "print(f\"Shapes: {X_test.shape}, {y_pred.shape}\")\n",
    "print(classification_report(y_test, y_pred))\n",
    "print(confusion_matrix(y_test, y_pred))"
   ]
  },
  {
   "cell_type": "markdown",
   "metadata": {},
   "source": [
    "## Mixing Both\n",
    "\n",
    "In this mixing both section I want to try to mix both techniques to see if I can get a better result.\n",
    "\n",
    "I will get all the rows from the train dataset and reduce the majority class to the half of the total and increase the minority class to the same number of the majority class.\n",
    "\n",
    "Let's suppose we have n rows in total, after the process we will have n/2 rows of the majority class and n/2 rows of the minority class.\n",
    "\n",
    "Then I will train the model with the new dataset and test it with the test dataset.\n",
    "\n",
    "**Half Sampling**\n"
   ]
  },
  {
   "cell_type": "code",
   "execution_count": 67,
   "metadata": {},
   "outputs": [
    {
     "name": "stdout",
     "output_type": "stream",
     "text": [
      "n_sample_size: 4841\n"
     ]
    }
   ],
   "source": [
    "n_rows = train_data.shape[0]\n",
    "\n",
    "n_sample_size = n_rows // 2\n",
    "print(f\"n_sample_size: {n_sample_size}\")"
   ]
  },
  {
   "cell_type": "code",
   "execution_count": 68,
   "metadata": {},
   "outputs": [],
   "source": [
    "undersampled_train_zeroes = resample(\n",
    "    zeroes, replace=False, n_samples=n_sample_size, random_state=57\n",
    ")\n",
    "oversampled_train_ones = resample(\n",
    "    ones, replace=True, n_samples=n_sample_size, random_state=57\n",
    ")\n",
    "\n",
    "halfsampled_train_data = np.concatenate(\n",
    "    (undersampled_train_zeroes, oversampled_train_ones), axis=0\n",
    ")"
   ]
  },
  {
   "cell_type": "code",
   "execution_count": 69,
   "metadata": {},
   "outputs": [
    {
     "name": "stdout",
     "output_type": "stream",
     "text": [
      "Halfsampled_train_data: {0: 4841, 1: 4841}\n"
     ]
    }
   ],
   "source": [
    "print(f\"Halfsampled_train_data: {count_values_list(halfsampled_train_data[:, -1])}\")"
   ]
  },
  {
   "cell_type": "code",
   "execution_count": 70,
   "metadata": {},
   "outputs": [],
   "source": [
    "X_train_halfsampled = halfsampled_train_data[:, :-1]\n",
    "y_train_halfsampled = halfsampled_train_data[:, -1]"
   ]
  },
  {
   "cell_type": "markdown",
   "metadata": {},
   "source": [
    "#### Training and Testing model\n"
   ]
  },
  {
   "cell_type": "code",
   "execution_count": 71,
   "metadata": {},
   "outputs": [
    {
     "name": "stdout",
     "output_type": "stream",
     "text": [
      "Train shapes: (9682, 24), (9682,)\n"
     ]
    },
    {
     "name": "stdout",
     "output_type": "stream",
     "text": [
      "\n",
      "Validation\n",
      "Shapes: (2235, 24), (2235,)\n",
      "              precision    recall  f1-score   support\n",
      "\n",
      "           0       0.96      0.85      0.90      1983\n",
      "           1       0.39      0.76      0.51       252\n",
      "\n",
      "    accuracy                           0.84      2235\n",
      "   macro avg       0.68      0.80      0.71      2235\n",
      "weighted avg       0.90      0.84      0.86      2235\n",
      "\n",
      "[[1679  304]\n",
      " [  61  191]]\n",
      "\n",
      "Test\n",
      "Shapes: (10202, 24), (10202,)\n",
      "              precision    recall  f1-score   support\n",
      "\n",
      "           0       0.97      0.88      0.92      9200\n",
      "           1       0.41      0.75      0.53      1002\n",
      "\n",
      "    accuracy                           0.87     10202\n",
      "   macro avg       0.69      0.82      0.73     10202\n",
      "weighted avg       0.92      0.87      0.89     10202\n",
      "\n",
      "[[8128 1072]\n",
      " [ 252  750]]\n"
     ]
    }
   ],
   "source": [
    "GB = GradientBoostingClassifier(random_state=57)\n",
    "\n",
    "print(f\"Train shapes: {X_train_halfsampled.shape}, {y_train_halfsampled.shape}\")\n",
    "GB.fit(X_train_halfsampled, y_train_halfsampled)\n",
    "\n",
    "y_pred = GB.predict(X_val)\n",
    "print(\"\\nValidation\")\n",
    "print(f\"Shapes: {X_val.shape}, {y_pred.shape}\")\n",
    "print(classification_report(y_val, y_pred))\n",
    "print(confusion_matrix(y_val, y_pred))\n",
    "\n",
    "y_pred = GB.predict(X_test)\n",
    "print(\"\\nTest\")\n",
    "print(f\"Shapes: {X_test.shape}, {y_pred.shape}\")\n",
    "print(classification_report(y_test, y_pred))\n",
    "print(confusion_matrix(y_test, y_pred))"
   ]
  },
  {
   "cell_type": "markdown",
   "metadata": {},
   "source": [
    "## Changing the threshold\n"
   ]
  },
  {
   "cell_type": "code",
   "execution_count": 73,
   "metadata": {},
   "outputs": [],
   "source": [
    "# Building a basic model fot the baseline\n",
    "\n",
    "GB = GradientBoostingClassifier(random_state=57)\n",
    "GB = GB.fit(X_train, y_train.ravel())\n",
    "\n",
    "y_pred = GB.predict(X_val)\n",
    "\n",
    "precision_original = round(precision_score(y_val, y_pred), 4)\n",
    "recall_original = round(recall_score(y_val, y_pred), 4)\n",
    "F1_score_original = round(f1_score(y_val, y_pred), 4)\n",
    "metrics_original = [precision_original, recall_original, F1_score_original]"
   ]
  },
  {
   "cell_type": "code",
   "execution_count": 74,
   "metadata": {},
   "outputs": [],
   "source": [
    "cols = ['Metrics', 'Original']\n",
    "adj_threshold = pd.DataFrame()\n",
    "adj_threshold['Original'] = metrics_original\n",
    "thresholds = [j/20 for j in range(1, 16)]\n",
    "\n",
    "for i in thresholds:\n",
    "    y_pred_new_threshold = (GB.predict_proba(X_val)[:,1]>=i).astype(int) #calculating the threshold with respect to class 1\n",
    "\n",
    "    precision_adj_threshold =  round(precision_score(y_val, y_pred_new_threshold, average='binary'), 4)\n",
    "    recall_adj_threshold = round(recall_score(y_val, y_pred_new_threshold, average='binary'), 4)\n",
    "    F1_score_adj_threshold =  round((f1_score(y_val, y_pred_new_threshold, average='binary')), 4)\n",
    "    metrics_adj_threshold = [precision_adj_threshold, recall_adj_threshold, F1_score_adj_threshold]\n",
    "    name = 'Threshold: ' + str(i) \n",
    "    adj_threshold[name] = metrics_adj_threshold\n",
    "    cols.append(name)\n",
    "\n",
    "adj_threshold.index = ['Precision', 'Recall', 'F1_score']\n",
    "adj_threshold = adj_threshold.reset_index()\n",
    "adj_threshold.columns = cols\n",
    "adj_threshold.transpose()\n",
    "\n",
    "df_adj_threshold = adj_threshold.transpose().iloc[1:, :]\n",
    "df_adj_threshold.columns = adj_threshold.iloc[:,0]"
   ]
  },
  {
   "cell_type": "code",
   "execution_count": 75,
   "metadata": {},
   "outputs": [
    {
     "data": {
      "text/html": [
       "<div>\n",
       "<style scoped>\n",
       "    .dataframe tbody tr th:only-of-type {\n",
       "        vertical-align: middle;\n",
       "    }\n",
       "\n",
       "    .dataframe tbody tr th {\n",
       "        vertical-align: top;\n",
       "    }\n",
       "\n",
       "    .dataframe thead th {\n",
       "        text-align: right;\n",
       "    }\n",
       "</style>\n",
       "<table border=\"1\" class=\"dataframe\">\n",
       "  <thead>\n",
       "    <tr style=\"text-align: right;\">\n",
       "      <th>Metrics</th>\n",
       "      <th>Precision</th>\n",
       "      <th>Recall</th>\n",
       "      <th>F1_score</th>\n",
       "    </tr>\n",
       "  </thead>\n",
       "  <tbody>\n",
       "    <tr>\n",
       "      <th>Original</th>\n",
       "      <td>0.4373</td>\n",
       "      <td>0.6508</td>\n",
       "      <td>0.5231</td>\n",
       "    </tr>\n",
       "    <tr>\n",
       "      <th>Threshold: 0.05</th>\n",
       "      <td>0.1887</td>\n",
       "      <td>0.9167</td>\n",
       "      <td>0.313</td>\n",
       "    </tr>\n",
       "    <tr>\n",
       "      <th>Threshold: 0.1</th>\n",
       "      <td>0.2302</td>\n",
       "      <td>0.8651</td>\n",
       "      <td>0.3636</td>\n",
       "    </tr>\n",
       "    <tr>\n",
       "      <th>Threshold: 0.15</th>\n",
       "      <td>0.2712</td>\n",
       "      <td>0.8373</td>\n",
       "      <td>0.4097</td>\n",
       "    </tr>\n",
       "    <tr>\n",
       "      <th>Threshold: 0.2</th>\n",
       "      <td>0.2967</td>\n",
       "      <td>0.7817</td>\n",
       "      <td>0.4301</td>\n",
       "    </tr>\n",
       "    <tr>\n",
       "      <th>Threshold: 0.25</th>\n",
       "      <td>0.331</td>\n",
       "      <td>0.7579</td>\n",
       "      <td>0.4608</td>\n",
       "    </tr>\n",
       "    <tr>\n",
       "      <th>Threshold: 0.3</th>\n",
       "      <td>0.3531</td>\n",
       "      <td>0.7341</td>\n",
       "      <td>0.4768</td>\n",
       "    </tr>\n",
       "    <tr>\n",
       "      <th>Threshold: 0.35</th>\n",
       "      <td>0.3805</td>\n",
       "      <td>0.7143</td>\n",
       "      <td>0.4966</td>\n",
       "    </tr>\n",
       "    <tr>\n",
       "      <th>Threshold: 0.4</th>\n",
       "      <td>0.4051</td>\n",
       "      <td>0.6944</td>\n",
       "      <td>0.5117</td>\n",
       "    </tr>\n",
       "    <tr>\n",
       "      <th>Threshold: 0.45</th>\n",
       "      <td>0.4268</td>\n",
       "      <td>0.6825</td>\n",
       "      <td>0.5252</td>\n",
       "    </tr>\n",
       "    <tr>\n",
       "      <th>Threshold: 0.5</th>\n",
       "      <td>0.4373</td>\n",
       "      <td>0.6508</td>\n",
       "      <td>0.5231</td>\n",
       "    </tr>\n",
       "    <tr>\n",
       "      <th>Threshold: 0.55</th>\n",
       "      <td>0.4711</td>\n",
       "      <td>0.6151</td>\n",
       "      <td>0.5336</td>\n",
       "    </tr>\n",
       "    <tr>\n",
       "      <th>Threshold: 0.6</th>\n",
       "      <td>0.4833</td>\n",
       "      <td>0.5754</td>\n",
       "      <td>0.5254</td>\n",
       "    </tr>\n",
       "    <tr>\n",
       "      <th>Threshold: 0.65</th>\n",
       "      <td>0.5019</td>\n",
       "      <td>0.5198</td>\n",
       "      <td>0.5107</td>\n",
       "    </tr>\n",
       "    <tr>\n",
       "      <th>Threshold: 0.7</th>\n",
       "      <td>0.5212</td>\n",
       "      <td>0.4881</td>\n",
       "      <td>0.5041</td>\n",
       "    </tr>\n",
       "    <tr>\n",
       "      <th>Threshold: 0.75</th>\n",
       "      <td>0.5361</td>\n",
       "      <td>0.4127</td>\n",
       "      <td>0.4664</td>\n",
       "    </tr>\n",
       "  </tbody>\n",
       "</table>\n",
       "</div>"
      ],
      "text/plain": [
       "Metrics         Precision  Recall F1_score\n",
       "Original           0.4373  0.6508   0.5231\n",
       "Threshold: 0.05    0.1887  0.9167    0.313\n",
       "Threshold: 0.1     0.2302  0.8651   0.3636\n",
       "Threshold: 0.15    0.2712  0.8373   0.4097\n",
       "Threshold: 0.2     0.2967  0.7817   0.4301\n",
       "Threshold: 0.25     0.331  0.7579   0.4608\n",
       "Threshold: 0.3     0.3531  0.7341   0.4768\n",
       "Threshold: 0.35    0.3805  0.7143   0.4966\n",
       "Threshold: 0.4     0.4051  0.6944   0.5117\n",
       "Threshold: 0.45    0.4268  0.6825   0.5252\n",
       "Threshold: 0.5     0.4373  0.6508   0.5231\n",
       "Threshold: 0.55    0.4711  0.6151   0.5336\n",
       "Threshold: 0.6     0.4833  0.5754   0.5254\n",
       "Threshold: 0.65    0.5019  0.5198   0.5107\n",
       "Threshold: 0.7     0.5212  0.4881   0.5041\n",
       "Threshold: 0.75    0.5361  0.4127   0.4664"
      ]
     },
     "execution_count": 75,
     "metadata": {},
     "output_type": "execute_result"
    }
   ],
   "source": [
    "df_adj_threshold"
   ]
  },
  {
   "cell_type": "code",
   "execution_count": 76,
   "metadata": {},
   "outputs": [
    {
     "data": {
      "image/png": "[encoded data removed]",
      "text/plain": [
       "<Figure size 1500x500 with 1 Axes>"
      ]
     },
     "metadata": {},
     "output_type": "display_data"
    }
   ],
   "source": [
    "sns.set()\n",
    "adj_threshold.plot(x='Metrics',\n",
    "        kind='bar',\n",
    "        stacked=False,\n",
    "        title='Metrics across Varying Thresholds',\n",
    "        figsize=(15, 5),\n",
    "        cmap = 'twilight').legend(loc='center left',bbox_to_anchor=(1.0, 0.5))\n",
    "plt.show()"
   ]
  },
  {
   "cell_type": "markdown",
   "metadata": {},
   "source": [
    "#### Training and Testing the model with the optimal threshold\n"
   ]
  },
  {
   "cell_type": "code",
   "execution_count": 77,
   "metadata": {},
   "outputs": [
    {
     "data": {
      "image/png": "[encoded data removed]",
      "text/plain": [
       "<Figure size 700x700 with 1 Axes>"
      ]
     },
     "metadata": {},
     "output_type": "display_data"
    }
   ],
   "source": [
    "y_pred_new_threshold = (GB.predict_proba(X_test)[:, 1] >= 0.6).astype(int)\n",
    "\n",
    "conf_matrix = confusion_matrix(y_true=y_test, y_pred=y_pred_new_threshold)\n",
    "\n",
    "fig, ax = plt.subplots(figsize=(7, 7))\n",
    "ax.matshow(conf_matrix, cmap=plt.cm.Accent, alpha=0.4)\n",
    "for i in range(conf_matrix.shape[0]):\n",
    "    for j in range(conf_matrix.shape[1]):\n",
    "        ax.text(x=j, y=i, s=conf_matrix[i, j], va=\"center\", ha=\"center\", size=\"x-large\")\n",
    "\n",
    "plt.xlabel(\"Predictions\", fontsize=10)\n",
    "plt.ylabel(\"Actuals\", fontsize=10)\n",
    "plt.title(\"Confusion Matrix\", fontsize=15)\n",
    "plt.show()"
   ]
  },
  {
   "cell_type": "code",
   "execution_count": 78,
   "metadata": {},
   "outputs": [
    {
     "data": {
      "text/html": [
       "<div>\n",
       "<style scoped>\n",
       "    .dataframe tbody tr th:only-of-type {\n",
       "        vertical-align: middle;\n",
       "    }\n",
       "\n",
       "    .dataframe tbody tr th {\n",
       "        vertical-align: top;\n",
       "    }\n",
       "\n",
       "    .dataframe thead th {\n",
       "        text-align: right;\n",
       "    }\n",
       "</style>\n",
       "<table border=\"1\" class=\"dataframe\">\n",
       "  <thead>\n",
       "    <tr style=\"text-align: right;\">\n",
       "      <th></th>\n",
       "      <th>Original Dataset</th>\n",
       "      <th>Threshold Changed Dataset</th>\n",
       "    </tr>\n",
       "  </thead>\n",
       "  <tbody>\n",
       "    <tr>\n",
       "      <th>Precision</th>\n",
       "      <td>0.4373</td>\n",
       "      <td>0.7217</td>\n",
       "    </tr>\n",
       "    <tr>\n",
       "      <th>Recall</th>\n",
       "      <td>0.6508</td>\n",
       "      <td>0.4711</td>\n",
       "    </tr>\n",
       "    <tr>\n",
       "      <th>F1_score</th>\n",
       "      <td>0.5231</td>\n",
       "      <td>0.5700</td>\n",
       "    </tr>\n",
       "  </tbody>\n",
       "</table>\n",
       "</div>"
      ],
      "text/plain": [
       "           Original Dataset  Threshold Changed Dataset\n",
       "Precision            0.4373                     0.7217\n",
       "Recall               0.6508                     0.4711\n",
       "F1_score             0.5231                     0.5700"
      ]
     },
     "execution_count": 78,
     "metadata": {},
     "output_type": "execute_result"
    }
   ],
   "source": [
    "precision_changedthreshold =  round(precision_score(y_test, y_pred_new_threshold), 4)\n",
    "recall_changedthreshold = round(recall_score(y_test, y_pred_new_threshold), 4)\n",
    "F1_changedthreshold =  round(f1_score(y_test, y_pred_new_threshold), 4)\n",
    "metrics_changedthreshold = [precision_changedthreshold, recall_changedthreshold, F1_changedthreshold]\n",
    "\n",
    "changedthreshold = pd.DataFrame(list(zip(metrics_original, metrics_changedthreshold)))\n",
    "changedthreshold.index = ['Precision', 'Recall', 'F1_score']\n",
    "changedthreshold.columns = ['Original Dataset', 'Threshold Changed Dataset']\n",
    "changedthreshold"
   ]
  },
  {
   "cell_type": "markdown",
   "metadata": {},
   "source": [
    "# A636\n"
   ]
  },
  {
   "cell_type": "code",
   "execution_count": 79,
   "metadata": {},
   "outputs": [
    {
     "name": "stdout",
     "output_type": "stream",
     "text": [
      "Shapes:  (10219, 24) (2414, 24) (10129, 24)\n"
     ]
    }
   ],
   "source": [
    "a636 = f\"{data_folder}{pickle_files[3]}\"\n",
    "file = open(a636, \"rb\")\n",
    "(X_train, y_train, X_val, y_val, X_test, y_test) = pickle.load(file)\n",
    "print(f\"Shapes: \", X_train.shape, X_val.shape, X_test.shape)"
   ]
  },
  {
   "cell_type": "code",
   "execution_count": 80,
   "metadata": {},
   "outputs": [
    {
     "name": "stdout",
     "output_type": "stream",
     "text": [
      "y_train: {0: 9236, 1: 983}\n",
      "y_val:   {0: 2149, 1: 265}\n",
      "y_test:  {0: 9017, 1: 1112}\n"
     ]
    }
   ],
   "source": [
    "y_train = transform_array(y_train)\n",
    "print(f\"y_train: {count_values_list(y_train)}\")\n",
    "y_val = transform_array(y_val)\n",
    "print(f\"y_val:   {count_values_list(y_val)}\")\n",
    "y_test = transform_array(y_test)\n",
    "print(f\"y_test:  {count_values_list(y_test)}\")"
   ]
  },
  {
   "cell_type": "markdown",
   "metadata": {},
   "source": [
    "## Pre processing\n"
   ]
  },
  {
   "cell_type": "code",
   "execution_count": 81,
   "metadata": {},
   "outputs": [],
   "source": [
    "train_data = np.concatenate((X_train, y_train), axis=1)\n",
    "val_data = np.concatenate((X_val, y_val), axis=1)\n",
    "test_data = np.concatenate((X_test, y_test), axis=1)"
   ]
  },
  {
   "cell_type": "code",
   "execution_count": 82,
   "metadata": {},
   "outputs": [],
   "source": [
    "zeroes = train_data[train_data[:, -1] == 0]\n",
    "ones = train_data[train_data[:, -1] == 1]"
   ]
  },
  {
   "cell_type": "markdown",
   "metadata": {},
   "source": [
    "## Resample\n"
   ]
  },
  {
   "cell_type": "markdown",
   "metadata": {},
   "source": [
    "### Under Sampling\n"
   ]
  },
  {
   "cell_type": "code",
   "execution_count": 83,
   "metadata": {},
   "outputs": [],
   "source": [
    "undersampled_train_zeroes = resample(\n",
    "    zeroes, replace=False, n_samples=ones.shape[0], random_state=57\n",
    ")\n",
    "\n",
    "undersampled_train_data = np.concatenate((undersampled_train_zeroes, ones), axis=0)"
   ]
  },
  {
   "cell_type": "code",
   "execution_count": 84,
   "metadata": {},
   "outputs": [
    {
     "name": "stdout",
     "output_type": "stream",
     "text": [
      "undersampled_train_data: {0: 983, 1: 983}\n"
     ]
    }
   ],
   "source": [
    "print(f\"undersampled_train_data: {count_values_list(undersampled_train_data[:, -1])}\")"
   ]
  },
  {
   "cell_type": "code",
   "execution_count": 85,
   "metadata": {},
   "outputs": [],
   "source": [
    "X_train_undersampled = undersampled_train_data[:, :-1]\n",
    "y_train_undersampled = undersampled_train_data[:, -1]"
   ]
  },
  {
   "cell_type": "markdown",
   "metadata": {},
   "source": [
    "#### Training and Testing model\n"
   ]
  },
  {
   "cell_type": "code",
   "execution_count": 86,
   "metadata": {},
   "outputs": [
    {
     "name": "stdout",
     "output_type": "stream",
     "text": [
      "Train shapes: (1966, 24), (1966,)\n",
      "\n",
      "Validation\n",
      "Shapes: (2414, 24), (2414,)\n",
      "              precision    recall  f1-score   support\n",
      "\n",
      "           0       0.97      0.89      0.93      2149\n",
      "           1       0.47      0.78      0.59       265\n",
      "\n",
      "    accuracy                           0.88      2414\n",
      "   macro avg       0.72      0.84      0.76      2414\n",
      "weighted avg       0.92      0.88      0.89      2414\n",
      "\n",
      "[[1916  233]\n",
      " [  58  207]]\n",
      "\n",
      "Test\n",
      "Shapes: (10129, 24), (10129,)\n",
      "              precision    recall  f1-score   support\n",
      "\n",
      "           0       0.96      0.78      0.86      9017\n",
      "           1       0.29      0.76      0.42      1112\n",
      "\n",
      "    accuracy                           0.77     10129\n",
      "   macro avg       0.63      0.77      0.64     10129\n",
      "weighted avg       0.89      0.77      0.81     10129\n",
      "\n",
      "[[7009 2008]\n",
      " [ 272  840]]\n"
     ]
    }
   ],
   "source": [
    "GB = GradientBoostingClassifier(random_state=57)\n",
    "\n",
    "print(f\"Train shapes: {X_train_undersampled.shape}, {y_train_undersampled.shape}\")\n",
    "GB.fit(X_train_undersampled, y_train_undersampled)\n",
    "\n",
    "y_pred = GB.predict(X_val)\n",
    "print(\"\\nValidation\")\n",
    "print(f\"Shapes: {X_val.shape}, {y_pred.shape}\")\n",
    "print(classification_report(y_val, y_pred))\n",
    "print(confusion_matrix(y_val, y_pred))\n",
    "\n",
    "y_pred = GB.predict(X_test)\n",
    "print(\"\\nTest\")\n",
    "print(f\"Shapes: {X_test.shape}, {y_pred.shape}\")\n",
    "print(classification_report(y_test, y_pred))\n",
    "print(confusion_matrix(y_test, y_pred))"
   ]
  },
  {
   "cell_type": "markdown",
   "metadata": {},
   "source": [
    "### Over Sampling\n"
   ]
  },
  {
   "cell_type": "code",
   "execution_count": 87,
   "metadata": {},
   "outputs": [],
   "source": [
    "oversampled_train_ones = resample(\n",
    "    ones, replace=True, n_samples=len(zeroes), random_state=57\n",
    ")\n",
    "\n",
    "oversampled_train_data = np.concatenate((zeroes, oversampled_train_ones), axis=0)"
   ]
  },
  {
   "cell_type": "code",
   "execution_count": 88,
   "metadata": {},
   "outputs": [
    {
     "name": "stdout",
     "output_type": "stream",
     "text": [
      "Oversampled_train_data: {0: 9236, 1: 9236}\n"
     ]
    }
   ],
   "source": [
    "print(f\"Oversampled_train_data: {count_values_list(oversampled_train_data[:, -1])}\")"
   ]
  },
  {
   "cell_type": "code",
   "execution_count": 89,
   "metadata": {},
   "outputs": [],
   "source": [
    "X_train_oversampled = oversampled_train_data[:, :-1]\n",
    "y_train_oversampled = oversampled_train_data[:, -1]"
   ]
  },
  {
   "cell_type": "markdown",
   "metadata": {},
   "source": [
    "#### Training and Testing model\n"
   ]
  },
  {
   "cell_type": "code",
   "execution_count": 90,
   "metadata": {},
   "outputs": [
    {
     "name": "stdout",
     "output_type": "stream",
     "text": [
      "Train shapes: (18472, 24), (18472,)\n"
     ]
    },
    {
     "name": "stdout",
     "output_type": "stream",
     "text": [
      "\n",
      "Validation\n",
      "Shapes: (2414, 24), (2414,)\n",
      "              precision    recall  f1-score   support\n",
      "\n",
      "           0       0.97      0.94      0.95      2149\n",
      "           1       0.59      0.74      0.66       265\n",
      "\n",
      "    accuracy                           0.92      2414\n",
      "   macro avg       0.78      0.84      0.80      2414\n",
      "weighted avg       0.93      0.92      0.92      2414\n",
      "\n",
      "[[2015  134]\n",
      " [  70  195]]\n",
      "\n",
      "Test\n",
      "Shapes: (10129, 24), (10129,)\n",
      "              precision    recall  f1-score   support\n",
      "\n",
      "           0       0.96      0.84      0.90      9017\n",
      "           1       0.36      0.74      0.49      1112\n",
      "\n",
      "    accuracy                           0.83     10129\n",
      "   macro avg       0.66      0.79      0.69     10129\n",
      "weighted avg       0.90      0.83      0.85     10129\n",
      "\n",
      "[[7585 1432]\n",
      " [ 292  820]]\n"
     ]
    }
   ],
   "source": [
    "GB = GradientBoostingClassifier(random_state=57)\n",
    "\n",
    "print(f\"Train shapes: {X_train_oversampled.shape}, {y_train_oversampled.shape}\")\n",
    "GB.fit(X_train_oversampled, y_train_oversampled)\n",
    "\n",
    "y_pred = GB.predict(X_val)\n",
    "print(\"\\nValidation\")\n",
    "print(f\"Shapes: {X_val.shape}, {y_pred.shape}\")\n",
    "print(classification_report(y_val, y_pred))\n",
    "print(confusion_matrix(y_val, y_pred))\n",
    "\n",
    "y_pred = GB.predict(X_test)\n",
    "print(\"\\nTest\")\n",
    "print(f\"Shapes: {X_test.shape}, {y_pred.shape}\")\n",
    "print(classification_report(y_test, y_pred))\n",
    "print(confusion_matrix(y_test, y_pred))"
   ]
  },
  {
   "cell_type": "markdown",
   "metadata": {},
   "source": [
    "## Mixing Both\n",
    "\n",
    "In this mixing both section I want to try to mix both techniques to see if I can get a better result.\n",
    "\n",
    "I will get all the rows from the train dataset and reduce the majority class to the half of the total and increase the minority class to the same number of the majority class.\n",
    "\n",
    "Let's suppose we have n rows in total, after the process we will have n/2 rows of the majority class and n/2 rows of the minority class.\n",
    "\n",
    "Then I will train the model with the new dataset and test it with the test dataset.\n",
    "\n",
    "**Half Sampling**\n"
   ]
  },
  {
   "cell_type": "code",
   "execution_count": 91,
   "metadata": {},
   "outputs": [
    {
     "name": "stdout",
     "output_type": "stream",
     "text": [
      "n_sample_size: 5109\n"
     ]
    }
   ],
   "source": [
    "n_rows = train_data.shape[0]\n",
    "\n",
    "n_sample_size = n_rows // 2\n",
    "print(f\"n_sample_size: {n_sample_size}\")"
   ]
  },
  {
   "cell_type": "code",
   "execution_count": 92,
   "metadata": {},
   "outputs": [],
   "source": [
    "undersampled_train_zeroes = resample(\n",
    "    zeroes, replace=False, n_samples=n_sample_size, random_state=57\n",
    ")\n",
    "oversampled_train_ones = resample(\n",
    "    ones, replace=True, n_samples=n_sample_size, random_state=57\n",
    ")\n",
    "\n",
    "halfsampled_train_data = np.concatenate(\n",
    "    (undersampled_train_zeroes, oversampled_train_ones), axis=0\n",
    ")"
   ]
  },
  {
   "cell_type": "code",
   "execution_count": 93,
   "metadata": {},
   "outputs": [
    {
     "name": "stdout",
     "output_type": "stream",
     "text": [
      "Halfsampled_train_data: {0: 5109, 1: 5109}\n"
     ]
    }
   ],
   "source": [
    "print(f\"Halfsampled_train_data: {count_values_list(halfsampled_train_data[:, -1])}\")"
   ]
  },
  {
   "cell_type": "code",
   "execution_count": 94,
   "metadata": {},
   "outputs": [],
   "source": [
    "X_train_halfsampled = halfsampled_train_data[:, :-1]\n",
    "y_train_halfsampled = halfsampled_train_data[:, -1]"
   ]
  },
  {
   "cell_type": "markdown",
   "metadata": {},
   "source": [
    "#### Training and Testing model\n"
   ]
  },
  {
   "cell_type": "code",
   "execution_count": 95,
   "metadata": {},
   "outputs": [
    {
     "name": "stdout",
     "output_type": "stream",
     "text": [
      "Train shapes: (10218, 24), (10218,)\n"
     ]
    },
    {
     "name": "stdout",
     "output_type": "stream",
     "text": [
      "\n",
      "Validation\n",
      "Shapes: (2414, 24), (2414,)\n",
      "              precision    recall  f1-score   support\n",
      "\n",
      "           0       0.97      0.94      0.95      2149\n",
      "           1       0.59      0.75      0.66       265\n",
      "\n",
      "    accuracy                           0.92      2414\n",
      "   macro avg       0.78      0.85      0.81      2414\n",
      "weighted avg       0.93      0.92      0.92      2414\n",
      "\n",
      "[[2010  139]\n",
      " [  65  200]]\n",
      "\n",
      "Test\n",
      "Shapes: (10129, 24), (10129,)\n",
      "              precision    recall  f1-score   support\n",
      "\n",
      "           0       0.96      0.83      0.89      9017\n",
      "           1       0.35      0.75      0.47      1112\n",
      "\n",
      "    accuracy                           0.82     10129\n",
      "   macro avg       0.65      0.79      0.68     10129\n",
      "weighted avg       0.90      0.82      0.84     10129\n",
      "\n",
      "[[7442 1575]\n",
      " [ 279  833]]\n"
     ]
    }
   ],
   "source": [
    "GB = GradientBoostingClassifier(random_state=57)\n",
    "\n",
    "print(f\"Train shapes: {X_train_halfsampled.shape}, {y_train_halfsampled.shape}\")\n",
    "GB.fit(X_train_halfsampled, y_train_halfsampled)\n",
    "\n",
    "y_pred = GB.predict(X_val)\n",
    "print(\"\\nValidation\")\n",
    "print(f\"Shapes: {X_val.shape}, {y_pred.shape}\")\n",
    "print(classification_report(y_val, y_pred))\n",
    "print(confusion_matrix(y_val, y_pred))\n",
    "\n",
    "y_pred = GB.predict(X_test)\n",
    "print(\"\\nTest\")\n",
    "print(f\"Shapes: {X_test.shape}, {y_pred.shape}\")\n",
    "print(classification_report(y_test, y_pred))\n",
    "print(confusion_matrix(y_test, y_pred))"
   ]
  },
  {
   "cell_type": "markdown",
   "metadata": {},
   "source": [
    "## Changing the threshold\n"
   ]
  },
  {
   "cell_type": "code",
   "execution_count": 97,
   "metadata": {},
   "outputs": [],
   "source": [
    "# Building a basic model fot the baseline\n",
    "\n",
    "GB = GradientBoostingClassifier(random_state=57)\n",
    "GB = GB.fit(X_train, y_train.ravel())\n",
    "\n",
    "y_pred = GB.predict(X_val)\n",
    "\n",
    "precision_original = round(precision_score(y_val, y_pred), 4)\n",
    "recall_original = round(recall_score(y_val, y_pred), 4)\n",
    "F1_score_original = round(f1_score(y_val, y_pred), 4)\n",
    "metrics_original = [precision_original, recall_original, F1_score_original]"
   ]
  },
  {
   "cell_type": "code",
   "execution_count": 98,
   "metadata": {},
   "outputs": [],
   "source": [
    "cols = ['Metrics', 'Original']\n",
    "adj_threshold = pd.DataFrame()\n",
    "adj_threshold['Original'] = metrics_original\n",
    "thresholds = [j/20 for j in range(1, 16)]\n",
    "\n",
    "for i in thresholds:\n",
    "    y_pred_new_threshold = (GB.predict_proba(X_val)[:,1]>=i).astype(int) #calculating the threshold with respect to class 1\n",
    "\n",
    "    precision_adj_threshold =  round(precision_score(y_val, y_pred_new_threshold, average='binary'), 4)\n",
    "    recall_adj_threshold = round(recall_score(y_val, y_pred_new_threshold, average='binary'), 4)\n",
    "    F1_score_adj_threshold =  round((f1_score(y_val, y_pred_new_threshold, average='binary')), 4)\n",
    "    metrics_adj_threshold = [precision_adj_threshold, recall_adj_threshold, F1_score_adj_threshold]\n",
    "    name = 'Threshold: ' + str(i) \n",
    "    adj_threshold[name] = metrics_adj_threshold\n",
    "    cols.append(name)\n",
    "\n",
    "adj_threshold.index = ['Precision', 'Recall', 'F1_score']\n",
    "adj_threshold = adj_threshold.reset_index()\n",
    "adj_threshold.columns = cols\n",
    "adj_threshold.transpose()\n",
    "\n",
    "df_adj_threshold = adj_threshold.transpose().iloc[1:, :]\n",
    "df_adj_threshold.columns = adj_threshold.iloc[:,0]"
   ]
  },
  {
   "cell_type": "code",
   "execution_count": 99,
   "metadata": {},
   "outputs": [
    {
     "data": {
      "text/html": [
       "<div>\n",
       "<style scoped>\n",
       "    .dataframe tbody tr th:only-of-type {\n",
       "        vertical-align: middle;\n",
       "    }\n",
       "\n",
       "    .dataframe tbody tr th {\n",
       "        vertical-align: top;\n",
       "    }\n",
       "\n",
       "    .dataframe thead th {\n",
       "        text-align: right;\n",
       "    }\n",
       "</style>\n",
       "<table border=\"1\" class=\"dataframe\">\n",
       "  <thead>\n",
       "    <tr style=\"text-align: right;\">\n",
       "      <th>Metrics</th>\n",
       "      <th>Precision</th>\n",
       "      <th>Recall</th>\n",
       "      <th>F1_score</th>\n",
       "    </tr>\n",
       "  </thead>\n",
       "  <tbody>\n",
       "    <tr>\n",
       "      <th>Original</th>\n",
       "      <td>0.7333</td>\n",
       "      <td>0.5811</td>\n",
       "      <td>0.6484</td>\n",
       "    </tr>\n",
       "    <tr>\n",
       "      <th>Threshold: 0.05</th>\n",
       "      <td>0.3153</td>\n",
       "      <td>0.8377</td>\n",
       "      <td>0.4582</td>\n",
       "    </tr>\n",
       "    <tr>\n",
       "      <th>Threshold: 0.1</th>\n",
       "      <td>0.52</td>\n",
       "      <td>0.7849</td>\n",
       "      <td>0.6256</td>\n",
       "    </tr>\n",
       "    <tr>\n",
       "      <th>Threshold: 0.15</th>\n",
       "      <td>0.5702</td>\n",
       "      <td>0.7509</td>\n",
       "      <td>0.6482</td>\n",
       "    </tr>\n",
       "    <tr>\n",
       "      <th>Threshold: 0.2</th>\n",
       "      <td>0.6117</td>\n",
       "      <td>0.7132</td>\n",
       "      <td>0.6585</td>\n",
       "    </tr>\n",
       "    <tr>\n",
       "      <th>Threshold: 0.25</th>\n",
       "      <td>0.6401</td>\n",
       "      <td>0.6981</td>\n",
       "      <td>0.6679</td>\n",
       "    </tr>\n",
       "    <tr>\n",
       "      <th>Threshold: 0.3</th>\n",
       "      <td>0.6605</td>\n",
       "      <td>0.6755</td>\n",
       "      <td>0.6679</td>\n",
       "    </tr>\n",
       "    <tr>\n",
       "      <th>Threshold: 0.35</th>\n",
       "      <td>0.6875</td>\n",
       "      <td>0.6642</td>\n",
       "      <td>0.6756</td>\n",
       "    </tr>\n",
       "    <tr>\n",
       "      <th>Threshold: 0.4</th>\n",
       "      <td>0.7025</td>\n",
       "      <td>0.6415</td>\n",
       "      <td>0.6706</td>\n",
       "    </tr>\n",
       "    <tr>\n",
       "      <th>Threshold: 0.45</th>\n",
       "      <td>0.7285</td>\n",
       "      <td>0.6075</td>\n",
       "      <td>0.6626</td>\n",
       "    </tr>\n",
       "    <tr>\n",
       "      <th>Threshold: 0.5</th>\n",
       "      <td>0.7333</td>\n",
       "      <td>0.5811</td>\n",
       "      <td>0.6484</td>\n",
       "    </tr>\n",
       "    <tr>\n",
       "      <th>Threshold: 0.55</th>\n",
       "      <td>0.7423</td>\n",
       "      <td>0.5434</td>\n",
       "      <td>0.6275</td>\n",
       "    </tr>\n",
       "    <tr>\n",
       "      <th>Threshold: 0.6</th>\n",
       "      <td>0.7568</td>\n",
       "      <td>0.5283</td>\n",
       "      <td>0.6222</td>\n",
       "    </tr>\n",
       "    <tr>\n",
       "      <th>Threshold: 0.65</th>\n",
       "      <td>0.8</td>\n",
       "      <td>0.4981</td>\n",
       "      <td>0.614</td>\n",
       "    </tr>\n",
       "    <tr>\n",
       "      <th>Threshold: 0.7</th>\n",
       "      <td>0.7973</td>\n",
       "      <td>0.4453</td>\n",
       "      <td>0.5714</td>\n",
       "    </tr>\n",
       "    <tr>\n",
       "      <th>Threshold: 0.75</th>\n",
       "      <td>0.803</td>\n",
       "      <td>0.4</td>\n",
       "      <td>0.534</td>\n",
       "    </tr>\n",
       "  </tbody>\n",
       "</table>\n",
       "</div>"
      ],
      "text/plain": [
       "Metrics         Precision  Recall F1_score\n",
       "Original           0.7333  0.5811   0.6484\n",
       "Threshold: 0.05    0.3153  0.8377   0.4582\n",
       "Threshold: 0.1       0.52  0.7849   0.6256\n",
       "Threshold: 0.15    0.5702  0.7509   0.6482\n",
       "Threshold: 0.2     0.6117  0.7132   0.6585\n",
       "Threshold: 0.25    0.6401  0.6981   0.6679\n",
       "Threshold: 0.3     0.6605  0.6755   0.6679\n",
       "Threshold: 0.35    0.6875  0.6642   0.6756\n",
       "Threshold: 0.4     0.7025  0.6415   0.6706\n",
       "Threshold: 0.45    0.7285  0.6075   0.6626\n",
       "Threshold: 0.5     0.7333  0.5811   0.6484\n",
       "Threshold: 0.55    0.7423  0.5434   0.6275\n",
       "Threshold: 0.6     0.7568  0.5283   0.6222\n",
       "Threshold: 0.65       0.8  0.4981    0.614\n",
       "Threshold: 0.7     0.7973  0.4453   0.5714\n",
       "Threshold: 0.75     0.803     0.4    0.534"
      ]
     },
     "execution_count": 99,
     "metadata": {},
     "output_type": "execute_result"
    }
   ],
   "source": [
    "df_adj_threshold"
   ]
  },
  {
   "cell_type": "code",
   "execution_count": 100,
   "metadata": {},
   "outputs": [
    {
     "data": {
      "image/png": "[encoded data removed]",
      "text/plain": [
       "<Figure size 1500x500 with 1 Axes>"
      ]
     },
     "metadata": {},
     "output_type": "display_data"
    }
   ],
   "source": [
    "sns.set()\n",
    "adj_threshold.plot(x='Metrics',\n",
    "        kind='bar',\n",
    "        stacked=False,\n",
    "        title='Metrics across Varying Thresholds',\n",
    "        figsize=(15, 5),\n",
    "        cmap = 'twilight').legend(loc='center left',bbox_to_anchor=(1.0, 0.5))\n",
    "plt.show()"
   ]
  },
  {
   "cell_type": "markdown",
   "metadata": {},
   "source": [
    "#### Training and Testing the model with the optimal threshold\n"
   ]
  },
  {
   "cell_type": "code",
   "execution_count": 101,
   "metadata": {},
   "outputs": [
    {
     "data": {
      "image/png": "[encoded data removed]",
      "text/plain": [
       "<Figure size 700x700 with 1 Axes>"
      ]
     },
     "metadata": {},
     "output_type": "display_data"
    }
   ],
   "source": [
    "y_pred_new_threshold = (GB.predict_proba(X_test)[:, 1] >= 0.35).astype(int)\n",
    "\n",
    "conf_matrix = confusion_matrix(y_true=y_test, y_pred=y_pred_new_threshold)\n",
    "\n",
    "fig, ax = plt.subplots(figsize=(7, 7))\n",
    "ax.matshow(conf_matrix, cmap=plt.cm.Accent, alpha=0.4)\n",
    "for i in range(conf_matrix.shape[0]):\n",
    "    for j in range(conf_matrix.shape[1]):\n",
    "        ax.text(x=j, y=i, s=conf_matrix[i, j], va=\"center\", ha=\"center\", size=\"x-large\")\n",
    "\n",
    "plt.xlabel(\"Predictions\", fontsize=10)\n",
    "plt.ylabel(\"Actuals\", fontsize=10)\n",
    "plt.title(\"Confusion Matrix\", fontsize=15)\n",
    "plt.show()"
   ]
  },
  {
   "cell_type": "code",
   "execution_count": 102,
   "metadata": {},
   "outputs": [
    {
     "data": {
      "text/html": [
       "<div>\n",
       "<style scoped>\n",
       "    .dataframe tbody tr th:only-of-type {\n",
       "        vertical-align: middle;\n",
       "    }\n",
       "\n",
       "    .dataframe tbody tr th {\n",
       "        vertical-align: top;\n",
       "    }\n",
       "\n",
       "    .dataframe thead th {\n",
       "        text-align: right;\n",
       "    }\n",
       "</style>\n",
       "<table border=\"1\" class=\"dataframe\">\n",
       "  <thead>\n",
       "    <tr style=\"text-align: right;\">\n",
       "      <th></th>\n",
       "      <th>Original Dataset</th>\n",
       "      <th>Threshold Changed Dataset</th>\n",
       "    </tr>\n",
       "  </thead>\n",
       "  <tbody>\n",
       "    <tr>\n",
       "      <th>Precision</th>\n",
       "      <td>0.7333</td>\n",
       "      <td>0.6042</td>\n",
       "    </tr>\n",
       "    <tr>\n",
       "      <th>Recall</th>\n",
       "      <td>0.5811</td>\n",
       "      <td>0.6178</td>\n",
       "    </tr>\n",
       "    <tr>\n",
       "      <th>F1_score</th>\n",
       "      <td>0.6484</td>\n",
       "      <td>0.6109</td>\n",
       "    </tr>\n",
       "  </tbody>\n",
       "</table>\n",
       "</div>"
      ],
      "text/plain": [
       "           Original Dataset  Threshold Changed Dataset\n",
       "Precision            0.7333                     0.6042\n",
       "Recall               0.5811                     0.6178\n",
       "F1_score             0.6484                     0.6109"
      ]
     },
     "execution_count": 102,
     "metadata": {},
     "output_type": "execute_result"
    }
   ],
   "source": [
    "precision_changedthreshold =  round(precision_score(y_test, y_pred_new_threshold), 4)\n",
    "recall_changedthreshold = round(recall_score(y_test, y_pred_new_threshold), 4)\n",
    "F1_changedthreshold =  round(f1_score(y_test, y_pred_new_threshold), 4)\n",
    "metrics_changedthreshold = [precision_changedthreshold, recall_changedthreshold, F1_changedthreshold]\n",
    "\n",
    "changedthreshold = pd.DataFrame(list(zip(metrics_original, metrics_changedthreshold)))\n",
    "changedthreshold.index = ['Precision', 'Recall', 'F1_score']\n",
    "changedthreshold.columns = ['Original Dataset', 'Threshold Changed Dataset']\n",
    "changedthreshold"
   ]
  },
  {
   "cell_type": "code",
   "execution_count": null,
   "metadata": {},
   "outputs": [],
   "source": []
  },
  {
   "cell_type": "markdown",
   "metadata": {},
   "source": [
    "# A652\n"
   ]
  },
  {
   "cell_type": "code",
   "execution_count": 103,
   "metadata": {},
   "outputs": [
    {
     "name": "stdout",
     "output_type": "stream",
     "text": [
      "Shapes:  (10012, 24) (2506, 24) (9582, 24)\n"
     ]
    }
   ],
   "source": [
    "a652 = f\"{data_folder}{pickle_files[4]}\"\n",
    "file = open(a652, \"rb\")\n",
    "(X_train, y_train, X_val, y_val, X_test, y_test) = pickle.load(file)\n",
    "print(f\"Shapes: \", X_train.shape, X_val.shape, X_test.shape)"
   ]
  },
  {
   "cell_type": "code",
   "execution_count": 104,
   "metadata": {},
   "outputs": [
    {
     "name": "stdout",
     "output_type": "stream",
     "text": [
      "y_train: {0: 9258, 1: 754}\n",
      "y_val:   {0: 2277, 1: 229}\n",
      "y_test:  {0: 8769, 1: 813}\n"
     ]
    }
   ],
   "source": [
    "y_train = transform_array(y_train)\n",
    "print(f\"y_train: {count_values_list(y_train)}\")\n",
    "y_val = transform_array(y_val)\n",
    "print(f\"y_val:   {count_values_list(y_val)}\")\n",
    "y_test = transform_array(y_test)\n",
    "print(f\"y_test:  {count_values_list(y_test)}\")"
   ]
  },
  {
   "cell_type": "markdown",
   "metadata": {},
   "source": [
    "## Pre processing\n"
   ]
  },
  {
   "cell_type": "code",
   "execution_count": 105,
   "metadata": {},
   "outputs": [],
   "source": [
    "train_data = np.concatenate((X_train, y_train), axis=1)\n",
    "val_data = np.concatenate((X_val, y_val), axis=1)\n",
    "test_data = np.concatenate((X_test, y_test), axis=1)"
   ]
  },
  {
   "cell_type": "code",
   "execution_count": 106,
   "metadata": {},
   "outputs": [],
   "source": [
    "zeroes = train_data[train_data[:, -1] == 0]\n",
    "ones = train_data[train_data[:, -1] == 1]"
   ]
  },
  {
   "cell_type": "markdown",
   "metadata": {},
   "source": [
    "## Resample\n"
   ]
  },
  {
   "cell_type": "markdown",
   "metadata": {},
   "source": [
    "### Under Sampling\n"
   ]
  },
  {
   "cell_type": "code",
   "execution_count": 107,
   "metadata": {},
   "outputs": [],
   "source": [
    "undersampled_train_zeroes = resample(\n",
    "    zeroes, replace=False, n_samples=ones.shape[0], random_state=57\n",
    ")\n",
    "\n",
    "undersampled_train_data = np.concatenate((undersampled_train_zeroes, ones), axis=0)"
   ]
  },
  {
   "cell_type": "code",
   "execution_count": 108,
   "metadata": {},
   "outputs": [
    {
     "name": "stdout",
     "output_type": "stream",
     "text": [
      "undersampled_train_data: {0: 754, 1: 754}\n"
     ]
    }
   ],
   "source": [
    "print(f\"undersampled_train_data: {count_values_list(undersampled_train_data[:, -1])}\")"
   ]
  },
  {
   "cell_type": "code",
   "execution_count": 109,
   "metadata": {},
   "outputs": [],
   "source": [
    "X_train_undersampled = undersampled_train_data[:, :-1]\n",
    "y_train_undersampled = undersampled_train_data[:, -1]"
   ]
  },
  {
   "cell_type": "markdown",
   "metadata": {},
   "source": [
    "#### Training and Testing model\n"
   ]
  },
  {
   "cell_type": "code",
   "execution_count": 110,
   "metadata": {},
   "outputs": [
    {
     "name": "stdout",
     "output_type": "stream",
     "text": [
      "Train shapes: (1508, 24), (1508,)\n",
      "\n",
      "Validation\n",
      "Shapes: (2506, 24), (2506,)\n",
      "              precision    recall  f1-score   support\n",
      "\n",
      "           0       0.97      0.86      0.92      2277\n",
      "           1       0.36      0.76      0.49       229\n",
      "\n",
      "    accuracy                           0.85      2506\n",
      "   macro avg       0.67      0.81      0.70      2506\n",
      "weighted avg       0.92      0.85      0.88      2506\n",
      "\n",
      "[[1967  310]\n",
      " [  54  175]]\n",
      "\n",
      "Test\n",
      "Shapes: (9582, 24), (9582,)\n",
      "              precision    recall  f1-score   support\n",
      "\n",
      "           0       0.97      0.91      0.94      8769\n",
      "           1       0.43      0.74      0.55       813\n",
      "\n",
      "    accuracy                           0.90      9582\n",
      "   macro avg       0.70      0.82      0.74      9582\n",
      "weighted avg       0.93      0.90      0.91      9582\n",
      "\n",
      "[[7984  785]\n",
      " [ 214  599]]\n"
     ]
    }
   ],
   "source": [
    "GB = GradientBoostingClassifier(random_state=57)\n",
    "\n",
    "print(f\"Train shapes: {X_train_undersampled.shape}, {y_train_undersampled.shape}\")\n",
    "GB.fit(X_train_undersampled, y_train_undersampled)\n",
    "\n",
    "y_pred = GB.predict(X_val)\n",
    "print(\"\\nValidation\")\n",
    "print(f\"Shapes: {X_val.shape}, {y_pred.shape}\")\n",
    "print(classification_report(y_val, y_pred))\n",
    "print(confusion_matrix(y_val, y_pred))\n",
    "\n",
    "y_pred = GB.predict(X_test)\n",
    "print(\"\\nTest\")\n",
    "print(f\"Shapes: {X_test.shape}, {y_pred.shape}\")\n",
    "print(classification_report(y_test, y_pred))\n",
    "print(confusion_matrix(y_test, y_pred))"
   ]
  },
  {
   "cell_type": "markdown",
   "metadata": {},
   "source": [
    "### Over Sampling\n"
   ]
  },
  {
   "cell_type": "code",
   "execution_count": 111,
   "metadata": {},
   "outputs": [],
   "source": [
    "oversampled_train_ones = resample(\n",
    "    ones, replace=True, n_samples=len(zeroes), random_state=57\n",
    ")\n",
    "\n",
    "oversampled_train_data = np.concatenate((zeroes, oversampled_train_ones), axis=0)"
   ]
  },
  {
   "cell_type": "code",
   "execution_count": 112,
   "metadata": {},
   "outputs": [
    {
     "name": "stdout",
     "output_type": "stream",
     "text": [
      "Oversampled_train_data: {0: 9258, 1: 9258}\n"
     ]
    }
   ],
   "source": [
    "print(f\"Oversampled_train_data: {count_values_list(oversampled_train_data[:, -1])}\")"
   ]
  },
  {
   "cell_type": "code",
   "execution_count": 113,
   "metadata": {},
   "outputs": [],
   "source": [
    "X_train_oversampled = oversampled_train_data[:, :-1]\n",
    "y_train_oversampled = oversampled_train_data[:, -1]"
   ]
  },
  {
   "cell_type": "markdown",
   "metadata": {},
   "source": [
    "#### Training and Testing model\n"
   ]
  },
  {
   "cell_type": "code",
   "execution_count": 114,
   "metadata": {},
   "outputs": [
    {
     "name": "stdout",
     "output_type": "stream",
     "text": [
      "Train shapes: (18516, 24), (18516,)\n"
     ]
    },
    {
     "name": "stdout",
     "output_type": "stream",
     "text": [
      "\n",
      "Validation\n",
      "Shapes: (2506, 24), (2506,)\n",
      "              precision    recall  f1-score   support\n",
      "\n",
      "           0       0.97      0.91      0.94      2277\n",
      "           1       0.43      0.69      0.53       229\n",
      "\n",
      "    accuracy                           0.89      2506\n",
      "   macro avg       0.70      0.80      0.73      2506\n",
      "weighted avg       0.92      0.89      0.90      2506\n",
      "\n",
      "[[2063  214]\n",
      " [  70  159]]\n",
      "\n",
      "Test\n",
      "Shapes: (9582, 24), (9582,)\n",
      "              precision    recall  f1-score   support\n",
      "\n",
      "           0       0.97      0.94      0.95      8769\n",
      "           1       0.50      0.64      0.56       813\n",
      "\n",
      "    accuracy                           0.92      9582\n",
      "   macro avg       0.73      0.79      0.76      9582\n",
      "weighted avg       0.93      0.92      0.92      9582\n",
      "\n",
      "[[8247  522]\n",
      " [ 290  523]]\n"
     ]
    }
   ],
   "source": [
    "GB = GradientBoostingClassifier(random_state=57)\n",
    "\n",
    "print(f\"Train shapes: {X_train_oversampled.shape}, {y_train_oversampled.shape}\")\n",
    "GB.fit(X_train_oversampled, y_train_oversampled)\n",
    "\n",
    "y_pred = GB.predict(X_val)\n",
    "print(\"\\nValidation\")\n",
    "print(f\"Shapes: {X_val.shape}, {y_pred.shape}\")\n",
    "print(classification_report(y_val, y_pred))\n",
    "print(confusion_matrix(y_val, y_pred))\n",
    "\n",
    "y_pred = GB.predict(X_test)\n",
    "print(\"\\nTest\")\n",
    "print(f\"Shapes: {X_test.shape}, {y_pred.shape}\")\n",
    "print(classification_report(y_test, y_pred))\n",
    "print(confusion_matrix(y_test, y_pred))"
   ]
  },
  {
   "cell_type": "markdown",
   "metadata": {},
   "source": [
    "## Mixing Both\n",
    "\n",
    "In this mixing both section I want to try to mix both techniques to see if I can get a better result.\n",
    "\n",
    "I will get all the rows from the train dataset and reduce the majority class to the half of the total and increase the minority class to the same number of the majority class.\n",
    "\n",
    "Let's suppose we have n rows in total, after the process we will have n/2 rows of the majority class and n/2 rows of the minority class.\n",
    "\n",
    "Then I will train the model with the new dataset and test it with the test dataset.\n",
    "\n",
    "**Half Sampling**\n"
   ]
  },
  {
   "cell_type": "code",
   "execution_count": 115,
   "metadata": {},
   "outputs": [
    {
     "name": "stdout",
     "output_type": "stream",
     "text": [
      "n_sample_size: 5006\n"
     ]
    }
   ],
   "source": [
    "n_rows = train_data.shape[0]\n",
    "\n",
    "n_sample_size = n_rows // 2\n",
    "print(f\"n_sample_size: {n_sample_size}\")"
   ]
  },
  {
   "cell_type": "code",
   "execution_count": 116,
   "metadata": {},
   "outputs": [],
   "source": [
    "undersampled_train_zeroes = resample(\n",
    "    zeroes, replace=False, n_samples=n_sample_size, random_state=57\n",
    ")\n",
    "oversampled_train_ones = resample(\n",
    "    ones, replace=True, n_samples=n_sample_size, random_state=57\n",
    ")\n",
    "\n",
    "halfsampled_train_data = np.concatenate(\n",
    "    (undersampled_train_zeroes, oversampled_train_ones), axis=0\n",
    ")"
   ]
  },
  {
   "cell_type": "code",
   "execution_count": 117,
   "metadata": {},
   "outputs": [
    {
     "name": "stdout",
     "output_type": "stream",
     "text": [
      "Halfsampled_train_data: {0: 5006, 1: 5006}\n"
     ]
    }
   ],
   "source": [
    "print(f\"Halfsampled_train_data: {count_values_list(halfsampled_train_data[:, -1])}\")"
   ]
  },
  {
   "cell_type": "code",
   "execution_count": 118,
   "metadata": {},
   "outputs": [],
   "source": [
    "X_train_halfsampled = halfsampled_train_data[:, :-1]\n",
    "y_train_halfsampled = halfsampled_train_data[:, -1]"
   ]
  },
  {
   "cell_type": "markdown",
   "metadata": {},
   "source": [
    "#### Training and Testing model\n"
   ]
  },
  {
   "cell_type": "code",
   "execution_count": 119,
   "metadata": {},
   "outputs": [
    {
     "name": "stdout",
     "output_type": "stream",
     "text": [
      "Train shapes: (10012, 24), (10012,)\n"
     ]
    },
    {
     "name": "stdout",
     "output_type": "stream",
     "text": [
      "\n",
      "Validation\n",
      "Shapes: (2506, 24), (2506,)\n",
      "              precision    recall  f1-score   support\n",
      "\n",
      "           0       0.96      0.92      0.94      2277\n",
      "           1       0.44      0.66      0.53       229\n",
      "\n",
      "    accuracy                           0.89      2506\n",
      "   macro avg       0.70      0.79      0.73      2506\n",
      "weighted avg       0.92      0.89      0.90      2506\n",
      "\n",
      "[[2084  193]\n",
      " [  77  152]]\n",
      "\n",
      "Test\n",
      "Shapes: (9582, 24), (9582,)\n",
      "              precision    recall  f1-score   support\n",
      "\n",
      "           0       0.97      0.94      0.95      8769\n",
      "           1       0.49      0.68      0.57       813\n",
      "\n",
      "    accuracy                           0.91      9582\n",
      "   macro avg       0.73      0.81      0.76      9582\n",
      "weighted avg       0.93      0.91      0.92      9582\n",
      "\n",
      "[[8200  569]\n",
      " [ 263  550]]\n"
     ]
    }
   ],
   "source": [
    "GB = GradientBoostingClassifier(random_state=57)\n",
    "\n",
    "print(f\"Train shapes: {X_train_halfsampled.shape}, {y_train_halfsampled.shape}\")\n",
    "GB.fit(X_train_halfsampled, y_train_halfsampled)\n",
    "\n",
    "y_pred = GB.predict(X_val)\n",
    "print(\"\\nValidation\")\n",
    "print(f\"Shapes: {X_val.shape}, {y_pred.shape}\")\n",
    "print(classification_report(y_val, y_pred))\n",
    "print(confusion_matrix(y_val, y_pred))\n",
    "\n",
    "y_pred = GB.predict(X_test)\n",
    "print(\"\\nTest\")\n",
    "print(f\"Shapes: {X_test.shape}, {y_pred.shape}\")\n",
    "print(classification_report(y_test, y_pred))\n",
    "print(confusion_matrix(y_test, y_pred))"
   ]
  },
  {
   "cell_type": "markdown",
   "metadata": {},
   "source": [
    "## Changing the threshold\n"
   ]
  },
  {
   "cell_type": "code",
   "execution_count": 120,
   "metadata": {},
   "outputs": [],
   "source": [
    "# Building a basic model fot the baseline\n",
    "\n",
    "GB = GradientBoostingClassifier(random_state=57)\n",
    "GB = GB.fit(X_train, y_train.ravel())\n",
    "\n",
    "y_pred = GB.predict(X_val)\n",
    "\n",
    "precision_original = round(precision_score(y_val, y_pred), 4)\n",
    "recall_original = round(recall_score(y_val, y_pred), 4)\n",
    "F1_score_original = round(f1_score(y_val, y_pred), 4)\n",
    "metrics_original = [precision_original, recall_original, F1_score_original]"
   ]
  },
  {
   "cell_type": "code",
   "execution_count": 121,
   "metadata": {},
   "outputs": [],
   "source": [
    "cols = ['Metrics', 'Original']\n",
    "adj_threshold = pd.DataFrame()\n",
    "adj_threshold['Original'] = metrics_original\n",
    "thresholds = [j/20 for j in range(1, 16)]\n",
    "\n",
    "for i in thresholds:\n",
    "    y_pred_new_threshold = (GB.predict_proba(X_val)[:,1]>=i).astype(int) #calculating the threshold with respect to class 1\n",
    "\n",
    "    precision_adj_threshold =  round(precision_score(y_val, y_pred_new_threshold, average='binary'), 4)\n",
    "    recall_adj_threshold = round(recall_score(y_val, y_pred_new_threshold, average='binary'), 4)\n",
    "    F1_score_adj_threshold =  round((f1_score(y_val, y_pred_new_threshold, average='binary')), 4)\n",
    "    metrics_adj_threshold = [precision_adj_threshold, recall_adj_threshold, F1_score_adj_threshold]\n",
    "    name = 'Threshold: ' + str(i) \n",
    "    adj_threshold[name] = metrics_adj_threshold\n",
    "    cols.append(name)\n",
    "\n",
    "adj_threshold.index = ['Precision', 'Recall', 'F1_score']\n",
    "adj_threshold = adj_threshold.reset_index()\n",
    "adj_threshold.columns = cols\n",
    "adj_threshold.transpose()\n",
    "\n",
    "df_adj_threshold = adj_threshold.transpose().iloc[1:, :]\n",
    "df_adj_threshold.columns = adj_threshold.iloc[:,0]"
   ]
  },
  {
   "cell_type": "code",
   "execution_count": 122,
   "metadata": {},
   "outputs": [
    {
     "data": {
      "text/html": [
       "<div>\n",
       "<style scoped>\n",
       "    .dataframe tbody tr th:only-of-type {\n",
       "        vertical-align: middle;\n",
       "    }\n",
       "\n",
       "    .dataframe tbody tr th {\n",
       "        vertical-align: top;\n",
       "    }\n",
       "\n",
       "    .dataframe thead th {\n",
       "        text-align: right;\n",
       "    }\n",
       "</style>\n",
       "<table border=\"1\" class=\"dataframe\">\n",
       "  <thead>\n",
       "    <tr style=\"text-align: right;\">\n",
       "      <th>Metrics</th>\n",
       "      <th>Precision</th>\n",
       "      <th>Recall</th>\n",
       "      <th>F1_score</th>\n",
       "    </tr>\n",
       "  </thead>\n",
       "  <tbody>\n",
       "    <tr>\n",
       "      <th>Original</th>\n",
       "      <td>0.736</td>\n",
       "      <td>0.4017</td>\n",
       "      <td>0.5198</td>\n",
       "    </tr>\n",
       "    <tr>\n",
       "      <th>Threshold: 0.05</th>\n",
       "      <td>0.3196</td>\n",
       "      <td>0.8821</td>\n",
       "      <td>0.4692</td>\n",
       "    </tr>\n",
       "    <tr>\n",
       "      <th>Threshold: 0.1</th>\n",
       "      <td>0.4757</td>\n",
       "      <td>0.7686</td>\n",
       "      <td>0.5876</td>\n",
       "    </tr>\n",
       "    <tr>\n",
       "      <th>Threshold: 0.15</th>\n",
       "      <td>0.5754</td>\n",
       "      <td>0.7162</td>\n",
       "      <td>0.6381</td>\n",
       "    </tr>\n",
       "    <tr>\n",
       "      <th>Threshold: 0.2</th>\n",
       "      <td>0.6235</td>\n",
       "      <td>0.6725</td>\n",
       "      <td>0.6471</td>\n",
       "    </tr>\n",
       "    <tr>\n",
       "      <th>Threshold: 0.25</th>\n",
       "      <td>0.6532</td>\n",
       "      <td>0.6332</td>\n",
       "      <td>0.643</td>\n",
       "    </tr>\n",
       "    <tr>\n",
       "      <th>Threshold: 0.3</th>\n",
       "      <td>0.6667</td>\n",
       "      <td>0.5852</td>\n",
       "      <td>0.6233</td>\n",
       "    </tr>\n",
       "    <tr>\n",
       "      <th>Threshold: 0.35</th>\n",
       "      <td>0.6684</td>\n",
       "      <td>0.5633</td>\n",
       "      <td>0.6114</td>\n",
       "    </tr>\n",
       "    <tr>\n",
       "      <th>Threshold: 0.4</th>\n",
       "      <td>0.6879</td>\n",
       "      <td>0.5197</td>\n",
       "      <td>0.592</td>\n",
       "    </tr>\n",
       "    <tr>\n",
       "      <th>Threshold: 0.45</th>\n",
       "      <td>0.68</td>\n",
       "      <td>0.4454</td>\n",
       "      <td>0.5383</td>\n",
       "    </tr>\n",
       "    <tr>\n",
       "      <th>Threshold: 0.5</th>\n",
       "      <td>0.736</td>\n",
       "      <td>0.4017</td>\n",
       "      <td>0.5198</td>\n",
       "    </tr>\n",
       "    <tr>\n",
       "      <th>Threshold: 0.55</th>\n",
       "      <td>0.7182</td>\n",
       "      <td>0.345</td>\n",
       "      <td>0.4661</td>\n",
       "    </tr>\n",
       "    <tr>\n",
       "      <th>Threshold: 0.6</th>\n",
       "      <td>0.7381</td>\n",
       "      <td>0.2707</td>\n",
       "      <td>0.3962</td>\n",
       "    </tr>\n",
       "    <tr>\n",
       "      <th>Threshold: 0.65</th>\n",
       "      <td>0.8154</td>\n",
       "      <td>0.2314</td>\n",
       "      <td>0.3605</td>\n",
       "    </tr>\n",
       "    <tr>\n",
       "      <th>Threshold: 0.7</th>\n",
       "      <td>0.84</td>\n",
       "      <td>0.1834</td>\n",
       "      <td>0.3011</td>\n",
       "    </tr>\n",
       "    <tr>\n",
       "      <th>Threshold: 0.75</th>\n",
       "      <td>0.8718</td>\n",
       "      <td>0.1485</td>\n",
       "      <td>0.2537</td>\n",
       "    </tr>\n",
       "  </tbody>\n",
       "</table>\n",
       "</div>"
      ],
      "text/plain": [
       "Metrics         Precision  Recall F1_score\n",
       "Original            0.736  0.4017   0.5198\n",
       "Threshold: 0.05    0.3196  0.8821   0.4692\n",
       "Threshold: 0.1     0.4757  0.7686   0.5876\n",
       "Threshold: 0.15    0.5754  0.7162   0.6381\n",
       "Threshold: 0.2     0.6235  0.6725   0.6471\n",
       "Threshold: 0.25    0.6532  0.6332    0.643\n",
       "Threshold: 0.3     0.6667  0.5852   0.6233\n",
       "Threshold: 0.35    0.6684  0.5633   0.6114\n",
       "Threshold: 0.4     0.6879  0.5197    0.592\n",
       "Threshold: 0.45      0.68  0.4454   0.5383\n",
       "Threshold: 0.5      0.736  0.4017   0.5198\n",
       "Threshold: 0.55    0.7182   0.345   0.4661\n",
       "Threshold: 0.6     0.7381  0.2707   0.3962\n",
       "Threshold: 0.65    0.8154  0.2314   0.3605\n",
       "Threshold: 0.7       0.84  0.1834   0.3011\n",
       "Threshold: 0.75    0.8718  0.1485   0.2537"
      ]
     },
     "execution_count": 122,
     "metadata": {},
     "output_type": "execute_result"
    }
   ],
   "source": [
    "df_adj_threshold"
   ]
  },
  {
   "cell_type": "code",
   "execution_count": 123,
   "metadata": {},
   "outputs": [
    {
     "data": {
      "image/png": "[encoded data removed]",
      "text/plain": [
       "<Figure size 1500x500 with 1 Axes>"
      ]
     },
     "metadata": {},
     "output_type": "display_data"
    }
   ],
   "source": [
    "sns.set()\n",
    "adj_threshold.plot(x='Metrics',\n",
    "        kind='bar',\n",
    "        stacked=False,\n",
    "        title='Metrics across Varying Thresholds',\n",
    "        figsize=(15, 5),\n",
    "        cmap = 'twilight').legend(loc='center left',bbox_to_anchor=(1.0, 0.5))\n",
    "plt.show()"
   ]
  },
  {
   "cell_type": "markdown",
   "metadata": {},
   "source": [
    "#### Training and Testing the model with the optimal threshold\n"
   ]
  },
  {
   "cell_type": "code",
   "execution_count": 124,
   "metadata": {},
   "outputs": [
    {
     "data": {
      "image/png": "[encoded data removed]",
      "text/plain": [
       "<Figure size 700x700 with 1 Axes>"
      ]
     },
     "metadata": {},
     "output_type": "display_data"
    }
   ],
   "source": [
    "y_pred_new_threshold = (GB.predict_proba(X_test)[:, 1] >= 0.2).astype(int)\n",
    "\n",
    "conf_matrix = confusion_matrix(y_true=y_test, y_pred=y_pred_new_threshold)\n",
    "\n",
    "fig, ax = plt.subplots(figsize=(7, 7))\n",
    "ax.matshow(conf_matrix, cmap=plt.cm.Accent, alpha=0.4)\n",
    "for i in range(conf_matrix.shape[0]):\n",
    "    for j in range(conf_matrix.shape[1]):\n",
    "        ax.text(x=j, y=i, s=conf_matrix[i, j], va=\"center\", ha=\"center\", size=\"x-large\")\n",
    "\n",
    "plt.xlabel(\"Predictions\", fontsize=10)\n",
    "plt.ylabel(\"Actuals\", fontsize=10)\n",
    "plt.title(\"Confusion Matrix\", fontsize=15)\n",
    "plt.show()"
   ]
  },
  {
   "cell_type": "code",
   "execution_count": 125,
   "metadata": {},
   "outputs": [
    {
     "data": {
      "text/html": [
       "<div>\n",
       "<style scoped>\n",
       "    .dataframe tbody tr th:only-of-type {\n",
       "        vertical-align: middle;\n",
       "    }\n",
       "\n",
       "    .dataframe tbody tr th {\n",
       "        vertical-align: top;\n",
       "    }\n",
       "\n",
       "    .dataframe thead th {\n",
       "        text-align: right;\n",
       "    }\n",
       "</style>\n",
       "<table border=\"1\" class=\"dataframe\">\n",
       "  <thead>\n",
       "    <tr style=\"text-align: right;\">\n",
       "      <th></th>\n",
       "      <th>Original Dataset</th>\n",
       "      <th>Threshold Changed Dataset</th>\n",
       "    </tr>\n",
       "  </thead>\n",
       "  <tbody>\n",
       "    <tr>\n",
       "      <th>Precision</th>\n",
       "      <td>0.7360</td>\n",
       "      <td>0.6275</td>\n",
       "    </tr>\n",
       "    <tr>\n",
       "      <th>Recall</th>\n",
       "      <td>0.4017</td>\n",
       "      <td>0.5904</td>\n",
       "    </tr>\n",
       "    <tr>\n",
       "      <th>F1_score</th>\n",
       "      <td>0.5198</td>\n",
       "      <td>0.6084</td>\n",
       "    </tr>\n",
       "  </tbody>\n",
       "</table>\n",
       "</div>"
      ],
      "text/plain": [
       "           Original Dataset  Threshold Changed Dataset\n",
       "Precision            0.7360                     0.6275\n",
       "Recall               0.4017                     0.5904\n",
       "F1_score             0.5198                     0.6084"
      ]
     },
     "execution_count": 125,
     "metadata": {},
     "output_type": "execute_result"
    }
   ],
   "source": [
    "precision_changedthreshold =  round(precision_score(y_test, y_pred_new_threshold), 4)\n",
    "recall_changedthreshold = round(recall_score(y_test, y_pred_new_threshold), 4)\n",
    "F1_changedthreshold =  round(f1_score(y_test, y_pred_new_threshold), 4)\n",
    "metrics_changedthreshold = [precision_changedthreshold, recall_changedthreshold, F1_changedthreshold]\n",
    "\n",
    "changedthreshold = pd.DataFrame(list(zip(metrics_original, metrics_changedthreshold)))\n",
    "changedthreshold.index = ['Precision', 'Recall', 'F1_score']\n",
    "changedthreshold.columns = ['Original Dataset', 'Threshold Changed Dataset']\n",
    "changedthreshold"
   ]
  }
 ],
 "metadata": {
  "kernelspec": {
   "display_name": ".venv",
   "language": "python",
   "name": "python3"
  },
  "language_info": {
   "codemirror_mode": {
    "name": "ipython",
    "version": 3
   },
   "file_extension": ".py",
   "mimetype": "text/x-python",
   "name": "python",
   "nbconvert_exporter": "python",
   "pygments_lexer": "ipython3",
   "version": "3.10.12"
  }
 },
 "nbformat": 4,
 "nbformat_minor": 2
}
