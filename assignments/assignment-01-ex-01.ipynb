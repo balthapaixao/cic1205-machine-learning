{
 "cells": [
  {
   "cell_type": "markdown",
   "metadata": {},
   "source": [
    "# Assignment 1 - CIC-1205\n",
    "\n",
    "## Exercise 1 - Loans payment prediction\n",
    "\n",
    "Student: Balthazar Paixão\n",
    "\n",
    "Link to the video: ...\n"
   ]
  },
  {
   "cell_type": "markdown",
   "metadata": {},
   "source": [
    "## Code\n"
   ]
  },
  {
   "cell_type": "code",
   "execution_count": 1,
   "metadata": {},
   "outputs": [],
   "source": [
    "import numpy as np\n",
    "import pandas as pd"
   ]
  },
  {
   "cell_type": "code",
   "execution_count": 2,
   "metadata": {},
   "outputs": [],
   "source": [
    "# Defining the column names\n",
    "colnames = [\n",
    "    \"ESCT\",\n",
    "    \"NDEP\",\n",
    "    \"RENDA\",\n",
    "    \"TIPOR\",\n",
    "    \"VBEM\",\n",
    "    \"NPARC\",\n",
    "    \"VPARC\",\n",
    "    \"TEL\",\n",
    "    \"IDADE\",\n",
    "    \"RESMS\",\n",
    "    \"ENTRADA\",\n",
    "    \"CLASSE\",\n",
    "]\n",
    "\n",
    "df_credtrain = pd.read_csv(\n",
    "    \"../class-repo/cic1205/data/credtrain.txt\", sep=\"\\t\", header=None, names=colnames\n",
    ")\n",
    "df_credtest = pd.read_csv(\n",
    "    \"../class-repo/cic1205/data/credtest.txt\", sep=\"\\t\", header=None, names=colnames\n",
    ")"
   ]
  },
  {
   "cell_type": "code",
   "execution_count": 3,
   "metadata": {},
   "outputs": [
    {
     "name": "stdout",
     "output_type": "stream",
     "text": [
      "(1500, 12) (577, 12)\n"
     ]
    }
   ],
   "source": [
    "# Analyzing the dimensions of the dataframes\n",
    "print(df_credtrain.shape, df_credtest.shape)"
   ]
  },
  {
   "cell_type": "code",
   "execution_count": 4,
   "metadata": {},
   "outputs": [
    {
     "data": {
      "text/html": [
       "<div>\n",
       "<style scoped>\n",
       "    .dataframe tbody tr th:only-of-type {\n",
       "        vertical-align: middle;\n",
       "    }\n",
       "\n",
       "    .dataframe tbody tr th {\n",
       "        vertical-align: top;\n",
       "    }\n",
       "\n",
       "    .dataframe thead th {\n",
       "        text-align: right;\n",
       "    }\n",
       "</style>\n",
       "<table border=\"1\" class=\"dataframe\">\n",
       "  <thead>\n",
       "    <tr style=\"text-align: right;\">\n",
       "      <th></th>\n",
       "      <th>ESCT</th>\n",
       "      <th>NDEP</th>\n",
       "      <th>RENDA</th>\n",
       "      <th>TIPOR</th>\n",
       "      <th>VBEM</th>\n",
       "      <th>NPARC</th>\n",
       "      <th>VPARC</th>\n",
       "      <th>TEL</th>\n",
       "      <th>IDADE</th>\n",
       "      <th>RESMS</th>\n",
       "      <th>ENTRADA</th>\n",
       "      <th>CLASSE</th>\n",
       "    </tr>\n",
       "  </thead>\n",
       "  <tbody>\n",
       "    <tr>\n",
       "      <th>219</th>\n",
       "      <td>1</td>\n",
       "      <td>0</td>\n",
       "      <td>1200</td>\n",
       "      <td>0</td>\n",
       "      <td>598</td>\n",
       "      <td>9</td>\n",
       "      <td>99</td>\n",
       "      <td>0</td>\n",
       "      <td>45</td>\n",
       "      <td>0</td>\n",
       "      <td>0</td>\n",
       "      <td>1</td>\n",
       "    </tr>\n",
       "    <tr>\n",
       "      <th>325</th>\n",
       "      <td>1</td>\n",
       "      <td>0</td>\n",
       "      <td>1500</td>\n",
       "      <td>1</td>\n",
       "      <td>457</td>\n",
       "      <td>2</td>\n",
       "      <td>248</td>\n",
       "      <td>0</td>\n",
       "      <td>36</td>\n",
       "      <td>48</td>\n",
       "      <td>0</td>\n",
       "      <td>0</td>\n",
       "    </tr>\n",
       "    <tr>\n",
       "      <th>1363</th>\n",
       "      <td>0</td>\n",
       "      <td>0</td>\n",
       "      <td>360</td>\n",
       "      <td>0</td>\n",
       "      <td>460</td>\n",
       "      <td>10</td>\n",
       "      <td>70</td>\n",
       "      <td>0</td>\n",
       "      <td>29</td>\n",
       "      <td>0</td>\n",
       "      <td>0</td>\n",
       "      <td>1</td>\n",
       "    </tr>\n",
       "  </tbody>\n",
       "</table>\n",
       "</div>"
      ],
      "text/plain": [
       "      ESCT  NDEP  RENDA  TIPOR  VBEM  NPARC  VPARC  TEL  IDADE  RESMS  \\\n",
       "219      1     0   1200      0   598      9     99    0     45      0   \n",
       "325      1     0   1500      1   457      2    248    0     36     48   \n",
       "1363     0     0    360      0   460     10     70    0     29      0   \n",
       "\n",
       "      ENTRADA  CLASSE  \n",
       "219         0       1  \n",
       "325         0       0  \n",
       "1363        0       1  "
      ]
     },
     "execution_count": 4,
     "metadata": {},
     "output_type": "execute_result"
    }
   ],
   "source": [
    "df_credtrain.sample(3)"
   ]
  },
  {
   "cell_type": "markdown",
   "metadata": {},
   "source": [
    "### Categorical Features Transformation\n",
    "\n",
    "The variable ESCT (Civil Status) is categorical, and can assume 4 different values (each value corresponds to a civil status). Note that there is no defined order on these values. For comparison, consider the variable NDEP (which corresponds to the number of dependents of the client).\n",
    "\n",
    "The presence of categorical variables in a training set can make it difficult to generate the classification model. This is because most learning algorithms (including neural networks) assume the existence of a total order on the values of a variable. To mitigate this problem, an alternative is to transform the ESCT variable into several dummy variables (binary variable). A dummy variable is a binary variable used to represent categories. Thus, the ESCT variable will be transformed into 4 \"dummy variants\", where the value 1 will correspond to the occurrence of a certain category and the value 0 will correspond to the non-occurrence.\n"
   ]
  },
  {
   "cell_type": "code",
   "execution_count": 6,
   "metadata": {},
   "outputs": [
    {
     "data": {
      "text/html": [
       "<div>\n",
       "<style scoped>\n",
       "    .dataframe tbody tr th:only-of-type {\n",
       "        vertical-align: middle;\n",
       "    }\n",
       "\n",
       "    .dataframe tbody tr th {\n",
       "        vertical-align: top;\n",
       "    }\n",
       "\n",
       "    .dataframe thead th {\n",
       "        text-align: right;\n",
       "    }\n",
       "</style>\n",
       "<table border=\"1\" class=\"dataframe\">\n",
       "  <thead>\n",
       "    <tr style=\"text-align: right;\">\n",
       "      <th></th>\n",
       "      <th>NDEP</th>\n",
       "      <th>RENDA</th>\n",
       "      <th>TIPOR</th>\n",
       "      <th>VBEM</th>\n",
       "      <th>NPARC</th>\n",
       "      <th>VPARC</th>\n",
       "      <th>TEL</th>\n",
       "      <th>IDADE</th>\n",
       "      <th>RESMS</th>\n",
       "      <th>ENTRADA</th>\n",
       "      <th>CLASSE</th>\n",
       "      <th>ESCT_1</th>\n",
       "      <th>ESCT_2</th>\n",
       "      <th>ESCT_3</th>\n",
       "    </tr>\n",
       "  </thead>\n",
       "  <tbody>\n",
       "    <tr>\n",
       "      <th>901</th>\n",
       "      <td>0</td>\n",
       "      <td>400</td>\n",
       "      <td>0</td>\n",
       "      <td>333</td>\n",
       "      <td>4</td>\n",
       "      <td>98</td>\n",
       "      <td>0</td>\n",
       "      <td>54</td>\n",
       "      <td>96</td>\n",
       "      <td>0</td>\n",
       "      <td>1</td>\n",
       "      <td>False</td>\n",
       "      <td>False</td>\n",
       "      <td>False</td>\n",
       "    </tr>\n",
       "    <tr>\n",
       "      <th>983</th>\n",
       "      <td>0</td>\n",
       "      <td>609</td>\n",
       "      <td>0</td>\n",
       "      <td>830</td>\n",
       "      <td>10</td>\n",
       "      <td>126</td>\n",
       "      <td>0</td>\n",
       "      <td>30</td>\n",
       "      <td>0</td>\n",
       "      <td>0</td>\n",
       "      <td>1</td>\n",
       "      <td>False</td>\n",
       "      <td>False</td>\n",
       "      <td>False</td>\n",
       "    </tr>\n",
       "    <tr>\n",
       "      <th>1222</th>\n",
       "      <td>0</td>\n",
       "      <td>1548</td>\n",
       "      <td>1</td>\n",
       "      <td>339</td>\n",
       "      <td>6</td>\n",
       "      <td>73</td>\n",
       "      <td>0</td>\n",
       "      <td>63</td>\n",
       "      <td>6</td>\n",
       "      <td>0</td>\n",
       "      <td>0</td>\n",
       "      <td>False</td>\n",
       "      <td>False</td>\n",
       "      <td>False</td>\n",
       "    </tr>\n",
       "  </tbody>\n",
       "</table>\n",
       "</div>"
      ],
      "text/plain": [
       "      NDEP  RENDA  TIPOR  VBEM  NPARC  VPARC  TEL  IDADE  RESMS  ENTRADA  \\\n",
       "901      0    400      0   333      4     98    0     54     96        0   \n",
       "983      0    609      0   830     10    126    0     30      0        0   \n",
       "1222     0   1548      1   339      6     73    0     63      6        0   \n",
       "\n",
       "      CLASSE  ESCT_1  ESCT_2  ESCT_3  \n",
       "901        1   False   False   False  \n",
       "983        1   False   False   False  \n",
       "1222       0   False   False   False  "
      ]
     },
     "execution_count": 6,
     "metadata": {},
     "output_type": "execute_result"
    }
   ],
   "source": [
    "df_credtrain = pd.get_dummies(\n",
    "    data=df_credtrain, prefix=\"ESCT\", columns=[\"ESCT\"], drop_first=True\n",
    ")\n",
    "df_credtest = pd.get_dummies(\n",
    "    data=df_credtest, prefix=\"ESCT\", columns=[\"ESCT\"], drop_first=True\n",
    ")\n",
    "\n",
    "df_credtrain.sample(3)"
   ]
  },
  {
   "cell_type": "code",
   "execution_count": 7,
   "metadata": {},
   "outputs": [],
   "source": [
    "# separating the categorical and numerical features in order to apply the scaling and encoder\n",
    "categorical_features = [\"ESCT_1\", \"ESCT_2\", \"ESCT_3\", \"NDEP\", \"TEL\", \"TIPOR\"]\n",
    "numerical_features = [\"RENDA\", \"VBEM\", \"NPARC\",\n",
    "                      \"VPARC\", \"IDADE\", \"RESMS\", \"ENTRADA\"]\n",
    "\n",
    "\n",
    "X_train_categories = df_credtrain[categorical_features]\n",
    "X_train_categories = np.array(X_train_categories).astype(float)\n",
    "X_train_numerical = df_credtrain[numerical_features]\n",
    "X_train_numerical = np.array(X_train_numerical).astype(float)\n",
    "y_train = df_credtrain[\"CLASSE\"]\n",
    "\n",
    "X_test_categories = df_credtest[categorical_features]\n",
    "X_test_categories = np.array(X_test_categories).astype(float)\n",
    "X_test_numerical = df_credtest[numerical_features]\n",
    "X_test_numerical = np.array(X_test_numerical).astype(float)\n",
    "y_test = df_credtest[\"CLASSE\"]"
   ]
  },
  {
   "cell_type": "markdown",
   "metadata": {},
   "source": [
    "### Numerical Feature Scaling\n",
    "\n",
    "Before training the model, it is also necessary to perform the _normalization_ of the characteristics in order to avoid eventual problems due to the discrepancy in the orders of magnitude of the features.\n"
   ]
  },
  {
   "cell_type": "code",
   "execution_count": 8,
   "metadata": {},
   "outputs": [],
   "source": [
    "from sklearn.preprocessing import StandardScaler"
   ]
  },
  {
   "cell_type": "code",
   "execution_count": 9,
   "metadata": {},
   "outputs": [
    {
     "name": "stdout",
     "output_type": "stream",
     "text": [
      "(1500, 13) (577, 13) (1500,) (577,)\n"
     ]
    }
   ],
   "source": [
    "scaler = StandardScaler()\n",
    "\n",
    "X_train_numerical = scaler.fit_transform(X_train_numerical)\n",
    "X_test_numerical = scaler.transform(X_test_numerical)\n",
    "\n",
    "X_train = np.concatenate((X_train_categories, X_train_numerical), axis=1)\n",
    "X_test = np.concatenate((X_test_categories, X_test_numerical), axis=1)\n",
    "\n",
    "print(X_train.shape, X_test.shape, y_train.shape, y_test.shape)"
   ]
  },
  {
   "cell_type": "code",
   "execution_count": 13,
   "metadata": {},
   "outputs": [],
   "source": [
    "import matplotlib.pyplot as plt\n",
    "import seaborn as sns\n",
    "\n",
    "from sklearn.linear_model import LogisticRegression\n",
    "from sklearn.tree import DecisionTreeClassifier\n",
    "from sklearn.ensemble import RandomForestClassifier\n",
    "from sklearn.neighbors import KNeighborsClassifier\n",
    "from sklearn.ensemble import GradientBoostingClassifier\n",
    "from sklearn.metrics import confusion_matrix, classification_report"
   ]
  },
  {
   "cell_type": "code",
   "execution_count": 11,
   "metadata": {},
   "outputs": [
    {
     "data": {
      "text/html": [
       "<style>#sk-container-id-1 {color: black;}#sk-container-id-1 pre{padding: 0;}#sk-container-id-1 div.sk-toggleable {background-color: white;}#sk-container-id-1 label.sk-toggleable__label {cursor: pointer;display: block;width: 100%;margin-bottom: 0;padding: 0.3em;box-sizing: border-box;text-align: center;}#sk-container-id-1 label.sk-toggleable__label-arrow:before {content: \"▸\";float: left;margin-right: 0.25em;color: #696969;}#sk-container-id-1 label.sk-toggleable__label-arrow:hover:before {color: black;}#sk-container-id-1 div.sk-estimator:hover label.sk-toggleable__label-arrow:before {color: black;}#sk-container-id-1 div.sk-toggleable__content {max-height: 0;max-width: 0;overflow: hidden;text-align: left;background-color: #f0f8ff;}#sk-container-id-1 div.sk-toggleable__content pre {margin: 0.2em;color: black;border-radius: 0.25em;background-color: #f0f8ff;}#sk-container-id-1 input.sk-toggleable__control:checked~div.sk-toggleable__content {max-height: 200px;max-width: 100%;overflow: auto;}#sk-container-id-1 input.sk-toggleable__control:checked~label.sk-toggleable__label-arrow:before {content: \"▾\";}#sk-container-id-1 div.sk-estimator input.sk-toggleable__control:checked~label.sk-toggleable__label {background-color: #d4ebff;}#sk-container-id-1 div.sk-label input.sk-toggleable__control:checked~label.sk-toggleable__label {background-color: #d4ebff;}#sk-container-id-1 input.sk-hidden--visually {border: 0;clip: rect(1px 1px 1px 1px);clip: rect(1px, 1px, 1px, 1px);height: 1px;margin: -1px;overflow: hidden;padding: 0;position: absolute;width: 1px;}#sk-container-id-1 div.sk-estimator {font-family: monospace;background-color: #f0f8ff;border: 1px dotted black;border-radius: 0.25em;box-sizing: border-box;margin-bottom: 0.5em;}#sk-container-id-1 div.sk-estimator:hover {background-color: #d4ebff;}#sk-container-id-1 div.sk-parallel-item::after {content: \"\";width: 100%;border-bottom: 1px solid gray;flex-grow: 1;}#sk-container-id-1 div.sk-label:hover label.sk-toggleable__label {background-color: #d4ebff;}#sk-container-id-1 div.sk-serial::before {content: \"\";position: absolute;border-left: 1px solid gray;box-sizing: border-box;top: 0;bottom: 0;left: 50%;z-index: 0;}#sk-container-id-1 div.sk-serial {display: flex;flex-direction: column;align-items: center;background-color: white;padding-right: 0.2em;padding-left: 0.2em;position: relative;}#sk-container-id-1 div.sk-item {position: relative;z-index: 1;}#sk-container-id-1 div.sk-parallel {display: flex;align-items: stretch;justify-content: center;background-color: white;position: relative;}#sk-container-id-1 div.sk-item::before, #sk-container-id-1 div.sk-parallel-item::before {content: \"\";position: absolute;border-left: 1px solid gray;box-sizing: border-box;top: 0;bottom: 0;left: 50%;z-index: -1;}#sk-container-id-1 div.sk-parallel-item {display: flex;flex-direction: column;z-index: 1;position: relative;background-color: white;}#sk-container-id-1 div.sk-parallel-item:first-child::after {align-self: flex-end;width: 50%;}#sk-container-id-1 div.sk-parallel-item:last-child::after {align-self: flex-start;width: 50%;}#sk-container-id-1 div.sk-parallel-item:only-child::after {width: 0;}#sk-container-id-1 div.sk-dashed-wrapped {border: 1px dashed gray;margin: 0 0.4em 0.5em 0.4em;box-sizing: border-box;padding-bottom: 0.4em;background-color: white;}#sk-container-id-1 div.sk-label label {font-family: monospace;font-weight: bold;display: inline-block;line-height: 1.2em;}#sk-container-id-1 div.sk-label-container {text-align: center;}#sk-container-id-1 div.sk-container {/* jupyter's `normalize.less` sets `[hidden] { display: none; }` but bootstrap.min.css set `[hidden] { display: none !important; }` so we also need the `!important` here to be able to override the default hidden behavior on the sphinx rendered scikit-learn.org. See: https://github.com/scikit-learn/scikit-learn/issues/21755 */display: inline-block !important;position: relative;}#sk-container-id-1 div.sk-text-repr-fallback {display: none;}</style><div id=\"sk-container-id-1\" class=\"sk-top-container\"><div class=\"sk-text-repr-fallback\"><pre>GradientBoostingClassifier()</pre><b>In a Jupyter environment, please rerun this cell to show the HTML representation or trust the notebook. <br />On GitHub, the HTML representation is unable to render, please try loading this page with nbviewer.org.</b></div><div class=\"sk-container\" hidden><div class=\"sk-item\"><div class=\"sk-estimator sk-toggleable\"><input class=\"sk-toggleable__control sk-hidden--visually\" id=\"sk-estimator-id-1\" type=\"checkbox\" checked><label for=\"sk-estimator-id-1\" class=\"sk-toggleable__label sk-toggleable__label-arrow\">GradientBoostingClassifier</label><div class=\"sk-toggleable__content\"><pre>GradientBoostingClassifier()</pre></div></div></div></div></div>"
      ],
      "text/plain": [
       "GradientBoostingClassifier()"
      ]
     },
     "execution_count": 11,
     "metadata": {},
     "output_type": "execute_result"
    }
   ],
   "source": [
    "LR = LogisticRegression()\n",
    "LR.fit(X_train, y_train)\n",
    "\n",
    "DT = DecisionTreeClassifier()\n",
    "DT.fit(X_train, y_train)\n",
    "\n",
    "RF = RandomForestClassifier()\n",
    "RF.fit(X_train, y_train)\n",
    "\n",
    "KNN = KNeighborsClassifier()\n",
    "KNN.fit(X_train, y_train)\n",
    "\n",
    "GB = GradientBoostingClassifier()\n",
    "GB.fit(X_train, y_train)"
   ]
  },
  {
   "cell_type": "markdown",
   "metadata": {},
   "source": [
    "## Model validation\n",
    "\n",
    "The metrics for validation that we use here are as follows:\n",
    "\n",
    "- The recall means \"how many of this class you find over the whole number of element of this class\"\n",
    "\n",
    "- The precision will be \"how many are correctly classified among that class\"\n",
    "\n",
    "- The f1-score is the harmonic mean between precision & recall\n",
    "\n",
    "- The support is the number of occurence of the given class in your dataset (so you have 37.5K of class 0 and 37.5K of class 1, which is a really well balanced dataset.)\n",
    "\n",
    "##### [In an example](https://datascience.stackexchange.com/questions/64441/how-to-interpret-classification-report-of-scikit-learn)\n",
    "\n",
    "```text\n",
    "We can picture how Precision and Recall as netting a drove of fishes.\n",
    "\n",
    "Imaging, we boating over the sea and lay down our net.\n",
    "\n",
    "If the drove of fishes is huge, while the net is pretty small -> We will see fishes in very positions in the net, means Precision is high. But we only get a minority of the drove, means Recall is low.\n",
    "\n",
    "Meanwhile, there is just a tiny drove of fishes, but we got a huge net -> We will see that just a tiny part of the net have fishes, means Precision is low. But fortunately, we catch every fish in the drove, means Recall is high.\n",
    "```\n",
    "\n",
    "#### Confusion Matrix\n",
    "\n",
    "The confusion matrix helps us to see the proportion between errors and hits. The labels \"0\" and \"1\" in the lower \"margin\" of the matrix are the predicted values in each case. Similarly, the labels on the left margin indicate the correct answer.\n",
    "\n",
    "The main diagonal, which is colored in shades of purple, indicates the percentage of correct predictions for each class.\n",
    "\n",
    "The lighter diagonal indicates the percentage of errors for each class.\n",
    "\n",
    "We can see that the hit percentages for each class are higher in relation to the error percentages. This is an indication that the model parameters were correctly adjusted during learning.\n"
   ]
  },
  {
   "cell_type": "code",
   "execution_count": 16,
   "metadata": {},
   "outputs": [
    {
     "name": "stdout",
     "output_type": "stream",
     "text": [
      "CLASSIFICATION REPORT - LOGISTIC REGRESSION\n",
      "              precision    recall  f1-score   support\n",
      "\n",
      "           0       0.86      0.95      0.90       306\n",
      "           1       0.93      0.82      0.87       271\n",
      "\n",
      "    accuracy                           0.89       577\n",
      "   macro avg       0.90      0.89      0.89       577\n",
      "weighted avg       0.89      0.89      0.89       577\n",
      "\n"
     ]
    },
    {
     "data": {
      "image/png": "[encoded data removed]",
      "text/plain": [
       "<Figure size 640x480 with 2 Axes>"
      ]
     },
     "metadata": {},
     "output_type": "display_data"
    }
   ],
   "source": [
    "target_names = [\"0\", \"1\"]\n",
    "\n",
    "y_pred_LR = LR.predict(X_test)\n",
    "print(\"CLASSIFICATION REPORT - LOGISTIC REGRESSION\")\n",
    "print(classification_report(y_test, y_pred_LR, target_names=target_names))\n",
    "\n",
    "cm = confusion_matrix(y_test, y_pred_LR)\n",
    "sns.heatmap(cm / np.sum(cm), annot=True, fmt=\".2%\", cmap=\"Purples\")\n",
    "plt.show()"
   ]
  },
  {
   "cell_type": "code",
   "execution_count": 17,
   "metadata": {},
   "outputs": [
    {
     "name": "stdout",
     "output_type": "stream",
     "text": [
      "CLASSIFICATION REPORT - DECISION TREE\n",
      "              precision    recall  f1-score   support\n",
      "\n",
      "           0       0.88      0.86      0.87       306\n",
      "           1       0.85      0.87      0.86       271\n",
      "\n",
      "    accuracy                           0.86       577\n",
      "   macro avg       0.86      0.87      0.86       577\n",
      "weighted avg       0.87      0.86      0.86       577\n",
      "\n"
     ]
    },
    {
     "data": {
      "image/png": "[encoded data removed]",
      "text/plain": [
       "<Figure size 640x480 with 2 Axes>"
      ]
     },
     "metadata": {},
     "output_type": "display_data"
    }
   ],
   "source": [
    "y_pred_DT = DT.predict(X_test)\n",
    "print(\"CLASSIFICATION REPORT - DECISION TREE\")\n",
    "print(classification_report(y_test, y_pred_DT, target_names=target_names))\n",
    "\n",
    "cm = confusion_matrix(y_test, y_pred_DT)\n",
    "sns.heatmap(cm / np.sum(cm), annot=True, fmt=\".2%\", cmap=\"Purples\")\n",
    "plt.show()"
   ]
  },
  {
   "cell_type": "code",
   "execution_count": 18,
   "metadata": {},
   "outputs": [
    {
     "name": "stdout",
     "output_type": "stream",
     "text": [
      "CLASSIFICATION REPORT - RANDOM FOREST\n",
      "              precision    recall  f1-score   support\n",
      "\n",
      "           0       0.86      0.95      0.90       306\n",
      "           1       0.94      0.82      0.88       271\n",
      "\n",
      "    accuracy                           0.89       577\n",
      "   macro avg       0.90      0.89      0.89       577\n",
      "weighted avg       0.90      0.89      0.89       577\n",
      "\n"
     ]
    },
    {
     "data": {
      "image/png": "[encoded data removed]",
      "text/plain": [
       "<Figure size 640x480 with 2 Axes>"
      ]
     },
     "metadata": {},
     "output_type": "display_data"
    }
   ],
   "source": [
    "y_pred_RF = RF.predict(X_test)\n",
    "print(\"CLASSIFICATION REPORT - RANDOM FOREST\")\n",
    "print(classification_report(y_test, y_pred_RF, target_names=target_names))\n",
    "\n",
    "cm = confusion_matrix(y_test, y_pred_RF)\n",
    "sns.heatmap(cm / np.sum(cm), annot=True, fmt=\".2%\", cmap=\"Purples\")\n",
    "plt.show()"
   ]
  },
  {
   "cell_type": "code",
   "execution_count": 19,
   "metadata": {},
   "outputs": [
    {
     "name": "stdout",
     "output_type": "stream",
     "text": [
      "CLASSIFICATION REPORT - KNN\n",
      "              precision    recall  f1-score   support\n",
      "\n",
      "           0       0.83      0.90      0.86       306\n",
      "           1       0.87      0.80      0.83       271\n",
      "\n",
      "    accuracy                           0.85       577\n",
      "   macro avg       0.85      0.85      0.85       577\n",
      "weighted avg       0.85      0.85      0.85       577\n",
      "\n"
     ]
    },
    {
     "data": {
      "image/png": "[encoded data removed]",
      "text/plain": [
       "<Figure size 640x480 with 2 Axes>"
      ]
     },
     "metadata": {},
     "output_type": "display_data"
    }
   ],
   "source": [
    "y_pred_KNN = KNN.predict(X_test)\n",
    "print(\"CLASSIFICATION REPORT - KNN\")\n",
    "print(classification_report(y_test, y_pred_KNN, target_names=target_names))\n",
    "\n",
    "cm = confusion_matrix(y_test, y_pred_KNN)\n",
    "sns.heatmap(cm / np.sum(cm), annot=True, fmt=\".2%\", cmap=\"Purples\")\n",
    "plt.show()"
   ]
  },
  {
   "cell_type": "code",
   "execution_count": 20,
   "metadata": {},
   "outputs": [
    {
     "name": "stdout",
     "output_type": "stream",
     "text": [
      "CLASSIFICATION REPORT - GRADIENT BOOSTING\n",
      "              precision    recall  f1-score   support\n",
      "\n",
      "           0       0.86      0.97      0.91       306\n",
      "           1       0.96      0.83      0.89       271\n",
      "\n",
      "    accuracy                           0.90       577\n",
      "   macro avg       0.91      0.90      0.90       577\n",
      "weighted avg       0.91      0.90      0.90       577\n",
      "\n"
     ]
    },
    {
     "data": {
      "image/png": "[encoded data removed]",
      "text/plain": [
       "<Figure size 640x480 with 2 Axes>"
      ]
     },
     "metadata": {},
     "output_type": "display_data"
    }
   ],
   "source": [
    "y_pred_GB = GB.predict(X_test)\n",
    "print(\"CLASSIFICATION REPORT - GRADIENT BOOSTING\")\n",
    "print(classification_report(y_test, y_pred_GB, target_names=target_names))\n",
    "\n",
    "cm = confusion_matrix(y_test, y_pred_GB)\n",
    "sns.heatmap(cm / np.sum(cm), annot=True, fmt=\".2%\", cmap=\"Purples\")\n",
    "plt.show()"
   ]
  },
  {
   "cell_type": "code",
   "execution_count": null,
   "metadata": {},
   "outputs": [],
   "source": []
  }
 ],
 "metadata": {
  "kernelspec": {
   "display_name": ".venv",
   "language": "python",
   "name": "python3"
  },
  "language_info": {
   "codemirror_mode": {
    "name": "ipython",
    "version": 3
   },
   "file_extension": ".py",
   "mimetype": "text/x-python",
   "name": "python",
   "nbconvert_exporter": "python",
   "pygments_lexer": "ipython3",
   "version": "3.10.12"
  }
 },
 "nbformat": 4,
 "nbformat_minor": 2
}
